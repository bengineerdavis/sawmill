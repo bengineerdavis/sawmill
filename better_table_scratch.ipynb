{
 "cells": [
  {
   "cell_type": "code",
   "execution_count": 7,
   "id": "b47424d5-32d5-47c4-99aa-22d54cc44df8",
   "metadata": {},
   "outputs": [],
   "source": [
    "from dataclasses import dataclass\n",
    "from typing import Any, Union, LiteralString\n",
    "import os"
   ]
  },
  {
   "cell_type": "code",
   "execution_count": null,
   "id": "24839a7b-be24-4a84-839a-c6191cbb9de9",
   "metadata": {},
   "outputs": [],
   "source": [
    "\"\"\"\n",
    "Design ideas and how I want the API to behave\n",
    "\n",
    "I want to build a python dictionary of lists separate from creating the dataframe, so I can switch dataframe libraries whenever I want.\n",
    "\n",
    "# First, I need to parse the raw_file into entries.\n",
    "entries.parse() internally might look something like this\n",
    "\n",
    "# generator inside of a comprehension pulls all of the chunks of text for each entry\n",
    "return [entry for entry in match(raw_file_data)]\n",
    "\n",
    "\"\"\""
   ]
  },
  {
   "cell_type": "code",
   "execution_count": null,
   "id": "6e400b21-d011-434d-b641-d32cd9761e26",
   "metadata": {},
   "outputs": [],
   "source": [
    "\n"
   ]
  },
  {
   "cell_type": "code",
   "execution_count": 10,
   "id": "67924ca2-7336-4bbe-b663-62a28157ff3d",
   "metadata": {},
   "outputs": [
    {
     "ename": "SyntaxError",
     "evalue": "invalid syntax (3294232417.py, line 32)",
     "output_type": "error",
     "traceback": [
      "\u001b[0;36m  Cell \u001b[0;32mIn[10], line 32\u001b[0;36m\u001b[0m\n\u001b[0;31m    self.extractor(self.extract_rules**, raw_data=raw_data)\u001b[0m\n\u001b[0m                                       ^\u001b[0m\n\u001b[0;31mSyntaxError\u001b[0m\u001b[0;31m:\u001b[0m invalid syntax\n"
     ]
    }
   ],
   "source": [
    "@dataclass\n",
    "class Column:\n",
    "    \"\"\"A class to represent a column in a table, with the column name and the type\n",
    "    of data it holds.\n",
    "    \n",
    "    Attributes:\n",
    "        name (str): The name of the column\n",
    "        data_type (Any): The type of data the column holds\n",
    "        parser: A function \n",
    "        parsing_rules dict[\"string\": Any]: A dict carrying the extractors keyword arguments to be fed into the function when used to extract data for that column\n",
    "\n",
    "    Returns:\n",
    "        An instance of the Column class\n",
    "\n",
    "    Example:\n",
    "        column = Column(\n",
    "            name=\"name\",\n",
    "            data_type=str,\n",
    "            parser=Parser.regex(),\n",
    "            parsing_rules={\"pattern\": r\"([A-Za-z]+)\"}\n",
    "        )\n",
    "        \n",
    "    \"\"\"\n",
    "\n",
    "    name: str\n",
    "    data_type: Any\n",
    "    parser: Parser\n",
    "    extract_rules: dict[str: Any]\n",
    "    \n",
    "\n",
    "    def extract(self, raw_data):\n",
    "        self.extractor(parse_rules=self.parse_rules, raw_data=raw_data)\n",
    "\n",
    "    def _convert_to_type(self, extracted_data)"
   ]
  },
  {
   "cell_type": "code",
   "execution_count": null,
   "id": "a7f59fa0-a345-485b-9d51-d61b02a5222b",
   "metadata": {},
   "outputs": [],
   "source": [
    "@dataclass\n",
    "class Schema:\n",
    "    \"\"\"An object the represents the rules for building a extracting data and inserting it\n",
    "    into a table that will eventually be part of an in-memory database.\n",
    "\n",
    "    This object is meant to provide a more developer-friendly API from which \n",
    "    to process the structure and data to be put into a given table.\n",
    "    \n",
    "    Attributes:\n",
    "        schema (dict[str, Any]): \n",
    "            A dictionary representing the schema of the table,\n",
    "            with the column names as keys and the types as values.\n",
    "\n",
    "            Psuedo example:\n",
    "            schema = {\n",
    "                'name': {\n",
    "                    'cast_to_type': str,\n",
    "                    '},\n",
    "                'age': int,\n",
    "                'is_student': bool\n",
    "            }\n",
    "\n",
    "    Returns:\n",
    "        An instance of the schema class\n",
    "    \"\"\"\n",
    "\n",
    "    schema: "
   ]
  },
  {
   "cell_type": "code",
   "execution_count": 2,
   "id": "68f7bb99-e7f9-4b2f-815b-0704e8a6bc85",
   "metadata": {},
   "outputs": [],
   "source": [
    "@dataclass\n",
    "class Table:\n",
    "    \"\"\"A class to represent a table and help assemble tabkles in an in-memory\n",
    "    database.\n",
    "    \n",
    "    Attributes:\n",
    "        db_path (str): \n",
    "            The path to the database file\n",
    "        schema (Schema):\n",
    "        table (dict[str, list[Any]]): A dictionary representing the table, with the\n",
    "            column names as keys and the values as lists.\n",
    "\n",
    "    Returns:\n",
    "        An instance of the Table class, that can be used to build a table in the database.\n",
    "    \"\"\"\n",
    "\n",
    "    db_path: str\n",
    "    schema: Schema\n",
    "    table: dict[str, list[Any]]\n",
    "\n",
    "    def __post_init__(self):\n",
    "        self.columns = [key for key in self.schema.keys()]\n",
    "        self._build_attrs(self.columns)\n",
    "\n",
    "    def build(self, file_path: Union[os.PathLike, str]):\n",
    "        \"\"\"Build the a dictionary representing the table, using the attributes\n",
    "        representing column names and their accompanying list of values as each key:\n",
    "        value pair.\n",
    "\n",
    "        From the schema, also recast the values in the table to the appropriate type, as\n",
    "        defined in the values of self.schema.\n",
    "        \n",
    "        Args:\n",
    "            file_path (Union[os.PathLike, str]): The path to the file to be read and\n",
    "            processed.\n",
    "\n",
    "        Returns:\n",
    "            dict: The dictionary , with all list values appropriately recasted to the\n",
    "            schema-declared types, to be used as an object assemble a dataframe\n",
    "        \"\"\"\n",
    "\n",
    "        for column in self.columns:\n",
    "            type_caster = self.schema[column]\n",
    "            values = [type_caster(value) for value in getattr(self, column)]\n",
    "            self.table[column] = values\n",
    "\n",
    "    def _build_attrs(self, attr_names: list[str]):\n",
    "        \"\"\"Insert all column names from the schema as attributes to the class instance\"\"\"\n",
    "        for attr in attr_names:\n",
    "            setattr(self, attr, [])\n"
   ]
  },
  {
   "cell_type": "code",
   "execution_count": 3,
   "id": "21d0dccd-6f5f-408e-be03-6bf89313ff92",
   "metadata": {},
   "outputs": [],
   "source": [
    "schema = {\n",
    "    \"first_name\": str,\n",
    "    \"last_name\": str,\n",
    "}\n",
    "\n",
    "data ="
   ]
  },
  {
   "cell_type": "code",
   "execution_count": 14,
   "id": "d0d16234-e15e-4a23-9418-34559b38d16a",
   "metadata": {},
   "outputs": [
    {
     "name": "stdout",
     "output_type": "stream",
     "text": [
      " HEY HOW ARE YOU\n",
      "\n",
      "     I AM FINE\n",
      "\n",
      "\n"
     ]
    }
   ],
   "source": [
    "# source: https://stackoverflow.com/questions/39443427/extract-multiple-lines-from-a-file-using-regular-expressions-in-python\n",
    "\n",
    "s = \"\"\"13:45:09 HEY HOW ARE YOU\n",
    "\n",
    "     I AM FINE\n",
    "\n",
    "13:50:10 OK THEN\n",
    "\n",
    "     Bye\"\"\"\n",
    "\n",
    "import re\n",
    "\n",
    "m = re.search(r'^\\d\\d:\\d\\d:\\d\\d(.*?)(?=\\d\\d:\\d\\d:\\d\\d)', s, re.I + re.M + re.S)\n",
    "print(m.groups()[0])"
   ]
  },
  {
   "cell_type": "code",
   "execution_count": 16,
   "id": "78e24e1b-7a96-44e0-8fc5-804377456e87",
   "metadata": {},
   "outputs": [
    {
     "name": "stdout",
     "output_type": "stream",
     "text": [
      " HEY HOW ARE YOU\n",
      "\n",
      "     I AM FINE\n",
      "\n",
      "\n"
     ]
    }
   ],
   "source": [
    "import re\n",
    "\n",
    "m = re.search(r'(?<=\\d\\d:\\d\\d:\\d\\d)(.*?)(?=\\d\\d:\\d\\d:\\d\\d)', s, re.DOTALL).group()\n",
    "print(m)"
   ]
  },
  {
   "cell_type": "code",
   "execution_count": 46,
   "id": "25ec0657-5174-49ca-acee-9c694f676273",
   "metadata": {},
   "outputs": [
    {
     "name": "stdout",
     "output_type": "stream",
     "text": [
      "\n",
      "\n"
     ]
    },
    {
     "data": {
      "text/html": [
       "<pre style=\"white-space:pre;overflow-x:auto;line-height:normal;font-family:Menlo,'DejaVu Sans Mono',consolas,'Courier New',monospace\"><span style=\"color: #008080; text-decoration-color: #008080; font-weight: bold\">2024</span>-<span style=\"color: #008080; text-decoration-color: #008080; font-weight: bold\">03</span>-<span style=\"color: #008080; text-decoration-color: #008080; font-weight: bold\">09</span> <span style=\"color: #00ff00; text-decoration-color: #00ff00; font-weight: bold\">11:01:25</span> INFO <span style=\"color: #800080; text-decoration-color: #800080; font-weight: bold\">i.a.w.t.TemporalAttemptExecution</span><span style=\"font-weight: bold\">(</span>get<span style=\"font-weight: bold\">)</span>:<span style=\"color: #008080; text-decoration-color: #008080; font-weight: bold\">126</span> - Cloud storage job log path: \n",
       "<span style=\"color: #800080; text-decoration-color: #800080\">/workspace/10344/0/</span><span style=\"color: #ff00ff; text-decoration-color: #ff00ff\">logs.log</span>\n",
       "</pre>\n"
      ],
      "text/plain": [
       "\u001b[1;36m2024\u001b[0m-\u001b[1;36m03\u001b[0m-\u001b[1;36m09\u001b[0m \u001b[1;92m11:01:25\u001b[0m INFO \u001b[1;35mi.a.w.t.TemporalAttemptExecution\u001b[0m\u001b[1m(\u001b[0mget\u001b[1m)\u001b[0m:\u001b[1;36m126\u001b[0m - Cloud storage job log path: \n",
       "\u001b[35m/workspace/10344/0/\u001b[0m\u001b[95mlogs.log\u001b[0m\n"
      ]
     },
     "metadata": {},
     "output_type": "display_data"
    },
    {
     "name": "stdout",
     "output_type": "stream",
     "text": [
      "\n",
      "\n"
     ]
    },
    {
     "data": {
      "text/html": [
       "<pre style=\"white-space:pre;overflow-x:auto;line-height:normal;font-family:Menlo,'DejaVu Sans Mono',consolas,'Courier New',monospace\"><span style=\"color: #008080; text-decoration-color: #008080; font-weight: bold\">2024</span>-<span style=\"color: #008080; text-decoration-color: #008080; font-weight: bold\">03</span>-<span style=\"color: #008080; text-decoration-color: #008080; font-weight: bold\">09</span> <span style=\"color: #00ff00; text-decoration-color: #00ff00; font-weight: bold\">11:01:25</span> INFO <span style=\"color: #800080; text-decoration-color: #800080; font-weight: bold\">i.a.w.t.TemporalAttemptExecution</span><span style=\"font-weight: bold\">(</span>get<span style=\"font-weight: bold\">)</span>:<span style=\"color: #008080; text-decoration-color: #008080; font-weight: bold\">129</span> - Executing worker wrapper. Airbyte version: \n",
       "<span style=\"color: #008080; text-decoration-color: #008080; font-weight: bold\">0.50</span>.<span style=\"color: #008080; text-decoration-color: #008080; font-weight: bold\">33</span>\n",
       "</pre>\n"
      ],
      "text/plain": [
       "\u001b[1;36m2024\u001b[0m-\u001b[1;36m03\u001b[0m-\u001b[1;36m09\u001b[0m \u001b[1;92m11:01:25\u001b[0m INFO \u001b[1;35mi.a.w.t.TemporalAttemptExecution\u001b[0m\u001b[1m(\u001b[0mget\u001b[1m)\u001b[0m:\u001b[1;36m129\u001b[0m - Executing worker wrapper. Airbyte version: \n",
       "\u001b[1;36m0.50\u001b[0m.\u001b[1;36m33\u001b[0m\n"
      ]
     },
     "metadata": {},
     "output_type": "display_data"
    },
    {
     "name": "stdout",
     "output_type": "stream",
     "text": [
      "\n",
      "\n"
     ]
    },
    {
     "data": {
      "text/html": [
       "<pre style=\"white-space:pre;overflow-x:auto;line-height:normal;font-family:Menlo,'DejaVu Sans Mono',consolas,'Courier New',monospace\"><span style=\"color: #008080; text-decoration-color: #008080; font-weight: bold\">2024</span>-<span style=\"color: #008080; text-decoration-color: #008080; font-weight: bold\">03</span>-<span style=\"color: #008080; text-decoration-color: #008080; font-weight: bold\">09</span> <span style=\"color: #00ff00; text-decoration-color: #00ff00; font-weight: bold\">11:01:25</span> INFO <span style=\"color: #800080; text-decoration-color: #800080; font-weight: bold\">i.a.a.c.AirbyteApiClient</span><span style=\"font-weight: bold\">(</span>retryWithJitterThrows<span style=\"font-weight: bold\">)</span>:<span style=\"color: #008080; text-decoration-color: #008080; font-weight: bold\">290</span> - Attempt <span style=\"color: #008080; text-decoration-color: #008080; font-weight: bold\">0</span> to save workflow id for \n",
       "cancellation\n",
       "</pre>\n"
      ],
      "text/plain": [
       "\u001b[1;36m2024\u001b[0m-\u001b[1;36m03\u001b[0m-\u001b[1;36m09\u001b[0m \u001b[1;92m11:01:25\u001b[0m INFO \u001b[1;35mi.a.a.c.AirbyteApiClient\u001b[0m\u001b[1m(\u001b[0mretryWithJitterThrows\u001b[1m)\u001b[0m:\u001b[1;36m290\u001b[0m - Attempt \u001b[1;36m0\u001b[0m to save workflow id for \n",
       "cancellation\n"
      ]
     },
     "metadata": {},
     "output_type": "display_data"
    },
    {
     "name": "stdout",
     "output_type": "stream",
     "text": [
      "\n",
      "\n"
     ]
    },
    {
     "data": {
      "text/html": [
       "<pre style=\"white-space:pre;overflow-x:auto;line-height:normal;font-family:Menlo,'DejaVu Sans Mono',consolas,'Courier New',monospace\"><span style=\"color: #008080; text-decoration-color: #008080; font-weight: bold\">2024</span>-<span style=\"color: #008080; text-decoration-color: #008080; font-weight: bold\">03</span>-<span style=\"color: #008080; text-decoration-color: #008080; font-weight: bold\">09</span> <span style=\"color: #00ff00; text-decoration-color: #00ff00; font-weight: bold\">11:01:25</span> INFO <span style=\"color: #800080; text-decoration-color: #800080; font-weight: bold\">i.a.w.g.BufferedReplicationWorker</span><span style=\"font-weight: bold\">(</span>run<span style=\"font-weight: bold\">)</span>:<span style=\"color: #008080; text-decoration-color: #008080; font-weight: bold\">152</span> - start sync worker. job id: <span style=\"color: #008080; text-decoration-color: #008080; font-weight: bold\">10344</span> attempt id: \n",
       "<span style=\"color: #008080; text-decoration-color: #008080; font-weight: bold\">0</span>\n",
       "</pre>\n"
      ],
      "text/plain": [
       "\u001b[1;36m2024\u001b[0m-\u001b[1;36m03\u001b[0m-\u001b[1;36m09\u001b[0m \u001b[1;92m11:01:25\u001b[0m INFO \u001b[1;35mi.a.w.g.BufferedReplicationWorker\u001b[0m\u001b[1m(\u001b[0mrun\u001b[1m)\u001b[0m:\u001b[1;36m152\u001b[0m - start sync worker. job id: \u001b[1;36m10344\u001b[0m attempt id: \n",
       "\u001b[1;36m0\u001b[0m\n"
      ]
     },
     "metadata": {},
     "output_type": "display_data"
    },
    {
     "name": "stdout",
     "output_type": "stream",
     "text": [
      "\n",
      "\n"
     ]
    },
    {
     "data": {
      "text/html": [
       "<pre style=\"white-space:pre;overflow-x:auto;line-height:normal;font-family:Menlo,'DejaVu Sans Mono',consolas,'Courier New',monospace\"><span style=\"color: #008080; text-decoration-color: #008080; font-weight: bold\">2024</span>-<span style=\"color: #008080; text-decoration-color: #008080; font-weight: bold\">03</span>-<span style=\"color: #008080; text-decoration-color: #008080; font-weight: bold\">09</span> <span style=\"color: #00ff00; text-decoration-color: #00ff00; font-weight: bold\">11:01:25</span> INFO <span style=\"color: #800080; text-decoration-color: #800080; font-weight: bold\">i.a.c.i.LineGobbler</span><span style=\"font-weight: bold\">(</span>voidCall<span style=\"font-weight: bold\">)</span>:<span style=\"color: #008080; text-decoration-color: #008080; font-weight: bold\">149</span> - \n",
       "</pre>\n"
      ],
      "text/plain": [
       "\u001b[1;36m2024\u001b[0m-\u001b[1;36m03\u001b[0m-\u001b[1;36m09\u001b[0m \u001b[1;92m11:01:25\u001b[0m INFO \u001b[1;35mi.a.c.i.LineGobbler\u001b[0m\u001b[1m(\u001b[0mvoidCall\u001b[1m)\u001b[0m:\u001b[1;36m149\u001b[0m - \n"
      ]
     },
     "metadata": {},
     "output_type": "display_data"
    },
    {
     "name": "stdout",
     "output_type": "stream",
     "text": [
      "\n",
      "\n"
     ]
    },
    {
     "data": {
      "text/html": [
       "<pre style=\"white-space:pre;overflow-x:auto;line-height:normal;font-family:Menlo,'DejaVu Sans Mono',consolas,'Courier New',monospace\"><span style=\"color: #008080; text-decoration-color: #008080; font-weight: bold\">2024</span>-<span style=\"color: #008080; text-decoration-color: #008080; font-weight: bold\">03</span>-<span style=\"color: #008080; text-decoration-color: #008080; font-weight: bold\">09</span> <span style=\"color: #00ff00; text-decoration-color: #00ff00; font-weight: bold\">11:01:25</span> INFO <span style=\"color: #800080; text-decoration-color: #800080; font-weight: bold\">i.a.c.i.LineGobbler</span><span style=\"font-weight: bold\">(</span>voidCall<span style=\"font-weight: bold\">)</span>:<span style=\"color: #008080; text-decoration-color: #008080; font-weight: bold\">149</span> - ----- START REPLICATION -----\n",
       "</pre>\n"
      ],
      "text/plain": [
       "\u001b[1;36m2024\u001b[0m-\u001b[1;36m03\u001b[0m-\u001b[1;36m09\u001b[0m \u001b[1;92m11:01:25\u001b[0m INFO \u001b[1;35mi.a.c.i.LineGobbler\u001b[0m\u001b[1m(\u001b[0mvoidCall\u001b[1m)\u001b[0m:\u001b[1;36m149\u001b[0m - ----- START REPLICATION -----\n"
      ]
     },
     "metadata": {},
     "output_type": "display_data"
    },
    {
     "name": "stdout",
     "output_type": "stream",
     "text": [
      "\n",
      "\n"
     ]
    },
    {
     "data": {
      "text/html": [
       "<pre style=\"white-space:pre;overflow-x:auto;line-height:normal;font-family:Menlo,'DejaVu Sans Mono',consolas,'Courier New',monospace\"><span style=\"color: #008080; text-decoration-color: #008080; font-weight: bold\">2024</span>-<span style=\"color: #008080; text-decoration-color: #008080; font-weight: bold\">03</span>-<span style=\"color: #008080; text-decoration-color: #008080; font-weight: bold\">09</span> <span style=\"color: #00ff00; text-decoration-color: #00ff00; font-weight: bold\">11:01:25</span> INFO <span style=\"color: #800080; text-decoration-color: #800080; font-weight: bold\">i.a.c.i.LineGobbler</span><span style=\"font-weight: bold\">(</span>voidCall<span style=\"font-weight: bold\">)</span>:<span style=\"color: #008080; text-decoration-color: #008080; font-weight: bold\">149</span> - \n",
       "</pre>\n"
      ],
      "text/plain": [
       "\u001b[1;36m2024\u001b[0m-\u001b[1;36m03\u001b[0m-\u001b[1;36m09\u001b[0m \u001b[1;92m11:01:25\u001b[0m INFO \u001b[1;35mi.a.c.i.LineGobbler\u001b[0m\u001b[1m(\u001b[0mvoidCall\u001b[1m)\u001b[0m:\u001b[1;36m149\u001b[0m - \n"
      ]
     },
     "metadata": {},
     "output_type": "display_data"
    },
    {
     "name": "stdout",
     "output_type": "stream",
     "text": [
      "\n",
      "\n"
     ]
    },
    {
     "data": {
      "text/html": [
       "<pre style=\"white-space:pre;overflow-x:auto;line-height:normal;font-family:Menlo,'DejaVu Sans Mono',consolas,'Courier New',monospace\"><span style=\"color: #008080; text-decoration-color: #008080; font-weight: bold\">2024</span>-<span style=\"color: #008080; text-decoration-color: #008080; font-weight: bold\">03</span>-<span style=\"color: #008080; text-decoration-color: #008080; font-weight: bold\">09</span> <span style=\"color: #00ff00; text-decoration-color: #00ff00; font-weight: bold\">11:01:25</span> INFO <span style=\"color: #800080; text-decoration-color: #800080; font-weight: bold\">i.a.w.i.DefaultAirbyteDestination</span><span style=\"font-weight: bold\">(</span>start<span style=\"font-weight: bold\">)</span>:<span style=\"color: #008080; text-decoration-color: #008080; font-weight: bold\">92</span> - Running destination<span style=\"color: #808000; text-decoration-color: #808000\">...</span>\n",
       "</pre>\n"
      ],
      "text/plain": [
       "\u001b[1;36m2024\u001b[0m-\u001b[1;36m03\u001b[0m-\u001b[1;36m09\u001b[0m \u001b[1;92m11:01:25\u001b[0m INFO \u001b[1;35mi.a.w.i.DefaultAirbyteDestination\u001b[0m\u001b[1m(\u001b[0mstart\u001b[1m)\u001b[0m:\u001b[1;36m92\u001b[0m - Running destination\u001b[33m...\u001b[0m\n"
      ]
     },
     "metadata": {},
     "output_type": "display_data"
    },
    {
     "name": "stdout",
     "output_type": "stream",
     "text": [
      "\n",
      "\n"
     ]
    },
    {
     "data": {
      "text/html": [
       "<pre style=\"white-space:pre;overflow-x:auto;line-height:normal;font-family:Menlo,'DejaVu Sans Mono',consolas,'Courier New',monospace\"><span style=\"color: #008080; text-decoration-color: #008080; font-weight: bold\">2024</span>-<span style=\"color: #008080; text-decoration-color: #008080; font-weight: bold\">03</span>-<span style=\"color: #008080; text-decoration-color: #008080; font-weight: bold\">09</span> <span style=\"color: #00ff00; text-decoration-color: #00ff00; font-weight: bold\">11:01:25</span> INFO <span style=\"color: #800080; text-decoration-color: #800080; font-weight: bold\">i.a.c.EnvConfigs</span><span style=\"font-weight: bold\">(</span>getEnvOrDefault<span style=\"font-weight: bold\">)</span>:<span style=\"color: #008080; text-decoration-color: #008080; font-weight: bold\">1158</span> - Using default value for environment variable \n",
       "SIDECAR_KUBE_CPU_LIMIT: <span style=\"color: #008000; text-decoration-color: #008000\">'2.0'</span>\n",
       "</pre>\n"
      ],
      "text/plain": [
       "\u001b[1;36m2024\u001b[0m-\u001b[1;36m03\u001b[0m-\u001b[1;36m09\u001b[0m \u001b[1;92m11:01:25\u001b[0m INFO \u001b[1;35mi.a.c.EnvConfigs\u001b[0m\u001b[1m(\u001b[0mgetEnvOrDefault\u001b[1m)\u001b[0m:\u001b[1;36m1158\u001b[0m - Using default value for environment variable \n",
       "SIDECAR_KUBE_CPU_LIMIT: \u001b[32m'2.0'\u001b[0m\n"
      ]
     },
     "metadata": {},
     "output_type": "display_data"
    },
    {
     "name": "stdout",
     "output_type": "stream",
     "text": [
      "\n",
      "\n"
     ]
    },
    {
     "data": {
      "text/html": [
       "<pre style=\"white-space:pre;overflow-x:auto;line-height:normal;font-family:Menlo,'DejaVu Sans Mono',consolas,'Courier New',monospace\"><span style=\"color: #008080; text-decoration-color: #008080; font-weight: bold\">2024</span>-<span style=\"color: #008080; text-decoration-color: #008080; font-weight: bold\">03</span>-<span style=\"color: #008080; text-decoration-color: #008080; font-weight: bold\">09</span> <span style=\"color: #00ff00; text-decoration-color: #00ff00; font-weight: bold\">11:01:25</span> INFO <span style=\"color: #800080; text-decoration-color: #800080; font-weight: bold\">i.a.c.EnvConfigs</span><span style=\"font-weight: bold\">(</span>getEnvOrDefault<span style=\"font-weight: bold\">)</span>:<span style=\"color: #008080; text-decoration-color: #008080; font-weight: bold\">1158</span> - Using default value for environment variable \n",
       "SIDECAR_KUBE_CPU_LIMIT: <span style=\"color: #008000; text-decoration-color: #008000\">'2.0'</span>\n",
       "</pre>\n"
      ],
      "text/plain": [
       "\u001b[1;36m2024\u001b[0m-\u001b[1;36m03\u001b[0m-\u001b[1;36m09\u001b[0m \u001b[1;92m11:01:25\u001b[0m INFO \u001b[1;35mi.a.c.EnvConfigs\u001b[0m\u001b[1m(\u001b[0mgetEnvOrDefault\u001b[1m)\u001b[0m:\u001b[1;36m1158\u001b[0m - Using default value for environment variable \n",
       "SIDECAR_KUBE_CPU_LIMIT: \u001b[32m'2.0'\u001b[0m\n"
      ]
     },
     "metadata": {},
     "output_type": "display_data"
    },
    {
     "name": "stdout",
     "output_type": "stream",
     "text": [
      "\n",
      "\n"
     ]
    },
    {
     "data": {
      "text/html": [
       "<pre style=\"white-space:pre;overflow-x:auto;line-height:normal;font-family:Menlo,'DejaVu Sans Mono',consolas,'Courier New',monospace\"><span style=\"color: #008080; text-decoration-color: #008080; font-weight: bold\">2024</span>-<span style=\"color: #008080; text-decoration-color: #008080; font-weight: bold\">03</span>-<span style=\"color: #008080; text-decoration-color: #008080; font-weight: bold\">09</span> <span style=\"color: #00ff00; text-decoration-color: #00ff00; font-weight: bold\">11:01:25</span> INFO <span style=\"color: #800080; text-decoration-color: #800080; font-weight: bold\">i.a.c.EnvConfigs</span><span style=\"font-weight: bold\">(</span>getEnvOrDefault<span style=\"font-weight: bold\">)</span>:<span style=\"color: #008080; text-decoration-color: #008080; font-weight: bold\">1158</span> - Using default value for environment variable \n",
       "SOCAT_KUBE_CPU_LIMIT: <span style=\"color: #008000; text-decoration-color: #008000\">'2.0'</span>\n",
       "</pre>\n"
      ],
      "text/plain": [
       "\u001b[1;36m2024\u001b[0m-\u001b[1;36m03\u001b[0m-\u001b[1;36m09\u001b[0m \u001b[1;92m11:01:25\u001b[0m INFO \u001b[1;35mi.a.c.EnvConfigs\u001b[0m\u001b[1m(\u001b[0mgetEnvOrDefault\u001b[1m)\u001b[0m:\u001b[1;36m1158\u001b[0m - Using default value for environment variable \n",
       "SOCAT_KUBE_CPU_LIMIT: \u001b[32m'2.0'\u001b[0m\n"
      ]
     },
     "metadata": {},
     "output_type": "display_data"
    },
    {
     "name": "stdout",
     "output_type": "stream",
     "text": [
      "\n",
      "\n"
     ]
    },
    {
     "data": {
      "text/html": [
       "<pre style=\"white-space:pre;overflow-x:auto;line-height:normal;font-family:Menlo,'DejaVu Sans Mono',consolas,'Courier New',monospace\"><span style=\"color: #008080; text-decoration-color: #008080; font-weight: bold\">2024</span>-<span style=\"color: #008080; text-decoration-color: #008080; font-weight: bold\">03</span>-<span style=\"color: #008080; text-decoration-color: #008080; font-weight: bold\">09</span> <span style=\"color: #00ff00; text-decoration-color: #00ff00; font-weight: bold\">11:01:25</span> INFO <span style=\"color: #800080; text-decoration-color: #800080; font-weight: bold\">i.a.c.EnvConfigs</span><span style=\"font-weight: bold\">(</span>getEnvOrDefault<span style=\"font-weight: bold\">)</span>:<span style=\"color: #008080; text-decoration-color: #008080; font-weight: bold\">1158</span> - Using default value for environment variable \n",
       "SOCAT_KUBE_CPU_LIMIT: <span style=\"color: #008000; text-decoration-color: #008000\">'2.0'</span>\n",
       "</pre>\n"
      ],
      "text/plain": [
       "\u001b[1;36m2024\u001b[0m-\u001b[1;36m03\u001b[0m-\u001b[1;36m09\u001b[0m \u001b[1;92m11:01:25\u001b[0m INFO \u001b[1;35mi.a.c.EnvConfigs\u001b[0m\u001b[1m(\u001b[0mgetEnvOrDefault\u001b[1m)\u001b[0m:\u001b[1;36m1158\u001b[0m - Using default value for environment variable \n",
       "SOCAT_KUBE_CPU_LIMIT: \u001b[32m'2.0'\u001b[0m\n"
      ]
     },
     "metadata": {},
     "output_type": "display_data"
    },
    {
     "name": "stdout",
     "output_type": "stream",
     "text": [
      "\n",
      "\n"
     ]
    },
    {
     "data": {
      "text/html": [
       "<pre style=\"white-space:pre;overflow-x:auto;line-height:normal;font-family:Menlo,'DejaVu Sans Mono',consolas,'Courier New',monospace\"><span style=\"color: #008080; text-decoration-color: #008080; font-weight: bold\">2024</span>-<span style=\"color: #008080; text-decoration-color: #008080; font-weight: bold\">03</span>-<span style=\"color: #008080; text-decoration-color: #008080; font-weight: bold\">09</span> <span style=\"color: #00ff00; text-decoration-color: #00ff00; font-weight: bold\">11:01:25</span> INFO <span style=\"color: #800080; text-decoration-color: #800080; font-weight: bold\">i.a.c.EnvConfigs</span><span style=\"font-weight: bold\">(</span>getEnvOrDefault<span style=\"font-weight: bold\">)</span>:<span style=\"color: #008080; text-decoration-color: #008080; font-weight: bold\">1158</span> - Using default value for environment variable \n",
       "SIDECAR_KUBE_CPU_REQUEST: <span style=\"color: #008000; text-decoration-color: #008000\">'0.1'</span>\n",
       "</pre>\n"
      ],
      "text/plain": [
       "\u001b[1;36m2024\u001b[0m-\u001b[1;36m03\u001b[0m-\u001b[1;36m09\u001b[0m \u001b[1;92m11:01:25\u001b[0m INFO \u001b[1;35mi.a.c.EnvConfigs\u001b[0m\u001b[1m(\u001b[0mgetEnvOrDefault\u001b[1m)\u001b[0m:\u001b[1;36m1158\u001b[0m - Using default value for environment variable \n",
       "SIDECAR_KUBE_CPU_REQUEST: \u001b[32m'0.1'\u001b[0m\n"
      ]
     },
     "metadata": {},
     "output_type": "display_data"
    },
    {
     "name": "stdout",
     "output_type": "stream",
     "text": [
      "\n",
      "\n"
     ]
    },
    {
     "data": {
      "text/html": [
       "<pre style=\"white-space:pre;overflow-x:auto;line-height:normal;font-family:Menlo,'DejaVu Sans Mono',consolas,'Courier New',monospace\"><span style=\"color: #008080; text-decoration-color: #008080; font-weight: bold\">2024</span>-<span style=\"color: #008080; text-decoration-color: #008080; font-weight: bold\">03</span>-<span style=\"color: #008080; text-decoration-color: #008080; font-weight: bold\">09</span> <span style=\"color: #00ff00; text-decoration-color: #00ff00; font-weight: bold\">11:01:25</span> INFO <span style=\"color: #800080; text-decoration-color: #800080; font-weight: bold\">i.a.c.EnvConfigs</span><span style=\"font-weight: bold\">(</span>getEnvOrDefault<span style=\"font-weight: bold\">)</span>:<span style=\"color: #008080; text-decoration-color: #008080; font-weight: bold\">1158</span> - Using default value for environment variable \n",
       "SOCAT_KUBE_CPU_REQUEST: <span style=\"color: #008000; text-decoration-color: #008000\">'0.1'</span>\n",
       "</pre>\n"
      ],
      "text/plain": [
       "\u001b[1;36m2024\u001b[0m-\u001b[1;36m03\u001b[0m-\u001b[1;36m09\u001b[0m \u001b[1;92m11:01:25\u001b[0m INFO \u001b[1;35mi.a.c.EnvConfigs\u001b[0m\u001b[1m(\u001b[0mgetEnvOrDefault\u001b[1m)\u001b[0m:\u001b[1;36m1158\u001b[0m - Using default value for environment variable \n",
       "SOCAT_KUBE_CPU_REQUEST: \u001b[32m'0.1'\u001b[0m\n"
      ]
     },
     "metadata": {},
     "output_type": "display_data"
    },
    {
     "name": "stdout",
     "output_type": "stream",
     "text": [
      "\n",
      "\n"
     ]
    },
    {
     "data": {
      "text/html": [
       "<pre style=\"white-space:pre;overflow-x:auto;line-height:normal;font-family:Menlo,'DejaVu Sans Mono',consolas,'Courier New',monospace\"><span style=\"color: #008080; text-decoration-color: #008080; font-weight: bold\">2024</span>-<span style=\"color: #008080; text-decoration-color: #008080; font-weight: bold\">03</span>-<span style=\"color: #008080; text-decoration-color: #008080; font-weight: bold\">09</span> <span style=\"color: #00ff00; text-decoration-color: #00ff00; font-weight: bold\">11:01:25</span> INFO <span style=\"color: #800080; text-decoration-color: #800080; font-weight: bold\">i.a.c.EnvConfigs</span><span style=\"font-weight: bold\">(</span>getEnvOrDefault<span style=\"font-weight: bold\">)</span>:<span style=\"color: #008080; text-decoration-color: #008080; font-weight: bold\">1158</span> - Using default value for environment variable \n",
       "SIDECAR_KUBE_CPU_REQUEST: <span style=\"color: #008000; text-decoration-color: #008000\">'0.1'</span>\n",
       "</pre>\n"
      ],
      "text/plain": [
       "\u001b[1;36m2024\u001b[0m-\u001b[1;36m03\u001b[0m-\u001b[1;36m09\u001b[0m \u001b[1;92m11:01:25\u001b[0m INFO \u001b[1;35mi.a.c.EnvConfigs\u001b[0m\u001b[1m(\u001b[0mgetEnvOrDefault\u001b[1m)\u001b[0m:\u001b[1;36m1158\u001b[0m - Using default value for environment variable \n",
       "SIDECAR_KUBE_CPU_REQUEST: \u001b[32m'0.1'\u001b[0m\n"
      ]
     },
     "metadata": {},
     "output_type": "display_data"
    },
    {
     "name": "stdout",
     "output_type": "stream",
     "text": [
      "\n",
      "\n"
     ]
    },
    {
     "data": {
      "text/html": [
       "<pre style=\"white-space:pre;overflow-x:auto;line-height:normal;font-family:Menlo,'DejaVu Sans Mono',consolas,'Courier New',monospace\"><span style=\"color: #008080; text-decoration-color: #008080; font-weight: bold\">2024</span>-<span style=\"color: #008080; text-decoration-color: #008080; font-weight: bold\">03</span>-<span style=\"color: #008080; text-decoration-color: #008080; font-weight: bold\">09</span> <span style=\"color: #00ff00; text-decoration-color: #00ff00; font-weight: bold\">11:01:25</span> INFO <span style=\"color: #800080; text-decoration-color: #800080; font-weight: bold\">i.a.c.EnvConfigs</span><span style=\"font-weight: bold\">(</span>getEnvOrDefault<span style=\"font-weight: bold\">)</span>:<span style=\"color: #008080; text-decoration-color: #008080; font-weight: bold\">1158</span> - Using default value for environment variable \n",
       "SOCAT_KUBE_CPU_REQUEST: <span style=\"color: #008000; text-decoration-color: #008000\">'0.1'</span>\n",
       "</pre>\n"
      ],
      "text/plain": [
       "\u001b[1;36m2024\u001b[0m-\u001b[1;36m03\u001b[0m-\u001b[1;36m09\u001b[0m \u001b[1;92m11:01:25\u001b[0m INFO \u001b[1;35mi.a.c.EnvConfigs\u001b[0m\u001b[1m(\u001b[0mgetEnvOrDefault\u001b[1m)\u001b[0m:\u001b[1;36m1158\u001b[0m - Using default value for environment variable \n",
       "SOCAT_KUBE_CPU_REQUEST: \u001b[32m'0.1'\u001b[0m\n"
      ]
     },
     "metadata": {},
     "output_type": "display_data"
    },
    {
     "name": "stdout",
     "output_type": "stream",
     "text": [
      "\n",
      "\n"
     ]
    },
    {
     "data": {
      "text/html": [
       "<pre style=\"white-space:pre;overflow-x:auto;line-height:normal;font-family:Menlo,'DejaVu Sans Mono',consolas,'Courier New',monospace\"><span style=\"color: #008080; text-decoration-color: #008080; font-weight: bold\">2024</span>-<span style=\"color: #008080; text-decoration-color: #008080; font-weight: bold\">03</span>-<span style=\"color: #008080; text-decoration-color: #008080; font-weight: bold\">09</span> <span style=\"color: #00ff00; text-decoration-color: #00ff00; font-weight: bold\">11:01:25</span> INFO <span style=\"color: #800080; text-decoration-color: #800080; font-weight: bold\">i.a.c.EnvConfigs</span><span style=\"font-weight: bold\">(</span>getEnvOrDefault<span style=\"font-weight: bold\">)</span>:<span style=\"color: #008080; text-decoration-color: #008080; font-weight: bold\">1158</span> - Using default value for environment variable \n",
       "LAUNCHDARKLY_KEY: <span style=\"color: #008000; text-decoration-color: #008000\">''</span>\n",
       "</pre>\n"
      ],
      "text/plain": [
       "\u001b[1;36m2024\u001b[0m-\u001b[1;36m03\u001b[0m-\u001b[1;36m09\u001b[0m \u001b[1;92m11:01:25\u001b[0m INFO \u001b[1;35mi.a.c.EnvConfigs\u001b[0m\u001b[1m(\u001b[0mgetEnvOrDefault\u001b[1m)\u001b[0m:\u001b[1;36m1158\u001b[0m - Using default value for environment variable \n",
       "LAUNCHDARKLY_KEY: \u001b[32m''\u001b[0m\n"
      ]
     },
     "metadata": {},
     "output_type": "display_data"
    },
    {
     "name": "stdout",
     "output_type": "stream",
     "text": [
      "\n",
      "\n"
     ]
    },
    {
     "data": {
      "text/html": [
       "<pre style=\"white-space:pre;overflow-x:auto;line-height:normal;font-family:Menlo,'DejaVu Sans Mono',consolas,'Courier New',monospace\"><span style=\"color: #008080; text-decoration-color: #008080; font-weight: bold\">2024</span>-<span style=\"color: #008080; text-decoration-color: #008080; font-weight: bold\">03</span>-<span style=\"color: #008080; text-decoration-color: #008080; font-weight: bold\">09</span> <span style=\"color: #00ff00; text-decoration-color: #00ff00; font-weight: bold\">11:01:25</span> INFO <span style=\"color: #800080; text-decoration-color: #800080; font-weight: bold\">i.a.c.EnvConfigs</span><span style=\"font-weight: bold\">(</span>getEnvOrDefault<span style=\"font-weight: bold\">)</span>:<span style=\"color: #008080; text-decoration-color: #008080; font-weight: bold\">1158</span> - Using default value for environment variable \n",
       "LAUNCHDARKLY_KEY: <span style=\"color: #008000; text-decoration-color: #008000\">''</span>\n",
       "</pre>\n"
      ],
      "text/plain": [
       "\u001b[1;36m2024\u001b[0m-\u001b[1;36m03\u001b[0m-\u001b[1;36m09\u001b[0m \u001b[1;92m11:01:25\u001b[0m INFO \u001b[1;35mi.a.c.EnvConfigs\u001b[0m\u001b[1m(\u001b[0mgetEnvOrDefault\u001b[1m)\u001b[0m:\u001b[1;36m1158\u001b[0m - Using default value for environment variable \n",
       "LAUNCHDARKLY_KEY: \u001b[32m''\u001b[0m\n"
      ]
     },
     "metadata": {},
     "output_type": "display_data"
    },
    {
     "name": "stdout",
     "output_type": "stream",
     "text": [
      "\n",
      "\n"
     ]
    },
    {
     "data": {
      "text/html": [
       "<pre style=\"white-space:pre;overflow-x:auto;line-height:normal;font-family:Menlo,'DejaVu Sans Mono',consolas,'Courier New',monospace\"><span style=\"color: #008080; text-decoration-color: #008080; font-weight: bold\">2024</span>-<span style=\"color: #008080; text-decoration-color: #008080; font-weight: bold\">03</span>-<span style=\"color: #008080; text-decoration-color: #008080; font-weight: bold\">09</span> <span style=\"color: #00ff00; text-decoration-color: #00ff00; font-weight: bold\">11:01:25</span> INFO <span style=\"color: #800080; text-decoration-color: #800080; font-weight: bold\">i.a.c.EnvConfigs</span><span style=\"font-weight: bold\">(</span>getEnvOrDefault<span style=\"font-weight: bold\">)</span>:<span style=\"color: #008080; text-decoration-color: #008080; font-weight: bold\">1158</span> - Using default value for environment variable \n",
       "FEATURE_FLAG_CLIENT: <span style=\"color: #008000; text-decoration-color: #008000\">''</span>\n",
       "</pre>\n"
      ],
      "text/plain": [
       "\u001b[1;36m2024\u001b[0m-\u001b[1;36m03\u001b[0m-\u001b[1;36m09\u001b[0m \u001b[1;92m11:01:25\u001b[0m INFO \u001b[1;35mi.a.c.EnvConfigs\u001b[0m\u001b[1m(\u001b[0mgetEnvOrDefault\u001b[1m)\u001b[0m:\u001b[1;36m1158\u001b[0m - Using default value for environment variable \n",
       "FEATURE_FLAG_CLIENT: \u001b[32m''\u001b[0m\n"
      ]
     },
     "metadata": {},
     "output_type": "display_data"
    },
    {
     "name": "stdout",
     "output_type": "stream",
     "text": [
      "\n",
      "\n"
     ]
    },
    {
     "data": {
      "text/html": [
       "<pre style=\"white-space:pre;overflow-x:auto;line-height:normal;font-family:Menlo,'DejaVu Sans Mono',consolas,'Courier New',monospace\"><span style=\"color: #008080; text-decoration-color: #008080; font-weight: bold\">2024</span>-<span style=\"color: #008080; text-decoration-color: #008080; font-weight: bold\">03</span>-<span style=\"color: #008080; text-decoration-color: #008080; font-weight: bold\">09</span> <span style=\"color: #00ff00; text-decoration-color: #00ff00; font-weight: bold\">11:01:25</span> INFO <span style=\"color: #800080; text-decoration-color: #800080; font-weight: bold\">i.a.c.EnvConfigs</span><span style=\"font-weight: bold\">(</span>getEnvOrDefault<span style=\"font-weight: bold\">)</span>:<span style=\"color: #008080; text-decoration-color: #008080; font-weight: bold\">1158</span> - Using default value for environment variable \n",
       "FEATURE_FLAG_CLIENT: <span style=\"color: #008000; text-decoration-color: #008000\">''</span>\n",
       "</pre>\n"
      ],
      "text/plain": [
       "\u001b[1;36m2024\u001b[0m-\u001b[1;36m03\u001b[0m-\u001b[1;36m09\u001b[0m \u001b[1;92m11:01:25\u001b[0m INFO \u001b[1;35mi.a.c.EnvConfigs\u001b[0m\u001b[1m(\u001b[0mgetEnvOrDefault\u001b[1m)\u001b[0m:\u001b[1;36m1158\u001b[0m - Using default value for environment variable \n",
       "FEATURE_FLAG_CLIENT: \u001b[32m''\u001b[0m\n"
      ]
     },
     "metadata": {},
     "output_type": "display_data"
    },
    {
     "name": "stdout",
     "output_type": "stream",
     "text": [
      "\n",
      "\n"
     ]
    },
    {
     "data": {
      "text/html": [
       "<pre style=\"white-space:pre;overflow-x:auto;line-height:normal;font-family:Menlo,'DejaVu Sans Mono',consolas,'Courier New',monospace\"><span style=\"color: #008080; text-decoration-color: #008080; font-weight: bold\">2024</span>-<span style=\"color: #008080; text-decoration-color: #008080; font-weight: bold\">03</span>-<span style=\"color: #008080; text-decoration-color: #008080; font-weight: bold\">09</span> <span style=\"color: #00ff00; text-decoration-color: #00ff00; font-weight: bold\">11:01:25</span> INFO <span style=\"color: #800080; text-decoration-color: #800080; font-weight: bold\">i.a.c.EnvConfigs</span><span style=\"font-weight: bold\">(</span>getEnvOrDefault<span style=\"font-weight: bold\">)</span>:<span style=\"color: #008080; text-decoration-color: #008080; font-weight: bold\">1158</span> - Using default value for environment variable \n",
       "OTEL_COLLECTOR_ENDPOINT: <span style=\"color: #008000; text-decoration-color: #008000\">''</span>\n",
       "</pre>\n"
      ],
      "text/plain": [
       "\u001b[1;36m2024\u001b[0m-\u001b[1;36m03\u001b[0m-\u001b[1;36m09\u001b[0m \u001b[1;92m11:01:25\u001b[0m INFO \u001b[1;35mi.a.c.EnvConfigs\u001b[0m\u001b[1m(\u001b[0mgetEnvOrDefault\u001b[1m)\u001b[0m:\u001b[1;36m1158\u001b[0m - Using default value for environment variable \n",
       "OTEL_COLLECTOR_ENDPOINT: \u001b[32m''\u001b[0m\n"
      ]
     },
     "metadata": {},
     "output_type": "display_data"
    },
    {
     "name": "stdout",
     "output_type": "stream",
     "text": [
      "\n",
      "\n"
     ]
    },
    {
     "data": {
      "text/html": [
       "<pre style=\"white-space:pre;overflow-x:auto;line-height:normal;font-family:Menlo,'DejaVu Sans Mono',consolas,'Courier New',monospace\"><span style=\"color: #008080; text-decoration-color: #008080; font-weight: bold\">2024</span>-<span style=\"color: #008080; text-decoration-color: #008080; font-weight: bold\">03</span>-<span style=\"color: #008080; text-decoration-color: #008080; font-weight: bold\">09</span> <span style=\"color: #00ff00; text-decoration-color: #00ff00; font-weight: bold\">11:01:25</span> INFO <span style=\"color: #800080; text-decoration-color: #800080; font-weight: bold\">i.a.c.EnvConfigs</span><span style=\"font-weight: bold\">(</span>getEnvOrDefault<span style=\"font-weight: bold\">)</span>:<span style=\"color: #008080; text-decoration-color: #008080; font-weight: bold\">1158</span> - Using default value for environment variable \n",
       "OTEL_COLLECTOR_ENDPOINT: <span style=\"color: #008000; text-decoration-color: #008000\">''</span>\n",
       "</pre>\n"
      ],
      "text/plain": [
       "\u001b[1;36m2024\u001b[0m-\u001b[1;36m03\u001b[0m-\u001b[1;36m09\u001b[0m \u001b[1;92m11:01:25\u001b[0m INFO \u001b[1;35mi.a.c.EnvConfigs\u001b[0m\u001b[1m(\u001b[0mgetEnvOrDefault\u001b[1m)\u001b[0m:\u001b[1;36m1158\u001b[0m - Using default value for environment variable \n",
       "OTEL_COLLECTOR_ENDPOINT: \u001b[32m''\u001b[0m\n"
      ]
     },
     "metadata": {},
     "output_type": "display_data"
    },
    {
     "name": "stdout",
     "output_type": "stream",
     "text": [
      "\n",
      "\n"
     ]
    },
    {
     "data": {
      "text/html": [
       "<pre style=\"white-space:pre;overflow-x:auto;line-height:normal;font-family:Menlo,'DejaVu Sans Mono',consolas,'Courier New',monospace\"><span style=\"color: #008080; text-decoration-color: #008080; font-weight: bold\">2024</span>-<span style=\"color: #008080; text-decoration-color: #008080; font-weight: bold\">03</span>-<span style=\"color: #008080; text-decoration-color: #008080; font-weight: bold\">09</span> <span style=\"color: #00ff00; text-decoration-color: #00ff00; font-weight: bold\">11:01:25</span> INFO <span style=\"color: #800080; text-decoration-color: #800080; font-weight: bold\">i.a.w.p.KubeProcessFactory</span><span style=\"font-weight: bold\">(</span>create<span style=\"font-weight: bold\">)</span>:<span style=\"color: #008080; text-decoration-color: #008080; font-weight: bold\">128</span> - Attempting to start pod = \n",
       "source-mssql-read-<span style=\"color: #008080; text-decoration-color: #008080; font-weight: bold\">10344</span>-<span style=\"color: #008080; text-decoration-color: #008080; font-weight: bold\">0</span>-mjxeg for airbyte/source-mssql:<span style=\"color: #008080; text-decoration-color: #008080; font-weight: bold\">3.7</span>.<span style=\"color: #008080; text-decoration-color: #008080; font-weight: bold\">7</span> with resources \n",
       "ConnectorResourceRequirements<span style=\"font-weight: bold\">[</span><span style=\"color: #808000; text-decoration-color: #808000\">main</span>=<span style=\"color: #800080; text-decoration-color: #800080\">io</span>.airbyte.config.ResourceRequirements@3e5a6e37, \n",
       "<span style=\"color: #808000; text-decoration-color: #808000\">heartbeat</span>=<span style=\"color: #800080; text-decoration-color: #800080\">io</span>.airbyte.config.ResourceRequirements@7bfce681, <span style=\"color: #808000; text-decoration-color: #808000\">stdErr</span>=<span style=\"color: #800080; text-decoration-color: #800080\">io</span>.airbyte.config.ResourceRequirements@14352f7, \n",
       "<span style=\"color: #808000; text-decoration-color: #808000\">stdIn</span>=<span style=\"color: #800080; text-decoration-color: #800080\">null</span>, <span style=\"color: #808000; text-decoration-color: #808000\">stdOut</span>=<span style=\"color: #800080; text-decoration-color: #800080\">io</span>.airbyte.config.ResourceRequirements@42a7a875<span style=\"font-weight: bold\">]</span> and allowedHosts \n",
       "io.airbyte.config.AllowedHosts@2fe15dc0<span style=\"font-weight: bold\">[</span><span style=\"color: #808000; text-decoration-color: #808000\">hosts</span>=,<span style=\"color: #808000; text-decoration-color: #808000\">additionalProperties</span>=<span style=\"font-weight: bold\">{}]</span>\n",
       "</pre>\n"
      ],
      "text/plain": [
       "\u001b[1;36m2024\u001b[0m-\u001b[1;36m03\u001b[0m-\u001b[1;36m09\u001b[0m \u001b[1;92m11:01:25\u001b[0m INFO \u001b[1;35mi.a.w.p.KubeProcessFactory\u001b[0m\u001b[1m(\u001b[0mcreate\u001b[1m)\u001b[0m:\u001b[1;36m128\u001b[0m - Attempting to start pod = \n",
       "source-mssql-read-\u001b[1;36m10344\u001b[0m-\u001b[1;36m0\u001b[0m-mjxeg for airbyte/source-mssql:\u001b[1;36m3.7\u001b[0m.\u001b[1;36m7\u001b[0m with resources \n",
       "ConnectorResourceRequirements\u001b[1m[\u001b[0m\u001b[33mmain\u001b[0m=\u001b[35mio\u001b[0m.airbyte.config.ResourceRequirements@3e5a6e37, \n",
       "\u001b[33mheartbeat\u001b[0m=\u001b[35mio\u001b[0m.airbyte.config.ResourceRequirements@7bfce681, \u001b[33mstdErr\u001b[0m=\u001b[35mio\u001b[0m.airbyte.config.ResourceRequirements@14352f7, \n",
       "\u001b[33mstdIn\u001b[0m=\u001b[35mnull\u001b[0m, \u001b[33mstdOut\u001b[0m=\u001b[35mio\u001b[0m.airbyte.config.ResourceRequirements@42a7a875\u001b[1m]\u001b[0m and allowedHosts \n",
       "io.airbyte.config.AllowedHosts@2fe15dc0\u001b[1m[\u001b[0m\u001b[33mhosts\u001b[0m=,\u001b[33madditionalProperties\u001b[0m=\u001b[1m{\u001b[0m\u001b[1m}\u001b[0m\u001b[1m]\u001b[0m\n"
      ]
     },
     "metadata": {},
     "output_type": "display_data"
    },
    {
     "name": "stdout",
     "output_type": "stream",
     "text": [
      "\n",
      "\n"
     ]
    },
    {
     "data": {
      "text/html": [
       "<pre style=\"white-space:pre;overflow-x:auto;line-height:normal;font-family:Menlo,'DejaVu Sans Mono',consolas,'Courier New',monospace\"><span style=\"color: #008080; text-decoration-color: #008080; font-weight: bold\">2024</span>-<span style=\"color: #008080; text-decoration-color: #008080; font-weight: bold\">03</span>-<span style=\"color: #008080; text-decoration-color: #008080; font-weight: bold\">09</span> <span style=\"color: #00ff00; text-decoration-color: #00ff00; font-weight: bold\">11:01:25</span> INFO <span style=\"color: #800080; text-decoration-color: #800080; font-weight: bold\">i.a.w.p.KubeProcessFactory</span><span style=\"font-weight: bold\">(</span>create<span style=\"font-weight: bold\">)</span>:<span style=\"color: #008080; text-decoration-color: #008080; font-weight: bold\">128</span> - Attempting to start pod = \n",
       "destination-s3-write-<span style=\"color: #008080; text-decoration-color: #008080; font-weight: bold\">10344</span>-<span style=\"color: #008080; text-decoration-color: #008080; font-weight: bold\">0</span>-rtjwz for airbyte/destination-s<span style=\"color: #00ff00; text-decoration-color: #00ff00; font-weight: bold\">3:0</span>.<span style=\"color: #008080; text-decoration-color: #008080; font-weight: bold\">5.8</span> with resources \n",
       "ConnectorResourceRequirements<span style=\"font-weight: bold\">[</span><span style=\"color: #808000; text-decoration-color: #808000\">main</span>=<span style=\"color: #800080; text-decoration-color: #800080\">io</span>.airbyte.config.ResourceRequirements@1105c12d, \n",
       "<span style=\"color: #808000; text-decoration-color: #808000\">heartbeat</span>=<span style=\"color: #800080; text-decoration-color: #800080\">io</span>.airbyte.config.ResourceRequirements@7bfce681, <span style=\"color: #808000; text-decoration-color: #808000\">stdErr</span>=<span style=\"color: #800080; text-decoration-color: #800080\">io</span>.airbyte.config.ResourceRequirements@10d81c2e, \n",
       "<span style=\"color: #808000; text-decoration-color: #808000\">stdIn</span>=<span style=\"color: #800080; text-decoration-color: #800080\">io</span>.airbyte.config.ResourceRequirements@<span style=\"color: #008080; text-decoration-color: #008080; font-weight: bold\">6154e722</span>, <span style=\"color: #808000; text-decoration-color: #808000\">stdOut</span>=<span style=\"color: #800080; text-decoration-color: #800080\">io</span>.airbyte.config.ResourceRequirements@<span style=\"color: #008080; text-decoration-color: #008080; font-weight: bold\">41707047</span><span style=\"font-weight: bold\">]</span> and \n",
       "allowedHosts null\n",
       "</pre>\n"
      ],
      "text/plain": [
       "\u001b[1;36m2024\u001b[0m-\u001b[1;36m03\u001b[0m-\u001b[1;36m09\u001b[0m \u001b[1;92m11:01:25\u001b[0m INFO \u001b[1;35mi.a.w.p.KubeProcessFactory\u001b[0m\u001b[1m(\u001b[0mcreate\u001b[1m)\u001b[0m:\u001b[1;36m128\u001b[0m - Attempting to start pod = \n",
       "destination-s3-write-\u001b[1;36m10344\u001b[0m-\u001b[1;36m0\u001b[0m-rtjwz for airbyte/destination-s\u001b[1;92m3:0\u001b[0m.\u001b[1;36m5.8\u001b[0m with resources \n",
       "ConnectorResourceRequirements\u001b[1m[\u001b[0m\u001b[33mmain\u001b[0m=\u001b[35mio\u001b[0m.airbyte.config.ResourceRequirements@1105c12d, \n",
       "\u001b[33mheartbeat\u001b[0m=\u001b[35mio\u001b[0m.airbyte.config.ResourceRequirements@7bfce681, \u001b[33mstdErr\u001b[0m=\u001b[35mio\u001b[0m.airbyte.config.ResourceRequirements@10d81c2e, \n",
       "\u001b[33mstdIn\u001b[0m=\u001b[35mio\u001b[0m.airbyte.config.ResourceRequirements@\u001b[1;36m6154e722\u001b[0m, \u001b[33mstdOut\u001b[0m=\u001b[35mio\u001b[0m.airbyte.config.ResourceRequirements@\u001b[1;36m41707047\u001b[0m\u001b[1m]\u001b[0m and \n",
       "allowedHosts null\n"
      ]
     },
     "metadata": {},
     "output_type": "display_data"
    },
    {
     "name": "stdout",
     "output_type": "stream",
     "text": [
      "\n",
      "\n"
     ]
    },
    {
     "data": {
      "text/html": [
       "<pre style=\"white-space:pre;overflow-x:auto;line-height:normal;font-family:Menlo,'DejaVu Sans Mono',consolas,'Courier New',monospace\"><span style=\"color: #008080; text-decoration-color: #008080; font-weight: bold\">2024</span>-<span style=\"color: #008080; text-decoration-color: #008080; font-weight: bold\">03</span>-<span style=\"color: #008080; text-decoration-color: #008080; font-weight: bold\">09</span> <span style=\"color: #00ff00; text-decoration-color: #00ff00; font-weight: bold\">11:04:33</span> source &gt; INFO debezium-sqlserverconnector-facppm1-change-event-source-coordinator \n",
       "<span style=\"color: #800080; text-decoration-color: #800080; font-weight: bold\">i.d.p.s.AbstractSnapshotChangeEventSource</span><span style=\"font-weight: bold\">(</span>execute<span style=\"font-weight: bold\">)</span>:<span style=\"color: #008080; text-decoration-color: #008080; font-weight: bold\">104</span> Snapshot - Final stage\n",
       "</pre>\n"
      ],
      "text/plain": [
       "\u001b[1;36m2024\u001b[0m-\u001b[1;36m03\u001b[0m-\u001b[1;36m09\u001b[0m \u001b[1;92m11:04:33\u001b[0m source > INFO debezium-sqlserverconnector-facppm1-change-event-source-coordinator \n",
       "\u001b[1;35mi.d.p.s.AbstractSnapshotChangeEventSource\u001b[0m\u001b[1m(\u001b[0mexecute\u001b[1m)\u001b[0m:\u001b[1;36m104\u001b[0m Snapshot - Final stage\n"
      ]
     },
     "metadata": {},
     "output_type": "display_data"
    },
    {
     "name": "stdout",
     "output_type": "stream",
     "text": [
      "\n",
      "\n"
     ]
    },
    {
     "data": {
      "text/html": [
       "<pre style=\"white-space:pre;overflow-x:auto;line-height:normal;font-family:Menlo,'DejaVu Sans Mono',consolas,'Courier New',monospace\"><span style=\"color: #008080; text-decoration-color: #008080; font-weight: bold\">2024</span>-<span style=\"color: #008080; text-decoration-color: #008080; font-weight: bold\">03</span>-<span style=\"color: #008080; text-decoration-color: #008080; font-weight: bold\">09</span> <span style=\"color: #00ff00; text-decoration-color: #00ff00; font-weight: bold\">11:04:33</span> source &gt; WARN debezium-sqlserverconnector-facppm1-change-event-source-coordinator \n",
       "<span style=\"color: #800080; text-decoration-color: #800080; font-weight: bold\">i.d.p.s.AbstractSnapshotChangeEventSource</span><span style=\"font-weight: bold\">(</span>execute<span style=\"font-weight: bold\">)</span>:<span style=\"color: #008080; text-decoration-color: #008080; font-weight: bold\">115</span> Snapshot was not completed successfully, it will be \n",
       "re-executed upon connector restart\n",
       "</pre>\n"
      ],
      "text/plain": [
       "\u001b[1;36m2024\u001b[0m-\u001b[1;36m03\u001b[0m-\u001b[1;36m09\u001b[0m \u001b[1;92m11:04:33\u001b[0m source > WARN debezium-sqlserverconnector-facppm1-change-event-source-coordinator \n",
       "\u001b[1;35mi.d.p.s.AbstractSnapshotChangeEventSource\u001b[0m\u001b[1m(\u001b[0mexecute\u001b[1m)\u001b[0m:\u001b[1;36m115\u001b[0m Snapshot was not completed successfully, it will be \n",
       "re-executed upon connector restart\n"
      ]
     },
     "metadata": {},
     "output_type": "display_data"
    },
    {
     "name": "stdout",
     "output_type": "stream",
     "text": [
      "\n",
      "\n"
     ]
    },
    {
     "data": {
      "text/html": [
       "<pre style=\"white-space:pre;overflow-x:auto;line-height:normal;font-family:Menlo,'DejaVu Sans Mono',consolas,'Courier New',monospace\"><span style=\"color: #008080; text-decoration-color: #008080; font-weight: bold\">2024</span>-<span style=\"color: #008080; text-decoration-color: #008080; font-weight: bold\">03</span>-<span style=\"color: #008080; text-decoration-color: #008080; font-weight: bold\">09</span> <span style=\"color: #00ff00; text-decoration-color: #00ff00; font-weight: bold\">11:04:33</span> source &gt; INFO debezium-sqlserverconnector-facppm1-change-event-source-coordinator \n",
       "<span style=\"color: #800080; text-decoration-color: #800080; font-weight: bold\">i.d.c.s.SqlServerSnapshotChangeEventSource</span><span style=\"font-weight: bold\">(</span>close<span style=\"font-weight: bold\">)</span>:<span style=\"color: #008080; text-decoration-color: #008080; font-weight: bold\">263</span> Removing locking timeout\n",
       "</pre>\n"
      ],
      "text/plain": [
       "\u001b[1;36m2024\u001b[0m-\u001b[1;36m03\u001b[0m-\u001b[1;36m09\u001b[0m \u001b[1;92m11:04:33\u001b[0m source > INFO debezium-sqlserverconnector-facppm1-change-event-source-coordinator \n",
       "\u001b[1;35mi.d.c.s.SqlServerSnapshotChangeEventSource\u001b[0m\u001b[1m(\u001b[0mclose\u001b[1m)\u001b[0m:\u001b[1;36m263\u001b[0m Removing locking timeout\n"
      ]
     },
     "metadata": {},
     "output_type": "display_data"
    },
    {
     "name": "stdout",
     "output_type": "stream",
     "text": [
      "\n",
      "\n"
     ]
    },
    {
     "data": {
      "text/html": [
       "<pre style=\"white-space:pre;overflow-x:auto;line-height:normal;font-family:Menlo,'DejaVu Sans Mono',consolas,'Courier New',monospace\"><span style=\"color: #008080; text-decoration-color: #008080; font-weight: bold\">2024</span>-<span style=\"color: #008080; text-decoration-color: #008080; font-weight: bold\">03</span>-<span style=\"color: #008080; text-decoration-color: #008080; font-weight: bold\">09</span> <span style=\"color: #00ff00; text-decoration-color: #00ff00; font-weight: bold\">11:04:33</span> source &gt; ERROR debezium-sqlserverconnector-facppm1-change-event-source-coordinator \n",
       "<span style=\"color: #800080; text-decoration-color: #800080; font-weight: bold\">i.d.p.ErrorHandler</span><span style=\"font-weight: bold\">(</span>setProducerThrowable<span style=\"font-weight: bold\">)</span>:<span style=\"color: #008080; text-decoration-color: #008080; font-weight: bold\">52</span> Producer failure io.debezium.DebeziumException: \n",
       "java.util.concurrent.ExecutionException: java.lang.InterruptedException: Interrupted while snapshotting table \n",
       "facppm1.dbo.CMC_CDDL_CL_LINE\n",
       "        at \n",
       "<span style=\"color: #800080; text-decoration-color: #800080; font-weight: bold\">io.debezium.pipeline.source.AbstractSnapshotChangeEventSource.execute</span><span style=\"font-weight: bold\">(</span>AbstractSnapshotChangeEventSource.jav<span style=\"color: #00ff00; text-decoration-color: #00ff00; font-weight: bold\">a:101</span><span style=\"font-weight: bold\">)</span> ~\n",
       "        at <span style=\"color: #800080; text-decoration-color: #800080; font-weight: bold\">io.debezium.pipeline.ChangeEventSourceCoordinator.doSnapshot</span><span style=\"font-weight: bold\">(</span>ChangeEventSourceCoordinator.jav<span style=\"color: #00ff00; text-decoration-color: #00ff00; font-weight: bold\">a:253</span><span style=\"font-weight: bold\">)</span> ~\n",
       "        at <span style=\"color: #800080; text-decoration-color: #800080; font-weight: bold\">io.debezium.pipeline.ChangeEventSourceCoordinator.doSnapshot</span><span style=\"font-weight: bold\">(</span>ChangeEventSourceCoordinator.jav<span style=\"color: #00ff00; text-decoration-color: #00ff00; font-weight: bold\">a:237</span><span style=\"font-weight: bold\">)</span> ~\n",
       "        at \n",
       "<span style=\"color: #800080; text-decoration-color: #800080; font-weight: bold\">io.debezium.connector.sqlserver.SqlServerChangeEventSourceCoordinator.executeChangeEventSources</span><span style=\"font-weight: bold\">(</span>SqlServerChangeEven\n",
       "tSourceCoordinator.jav<span style=\"color: #00ff00; text-decoration-color: #00ff00; font-weight: bold\">a:82</span><span style=\"font-weight: bold\">)</span> ~\n",
       "        at io.debezium.pipeline.ChangeEventSourceCoordinator.lambda$start$<span style=\"color: #800080; text-decoration-color: #800080; font-weight: bold\">0</span><span style=\"font-weight: bold\">(</span>ChangeEventSourceCoordinator.jav<span style=\"color: #00ff00; text-decoration-color: #00ff00; font-weight: bold\">a:137</span><span style=\"font-weight: bold\">)</span> \n",
       "~\n",
       "        at java.base/java.util.concurrent.Executors$<span style=\"color: #800080; text-decoration-color: #800080; font-weight: bold\">RunnableAdapter.call</span><span style=\"font-weight: bold\">(</span>Executors.jav<span style=\"color: #00ff00; text-decoration-color: #00ff00; font-weight: bold\">a:572</span><span style=\"font-weight: bold\">)</span> ~<span style=\"font-weight: bold\">[</span>?:?<span style=\"font-weight: bold\">]</span>\n",
       "        at java.base/<span style=\"color: #800080; text-decoration-color: #800080; font-weight: bold\">java.util.concurrent.FutureTask.run</span><span style=\"font-weight: bold\">(</span>FutureTask.jav<span style=\"color: #00ff00; text-decoration-color: #00ff00; font-weight: bold\">a:317</span><span style=\"font-weight: bold\">)</span> ~<span style=\"font-weight: bold\">[</span>?:?<span style=\"font-weight: bold\">]</span>\n",
       "        at java.base/<span style=\"color: #800080; text-decoration-color: #800080; font-weight: bold\">java.util.concurrent.ThreadPoolExecutor.runWorker</span><span style=\"font-weight: bold\">(</span>ThreadPoolExecutor.jav<span style=\"color: #00ff00; text-decoration-color: #00ff00; font-weight: bold\">a:1144</span><span style=\"font-weight: bold\">)</span> ~<span style=\"font-weight: bold\">[</span>?:?<span style=\"font-weight: bold\">]</span>\n",
       "        at java.base/java.util.concurrent.ThreadPoolExecutor$<span style=\"color: #800080; text-decoration-color: #800080; font-weight: bold\">Worker.run</span><span style=\"font-weight: bold\">(</span>ThreadPoolExecutor.jav<span style=\"color: #00ff00; text-decoration-color: #00ff00; font-weight: bold\">a:642</span><span style=\"font-weight: bold\">)</span> ~<span style=\"font-weight: bold\">[</span>?:?<span style=\"font-weight: bold\">]</span>\n",
       "        at java.base/<span style=\"color: #800080; text-decoration-color: #800080; font-weight: bold\">java.lang.Thread.run</span><span style=\"font-weight: bold\">(</span>Thread.jav<span style=\"color: #00ff00; text-decoration-color: #00ff00; font-weight: bold\">a:1583</span><span style=\"font-weight: bold\">)</span> <span style=\"font-weight: bold\">[</span>?:?<span style=\"font-weight: bold\">]</span>\n",
       "Caused by: java.util.concurrent.ExecutionException: java.lang.InterruptedException: Interrupted while snapshotting \n",
       "table facppm1.dbo.CMC_CDDL_CL_LINE\n",
       "        at java.base/<span style=\"color: #800080; text-decoration-color: #800080; font-weight: bold\">java.util.concurrent.FutureTask.report</span><span style=\"font-weight: bold\">(</span>FutureTask.jav<span style=\"color: #00ff00; text-decoration-color: #00ff00; font-weight: bold\">a:122</span><span style=\"font-weight: bold\">)</span> ~<span style=\"font-weight: bold\">[</span>?:?<span style=\"font-weight: bold\">]</span>\n",
       "        at java.base/<span style=\"color: #800080; text-decoration-color: #800080; font-weight: bold\">java.util.concurrent.FutureTask.get</span><span style=\"font-weight: bold\">(</span>FutureTask.jav<span style=\"color: #00ff00; text-decoration-color: #00ff00; font-weight: bold\">a:191</span><span style=\"font-weight: bold\">)</span> ~<span style=\"font-weight: bold\">[</span>?:?<span style=\"font-weight: bold\">]</span>\n",
       "        at \n",
       "<span style=\"color: #800080; text-decoration-color: #800080; font-weight: bold\">io.debezium.relational.RelationalSnapshotChangeEventSource.createDataEvents</span><span style=\"font-weight: bold\">(</span>RelationalSnapshotChangeEventSource.jav\n",
       "<span style=\"color: #00ff00; text-decoration-color: #00ff00; font-weight: bold\">a:463</span><span style=\"font-weight: bold\">)</span> ~\n",
       "        at \n",
       "<span style=\"color: #800080; text-decoration-color: #800080; font-weight: bold\">io.debezium.relational.RelationalSnapshotChangeEventSource.doExecute</span><span style=\"font-weight: bold\">(</span>RelationalSnapshotChangeEventSource.jav<span style=\"color: #00ff00; text-decoration-color: #00ff00; font-weight: bold\">a:165</span><span style=\"font-weight: bold\">)</span> \n",
       "~\n",
       "        at \n",
       "<span style=\"color: #800080; text-decoration-color: #800080; font-weight: bold\">io.debezium.pipeline.source.AbstractSnapshotChangeEventSource.execute</span><span style=\"font-weight: bold\">(</span>AbstractSnapshotChangeEventSource.jav<span style=\"color: #00ff00; text-decoration-color: #00ff00; font-weight: bold\">a:92</span><span style=\"font-weight: bold\">)</span> ~\n",
       "        <span style=\"color: #808000; text-decoration-color: #808000\">...</span> <span style=\"color: #008080; text-decoration-color: #008080; font-weight: bold\">9</span> more\n",
       "Caused by: java.lang.InterruptedException: Interrupted while snapshotting table facppm1.dbo.CMC_CDDL_CL_LINE\n",
       "        at \n",
       "<span style=\"color: #800080; text-decoration-color: #800080; font-weight: bold\">io.debezium.relational.RelationalSnapshotChangeEventSource.doCreateDataEventsForTable</span><span style=\"font-weight: bold\">(</span>RelationalSnapshotChangeEvent\n",
       "Source.jav<span style=\"color: #00ff00; text-decoration-color: #00ff00; font-weight: bold\">a:551</span><span style=\"font-weight: bold\">)</span> ~\n",
       "        at \n",
       "io.debezium.relational.RelationalSnapshotChangeEventSource.lambda$createDataEventsForTableCallable$<span style=\"color: #800080; text-decoration-color: #800080; font-weight: bold\">6</span><span style=\"font-weight: bold\">(</span>RelationalSnap\n",
       "shotChangeEventSource.jav<span style=\"color: #00ff00; text-decoration-color: #00ff00; font-weight: bold\">a:515</span><span style=\"font-weight: bold\">)</span> ~\n",
       "        at java.base/<span style=\"color: #800080; text-decoration-color: #800080; font-weight: bold\">java.util.concurrent.FutureTask.run</span><span style=\"font-weight: bold\">(</span>FutureTask.jav<span style=\"color: #00ff00; text-decoration-color: #00ff00; font-weight: bold\">a:317</span><span style=\"font-weight: bold\">)</span> ~<span style=\"font-weight: bold\">[</span>?:?<span style=\"font-weight: bold\">]</span>\n",
       "        <span style=\"color: #808000; text-decoration-color: #808000\">...</span> <span style=\"color: #008080; text-decoration-color: #008080; font-weight: bold\">5</span> more\n",
       "\n",
       "Stack Trace: io.debezium.DebeziumException: java.util.concurrent.ExecutionException: \n",
       "java.lang.InterruptedException: Interrupted while snapshotting table facppm1.dbo.CMC_CDDL_CL_LINE\n",
       "        at \n",
       "<span style=\"color: #800080; text-decoration-color: #800080; font-weight: bold\">io.debezium.pipeline.source.AbstractSnapshotChangeEventSource.execute</span><span style=\"font-weight: bold\">(</span>AbstractSnapshotChangeEventSource.jav<span style=\"color: #00ff00; text-decoration-color: #00ff00; font-weight: bold\">a:101</span><span style=\"font-weight: bold\">)</span>\n",
       "        at <span style=\"color: #800080; text-decoration-color: #800080; font-weight: bold\">io.debezium.pipeline.ChangeEventSourceCoordinator.doSnapshot</span><span style=\"font-weight: bold\">(</span>ChangeEventSourceCoordinator.jav<span style=\"color: #00ff00; text-decoration-color: #00ff00; font-weight: bold\">a:253</span><span style=\"font-weight: bold\">)</span>\n",
       "        at <span style=\"color: #800080; text-decoration-color: #800080; font-weight: bold\">io.debezium.pipeline.ChangeEventSourceCoordinator.doSnapshot</span><span style=\"font-weight: bold\">(</span>ChangeEventSourceCoordinator.jav<span style=\"color: #00ff00; text-decoration-color: #00ff00; font-weight: bold\">a:237</span><span style=\"font-weight: bold\">)</span>\n",
       "        at \n",
       "<span style=\"color: #800080; text-decoration-color: #800080; font-weight: bold\">io.debezium.connector.sqlserver.SqlServerChangeEventSourceCoordinator.executeChangeEventSources</span><span style=\"font-weight: bold\">(</span>SqlServerChangeEven\n",
       "tSourceCoordinator.jav<span style=\"color: #00ff00; text-decoration-color: #00ff00; font-weight: bold\">a:82</span><span style=\"font-weight: bold\">)</span>\n",
       "        at io.debezium.pipeline.ChangeEventSourceCoordinator.lambda$start$<span style=\"color: #800080; text-decoration-color: #800080; font-weight: bold\">0</span><span style=\"font-weight: bold\">(</span>ChangeEventSourceCoordinator.jav<span style=\"color: #00ff00; text-decoration-color: #00ff00; font-weight: bold\">a:137</span><span style=\"font-weight: bold\">)</span>\n",
       "        at java.base/java.util.concurrent.Executors$<span style=\"color: #800080; text-decoration-color: #800080; font-weight: bold\">RunnableAdapter.call</span><span style=\"font-weight: bold\">(</span>Executors.jav<span style=\"color: #00ff00; text-decoration-color: #00ff00; font-weight: bold\">a:572</span><span style=\"font-weight: bold\">)</span>\n",
       "        at java.base/<span style=\"color: #800080; text-decoration-color: #800080; font-weight: bold\">java.util.concurrent.FutureTask.run</span><span style=\"font-weight: bold\">(</span>FutureTask.jav<span style=\"color: #00ff00; text-decoration-color: #00ff00; font-weight: bold\">a:317</span><span style=\"font-weight: bold\">)</span>\n",
       "        at java.base/<span style=\"color: #800080; text-decoration-color: #800080; font-weight: bold\">java.util.concurrent.ThreadPoolExecutor.runWorker</span><span style=\"font-weight: bold\">(</span>ThreadPoolExecutor.jav<span style=\"color: #00ff00; text-decoration-color: #00ff00; font-weight: bold\">a:1144</span><span style=\"font-weight: bold\">)</span>\n",
       "        at java.base/java.util.concurrent.ThreadPoolExecutor$<span style=\"color: #800080; text-decoration-color: #800080; font-weight: bold\">Worker.run</span><span style=\"font-weight: bold\">(</span>ThreadPoolExecutor.jav<span style=\"color: #00ff00; text-decoration-color: #00ff00; font-weight: bold\">a:642</span><span style=\"font-weight: bold\">)</span>\n",
       "        at java.base/<span style=\"color: #800080; text-decoration-color: #800080; font-weight: bold\">java.lang.Thread.run</span><span style=\"font-weight: bold\">(</span>Thread.jav<span style=\"color: #00ff00; text-decoration-color: #00ff00; font-weight: bold\">a:1583</span><span style=\"font-weight: bold\">)</span>\n",
       "Caused by: java.util.concurrent.ExecutionException: java.lang.InterruptedException: Interrupted while snapshotting \n",
       "table facppm1.dbo.CMC_CDDL_CL_LINE\n",
       "        at java.base/<span style=\"color: #800080; text-decoration-color: #800080; font-weight: bold\">java.util.concurrent.FutureTask.report</span><span style=\"font-weight: bold\">(</span>FutureTask.jav<span style=\"color: #00ff00; text-decoration-color: #00ff00; font-weight: bold\">a:122</span><span style=\"font-weight: bold\">)</span>\n",
       "        at java.base/<span style=\"color: #800080; text-decoration-color: #800080; font-weight: bold\">java.util.concurrent.FutureTask.get</span><span style=\"font-weight: bold\">(</span>FutureTask.jav<span style=\"color: #00ff00; text-decoration-color: #00ff00; font-weight: bold\">a:191</span><span style=\"font-weight: bold\">)</span>\n",
       "        at \n",
       "<span style=\"color: #800080; text-decoration-color: #800080; font-weight: bold\">io.debezium.relational.RelationalSnapshotChangeEventSource.createDataEvents</span><span style=\"font-weight: bold\">(</span>RelationalSnapshotChangeEventSource.jav\n",
       "<span style=\"color: #00ff00; text-decoration-color: #00ff00; font-weight: bold\">a:463</span><span style=\"font-weight: bold\">)</span>\n",
       "        at \n",
       "<span style=\"color: #800080; text-decoration-color: #800080; font-weight: bold\">io.debezium.relational.RelationalSnapshotChangeEventSource.doExecute</span><span style=\"font-weight: bold\">(</span>RelationalSnapshotChangeEventSource.jav<span style=\"color: #00ff00; text-decoration-color: #00ff00; font-weight: bold\">a:165</span><span style=\"font-weight: bold\">)</span>\n",
       "        at \n",
       "<span style=\"color: #800080; text-decoration-color: #800080; font-weight: bold\">io.debezium.pipeline.source.AbstractSnapshotChangeEventSource.execute</span><span style=\"font-weight: bold\">(</span>AbstractSnapshotChangeEventSource.jav<span style=\"color: #00ff00; text-decoration-color: #00ff00; font-weight: bold\">a:92</span><span style=\"font-weight: bold\">)</span>\n",
       "        <span style=\"color: #808000; text-decoration-color: #808000\">...</span> <span style=\"color: #008080; text-decoration-color: #008080; font-weight: bold\">9</span> more\n",
       "Caused by: java.lang.InterruptedException: Interrupted while snapshotting table facppm1.dbo.CMC_CDDL_CL_LINE\n",
       "        at \n",
       "<span style=\"color: #800080; text-decoration-color: #800080; font-weight: bold\">io.debezium.relational.RelationalSnapshotChangeEventSource.doCreateDataEventsForTable</span><span style=\"font-weight: bold\">(</span>RelationalSnapshotChangeEvent\n",
       "Source.jav<span style=\"color: #00ff00; text-decoration-color: #00ff00; font-weight: bold\">a:551</span><span style=\"font-weight: bold\">)</span>\n",
       "        at \n",
       "io.debezium.relational.RelationalSnapshotChangeEventSource.lambda$createDataEventsForTableCallable$<span style=\"color: #800080; text-decoration-color: #800080; font-weight: bold\">6</span><span style=\"font-weight: bold\">(</span>RelationalSnap\n",
       "shotChangeEventSource.jav<span style=\"color: #00ff00; text-decoration-color: #00ff00; font-weight: bold\">a:515</span><span style=\"font-weight: bold\">)</span>\n",
       "        at java.base/<span style=\"color: #800080; text-decoration-color: #800080; font-weight: bold\">java.util.concurrent.FutureTask.run</span><span style=\"font-weight: bold\">(</span>FutureTask.jav<span style=\"color: #00ff00; text-decoration-color: #00ff00; font-weight: bold\">a:317</span><span style=\"font-weight: bold\">)</span>\n",
       "        <span style=\"color: #808000; text-decoration-color: #808000\">...</span> <span style=\"color: #008080; text-decoration-color: #008080; font-weight: bold\">5</span> more\n",
       "\n",
       "</pre>\n"
      ],
      "text/plain": [
       "\u001b[1;36m2024\u001b[0m-\u001b[1;36m03\u001b[0m-\u001b[1;36m09\u001b[0m \u001b[1;92m11:04:33\u001b[0m source > ERROR debezium-sqlserverconnector-facppm1-change-event-source-coordinator \n",
       "\u001b[1;35mi.d.p.ErrorHandler\u001b[0m\u001b[1m(\u001b[0msetProducerThrowable\u001b[1m)\u001b[0m:\u001b[1;36m52\u001b[0m Producer failure io.debezium.DebeziumException: \n",
       "java.util.concurrent.ExecutionException: java.lang.InterruptedException: Interrupted while snapshotting table \n",
       "facppm1.dbo.CMC_CDDL_CL_LINE\n",
       "        at \n",
       "\u001b[1;35mio.debezium.pipeline.source.AbstractSnapshotChangeEventSource.execute\u001b[0m\u001b[1m(\u001b[0mAbstractSnapshotChangeEventSource.jav\u001b[1;92ma:101\u001b[0m\u001b[1m)\u001b[0m ~\n",
       "        at \u001b[1;35mio.debezium.pipeline.ChangeEventSourceCoordinator.doSnapshot\u001b[0m\u001b[1m(\u001b[0mChangeEventSourceCoordinator.jav\u001b[1;92ma:253\u001b[0m\u001b[1m)\u001b[0m ~\n",
       "        at \u001b[1;35mio.debezium.pipeline.ChangeEventSourceCoordinator.doSnapshot\u001b[0m\u001b[1m(\u001b[0mChangeEventSourceCoordinator.jav\u001b[1;92ma:237\u001b[0m\u001b[1m)\u001b[0m ~\n",
       "        at \n",
       "\u001b[1;35mio.debezium.connector.sqlserver.SqlServerChangeEventSourceCoordinator.executeChangeEventSources\u001b[0m\u001b[1m(\u001b[0mSqlServerChangeEven\n",
       "tSourceCoordinator.jav\u001b[1;92ma:82\u001b[0m\u001b[1m)\u001b[0m ~\n",
       "        at io.debezium.pipeline.ChangeEventSourceCoordinator.lambda$start$\u001b[1;35m0\u001b[0m\u001b[1m(\u001b[0mChangeEventSourceCoordinator.jav\u001b[1;92ma:137\u001b[0m\u001b[1m)\u001b[0m \n",
       "~\n",
       "        at java.base/java.util.concurrent.Executors$\u001b[1;35mRunnableAdapter.call\u001b[0m\u001b[1m(\u001b[0mExecutors.jav\u001b[1;92ma:572\u001b[0m\u001b[1m)\u001b[0m ~\u001b[1m[\u001b[0m?:?\u001b[1m]\u001b[0m\n",
       "        at java.base/\u001b[1;35mjava.util.concurrent.FutureTask.run\u001b[0m\u001b[1m(\u001b[0mFutureTask.jav\u001b[1;92ma:317\u001b[0m\u001b[1m)\u001b[0m ~\u001b[1m[\u001b[0m?:?\u001b[1m]\u001b[0m\n",
       "        at java.base/\u001b[1;35mjava.util.concurrent.ThreadPoolExecutor.runWorker\u001b[0m\u001b[1m(\u001b[0mThreadPoolExecutor.jav\u001b[1;92ma:1144\u001b[0m\u001b[1m)\u001b[0m ~\u001b[1m[\u001b[0m?:?\u001b[1m]\u001b[0m\n",
       "        at java.base/java.util.concurrent.ThreadPoolExecutor$\u001b[1;35mWorker.run\u001b[0m\u001b[1m(\u001b[0mThreadPoolExecutor.jav\u001b[1;92ma:642\u001b[0m\u001b[1m)\u001b[0m ~\u001b[1m[\u001b[0m?:?\u001b[1m]\u001b[0m\n",
       "        at java.base/\u001b[1;35mjava.lang.Thread.run\u001b[0m\u001b[1m(\u001b[0mThread.jav\u001b[1;92ma:1583\u001b[0m\u001b[1m)\u001b[0m \u001b[1m[\u001b[0m?:?\u001b[1m]\u001b[0m\n",
       "Caused by: java.util.concurrent.ExecutionException: java.lang.InterruptedException: Interrupted while snapshotting \n",
       "table facppm1.dbo.CMC_CDDL_CL_LINE\n",
       "        at java.base/\u001b[1;35mjava.util.concurrent.FutureTask.report\u001b[0m\u001b[1m(\u001b[0mFutureTask.jav\u001b[1;92ma:122\u001b[0m\u001b[1m)\u001b[0m ~\u001b[1m[\u001b[0m?:?\u001b[1m]\u001b[0m\n",
       "        at java.base/\u001b[1;35mjava.util.concurrent.FutureTask.get\u001b[0m\u001b[1m(\u001b[0mFutureTask.jav\u001b[1;92ma:191\u001b[0m\u001b[1m)\u001b[0m ~\u001b[1m[\u001b[0m?:?\u001b[1m]\u001b[0m\n",
       "        at \n",
       "\u001b[1;35mio.debezium.relational.RelationalSnapshotChangeEventSource.createDataEvents\u001b[0m\u001b[1m(\u001b[0mRelationalSnapshotChangeEventSource.jav\n",
       "\u001b[1;92ma:463\u001b[0m\u001b[1m)\u001b[0m ~\n",
       "        at \n",
       "\u001b[1;35mio.debezium.relational.RelationalSnapshotChangeEventSource.doExecute\u001b[0m\u001b[1m(\u001b[0mRelationalSnapshotChangeEventSource.jav\u001b[1;92ma:165\u001b[0m\u001b[1m)\u001b[0m \n",
       "~\n",
       "        at \n",
       "\u001b[1;35mio.debezium.pipeline.source.AbstractSnapshotChangeEventSource.execute\u001b[0m\u001b[1m(\u001b[0mAbstractSnapshotChangeEventSource.jav\u001b[1;92ma:92\u001b[0m\u001b[1m)\u001b[0m ~\n",
       "        \u001b[33m...\u001b[0m \u001b[1;36m9\u001b[0m more\n",
       "Caused by: java.lang.InterruptedException: Interrupted while snapshotting table facppm1.dbo.CMC_CDDL_CL_LINE\n",
       "        at \n",
       "\u001b[1;35mio.debezium.relational.RelationalSnapshotChangeEventSource.doCreateDataEventsForTable\u001b[0m\u001b[1m(\u001b[0mRelationalSnapshotChangeEvent\n",
       "Source.jav\u001b[1;92ma:551\u001b[0m\u001b[1m)\u001b[0m ~\n",
       "        at \n",
       "io.debezium.relational.RelationalSnapshotChangeEventSource.lambda$createDataEventsForTableCallable$\u001b[1;35m6\u001b[0m\u001b[1m(\u001b[0mRelationalSnap\n",
       "shotChangeEventSource.jav\u001b[1;92ma:515\u001b[0m\u001b[1m)\u001b[0m ~\n",
       "        at java.base/\u001b[1;35mjava.util.concurrent.FutureTask.run\u001b[0m\u001b[1m(\u001b[0mFutureTask.jav\u001b[1;92ma:317\u001b[0m\u001b[1m)\u001b[0m ~\u001b[1m[\u001b[0m?:?\u001b[1m]\u001b[0m\n",
       "        \u001b[33m...\u001b[0m \u001b[1;36m5\u001b[0m more\n",
       "\n",
       "Stack Trace: io.debezium.DebeziumException: java.util.concurrent.ExecutionException: \n",
       "java.lang.InterruptedException: Interrupted while snapshotting table facppm1.dbo.CMC_CDDL_CL_LINE\n",
       "        at \n",
       "\u001b[1;35mio.debezium.pipeline.source.AbstractSnapshotChangeEventSource.execute\u001b[0m\u001b[1m(\u001b[0mAbstractSnapshotChangeEventSource.jav\u001b[1;92ma:101\u001b[0m\u001b[1m)\u001b[0m\n",
       "        at \u001b[1;35mio.debezium.pipeline.ChangeEventSourceCoordinator.doSnapshot\u001b[0m\u001b[1m(\u001b[0mChangeEventSourceCoordinator.jav\u001b[1;92ma:253\u001b[0m\u001b[1m)\u001b[0m\n",
       "        at \u001b[1;35mio.debezium.pipeline.ChangeEventSourceCoordinator.doSnapshot\u001b[0m\u001b[1m(\u001b[0mChangeEventSourceCoordinator.jav\u001b[1;92ma:237\u001b[0m\u001b[1m)\u001b[0m\n",
       "        at \n",
       "\u001b[1;35mio.debezium.connector.sqlserver.SqlServerChangeEventSourceCoordinator.executeChangeEventSources\u001b[0m\u001b[1m(\u001b[0mSqlServerChangeEven\n",
       "tSourceCoordinator.jav\u001b[1;92ma:82\u001b[0m\u001b[1m)\u001b[0m\n",
       "        at io.debezium.pipeline.ChangeEventSourceCoordinator.lambda$start$\u001b[1;35m0\u001b[0m\u001b[1m(\u001b[0mChangeEventSourceCoordinator.jav\u001b[1;92ma:137\u001b[0m\u001b[1m)\u001b[0m\n",
       "        at java.base/java.util.concurrent.Executors$\u001b[1;35mRunnableAdapter.call\u001b[0m\u001b[1m(\u001b[0mExecutors.jav\u001b[1;92ma:572\u001b[0m\u001b[1m)\u001b[0m\n",
       "        at java.base/\u001b[1;35mjava.util.concurrent.FutureTask.run\u001b[0m\u001b[1m(\u001b[0mFutureTask.jav\u001b[1;92ma:317\u001b[0m\u001b[1m)\u001b[0m\n",
       "        at java.base/\u001b[1;35mjava.util.concurrent.ThreadPoolExecutor.runWorker\u001b[0m\u001b[1m(\u001b[0mThreadPoolExecutor.jav\u001b[1;92ma:1144\u001b[0m\u001b[1m)\u001b[0m\n",
       "        at java.base/java.util.concurrent.ThreadPoolExecutor$\u001b[1;35mWorker.run\u001b[0m\u001b[1m(\u001b[0mThreadPoolExecutor.jav\u001b[1;92ma:642\u001b[0m\u001b[1m)\u001b[0m\n",
       "        at java.base/\u001b[1;35mjava.lang.Thread.run\u001b[0m\u001b[1m(\u001b[0mThread.jav\u001b[1;92ma:1583\u001b[0m\u001b[1m)\u001b[0m\n",
       "Caused by: java.util.concurrent.ExecutionException: java.lang.InterruptedException: Interrupted while snapshotting \n",
       "table facppm1.dbo.CMC_CDDL_CL_LINE\n",
       "        at java.base/\u001b[1;35mjava.util.concurrent.FutureTask.report\u001b[0m\u001b[1m(\u001b[0mFutureTask.jav\u001b[1;92ma:122\u001b[0m\u001b[1m)\u001b[0m\n",
       "        at java.base/\u001b[1;35mjava.util.concurrent.FutureTask.get\u001b[0m\u001b[1m(\u001b[0mFutureTask.jav\u001b[1;92ma:191\u001b[0m\u001b[1m)\u001b[0m\n",
       "        at \n",
       "\u001b[1;35mio.debezium.relational.RelationalSnapshotChangeEventSource.createDataEvents\u001b[0m\u001b[1m(\u001b[0mRelationalSnapshotChangeEventSource.jav\n",
       "\u001b[1;92ma:463\u001b[0m\u001b[1m)\u001b[0m\n",
       "        at \n",
       "\u001b[1;35mio.debezium.relational.RelationalSnapshotChangeEventSource.doExecute\u001b[0m\u001b[1m(\u001b[0mRelationalSnapshotChangeEventSource.jav\u001b[1;92ma:165\u001b[0m\u001b[1m)\u001b[0m\n",
       "        at \n",
       "\u001b[1;35mio.debezium.pipeline.source.AbstractSnapshotChangeEventSource.execute\u001b[0m\u001b[1m(\u001b[0mAbstractSnapshotChangeEventSource.jav\u001b[1;92ma:92\u001b[0m\u001b[1m)\u001b[0m\n",
       "        \u001b[33m...\u001b[0m \u001b[1;36m9\u001b[0m more\n",
       "Caused by: java.lang.InterruptedException: Interrupted while snapshotting table facppm1.dbo.CMC_CDDL_CL_LINE\n",
       "        at \n",
       "\u001b[1;35mio.debezium.relational.RelationalSnapshotChangeEventSource.doCreateDataEventsForTable\u001b[0m\u001b[1m(\u001b[0mRelationalSnapshotChangeEvent\n",
       "Source.jav\u001b[1;92ma:551\u001b[0m\u001b[1m)\u001b[0m\n",
       "        at \n",
       "io.debezium.relational.RelationalSnapshotChangeEventSource.lambda$createDataEventsForTableCallable$\u001b[1;35m6\u001b[0m\u001b[1m(\u001b[0mRelationalSnap\n",
       "shotChangeEventSource.jav\u001b[1;92ma:515\u001b[0m\u001b[1m)\u001b[0m\n",
       "        at java.base/\u001b[1;35mjava.util.concurrent.FutureTask.run\u001b[0m\u001b[1m(\u001b[0mFutureTask.jav\u001b[1;92ma:317\u001b[0m\u001b[1m)\u001b[0m\n",
       "        \u001b[33m...\u001b[0m \u001b[1;36m5\u001b[0m more\n",
       "\n"
      ]
     },
     "metadata": {},
     "output_type": "display_data"
    },
    {
     "name": "stdout",
     "output_type": "stream",
     "text": [
      "There are 28 entries found\n"
     ]
    }
   ],
   "source": [
    "s = \"\"\"\n",
    "2024-03-09 11:01:25 INFO i.a.w.t.TemporalAttemptExecution(get):126 - Cloud storage job log path: /workspace/10344/0/logs.log\n",
    "2024-03-09 11:01:25 INFO i.a.w.t.TemporalAttemptExecution(get):129 - Executing worker wrapper. Airbyte version: 0.50.33\n",
    "2024-03-09 11:01:25 INFO i.a.a.c.AirbyteApiClient(retryWithJitterThrows):290 - Attempt 0 to save workflow id for cancellation\n",
    "2024-03-09 11:01:25 INFO i.a.w.g.BufferedReplicationWorker(run):152 - start sync worker. job id: 10344 attempt id: 0\n",
    "2024-03-09 11:01:25 INFO i.a.c.i.LineGobbler(voidCall):149 - \n",
    "2024-03-09 11:01:25 INFO i.a.c.i.LineGobbler(voidCall):149 - ----- START REPLICATION -----\n",
    "2024-03-09 11:01:25 INFO i.a.c.i.LineGobbler(voidCall):149 - \n",
    "2024-03-09 11:01:25 INFO i.a.w.i.DefaultAirbyteDestination(start):92 - Running destination...\n",
    "2024-03-09 11:01:25 INFO i.a.c.EnvConfigs(getEnvOrDefault):1158 - Using default value for environment variable SIDECAR_KUBE_CPU_LIMIT: '2.0'\n",
    "2024-03-09 11:01:25 INFO i.a.c.EnvConfigs(getEnvOrDefault):1158 - Using default value for environment variable SIDECAR_KUBE_CPU_LIMIT: '2.0'\n",
    "2024-03-09 11:01:25 INFO i.a.c.EnvConfigs(getEnvOrDefault):1158 - Using default value for environment variable SOCAT_KUBE_CPU_LIMIT: '2.0'\n",
    "2024-03-09 11:01:25 INFO i.a.c.EnvConfigs(getEnvOrDefault):1158 - Using default value for environment variable SOCAT_KUBE_CPU_LIMIT: '2.0'\n",
    "2024-03-09 11:01:25 INFO i.a.c.EnvConfigs(getEnvOrDefault):1158 - Using default value for environment variable SIDECAR_KUBE_CPU_REQUEST: '0.1'\n",
    "2024-03-09 11:01:25 INFO i.a.c.EnvConfigs(getEnvOrDefault):1158 - Using default value for environment variable SOCAT_KUBE_CPU_REQUEST: '0.1'\n",
    "2024-03-09 11:01:25 INFO i.a.c.EnvConfigs(getEnvOrDefault):1158 - Using default value for environment variable SIDECAR_KUBE_CPU_REQUEST: '0.1'\n",
    "2024-03-09 11:01:25 INFO i.a.c.EnvConfigs(getEnvOrDefault):1158 - Using default value for environment variable SOCAT_KUBE_CPU_REQUEST: '0.1'\n",
    "2024-03-09 11:01:25 INFO i.a.c.EnvConfigs(getEnvOrDefault):1158 - Using default value for environment variable LAUNCHDARKLY_KEY: ''\n",
    "2024-03-09 11:01:25 INFO i.a.c.EnvConfigs(getEnvOrDefault):1158 - Using default value for environment variable LAUNCHDARKLY_KEY: ''\n",
    "2024-03-09 11:01:25 INFO i.a.c.EnvConfigs(getEnvOrDefault):1158 - Using default value for environment variable FEATURE_FLAG_CLIENT: ''\n",
    "2024-03-09 11:01:25 INFO i.a.c.EnvConfigs(getEnvOrDefault):1158 - Using default value for environment variable FEATURE_FLAG_CLIENT: ''\n",
    "2024-03-09 11:01:25 INFO i.a.c.EnvConfigs(getEnvOrDefault):1158 - Using default value for environment variable OTEL_COLLECTOR_ENDPOINT: ''\n",
    "2024-03-09 11:01:25 INFO i.a.c.EnvConfigs(getEnvOrDefault):1158 - Using default value for environment variable OTEL_COLLECTOR_ENDPOINT: ''\n",
    "2024-03-09 11:01:25 INFO i.a.w.p.KubeProcessFactory(create):128 - Attempting to start pod = source-mssql-read-10344-0-mjxeg for airbyte/source-mssql:3.7.7 with resources ConnectorResourceRequirements[main=io.airbyte.config.ResourceRequirements@3e5a6e37[cpuRequest=1,cpuLimit=,memoryRequest=4Gi,memoryLimit=,additionalProperties={}], heartbeat=io.airbyte.config.ResourceRequirements@7bfce681[cpuRequest=0.05,cpuLimit=0.2,memoryRequest=25Mi,memoryLimit=50Mi,additionalProperties={}], stdErr=io.airbyte.config.ResourceRequirements@14352f7[cpuRequest=0.01,cpuLimit=0.5,memoryRequest=25Mi,memoryLimit=50Mi,additionalProperties={}], stdIn=null, stdOut=io.airbyte.config.ResourceRequirements@42a7a875[cpuRequest=0.5,cpuLimit=1,memoryRequest=25Mi,memoryLimit=50Mi,additionalProperties={}]] and allowedHosts io.airbyte.config.AllowedHosts@2fe15dc0[hosts=[vpce-0a5e7638383b5fa7a-tv2ean05.vpce-svc-06121b7af7f9312f6.us-west-2.vpce.amazonaws.com, *.datadoghq.com, *.datadoghq.eu, *.sentry.io],additionalProperties={}]\n",
    "2024-03-09 11:01:25 INFO i.a.w.p.KubeProcessFactory(create):128 - Attempting to start pod = destination-s3-write-10344-0-rtjwz for airbyte/destination-s3:0.5.8 with resources ConnectorResourceRequirements[main=io.airbyte.config.ResourceRequirements@1105c12d[cpuRequest=1,cpuLimit=,memoryRequest=4Gi,memoryLimit=,additionalProperties={}], heartbeat=io.airbyte.config.ResourceRequirements@7bfce681[cpuRequest=0.05,cpuLimit=0.2,memoryRequest=25Mi,memoryLimit=50Mi,additionalProperties={}], stdErr=io.airbyte.config.ResourceRequirements@10d81c2e[cpuRequest=0.01,cpuLimit=0.5,memoryRequest=25Mi,memoryLimit=50Mi,additionalProperties={}], stdIn=io.airbyte.config.ResourceRequirements@6154e722[cpuRequest=0.5,cpuLimit=1,memoryRequest=25Mi,memoryLimit=50Mi,additionalProperties={}], stdOut=io.airbyte.config.ResourceRequirements@41707047[cpuRequest=0.01,cpuLimit=0.5,memoryRequest=25Mi,memoryLimit=50Mi,additionalProperties={}]] and allowedHosts null\n",
    "2024-03-09 11:04:33 source > INFO debezium-sqlserverconnector-facppm1-change-event-source-coordinator i.d.p.s.AbstractSnapshotChangeEventSource(execute):104 Snapshot - Final stage\n",
    "2024-03-09 11:04:33 source > WARN debezium-sqlserverconnector-facppm1-change-event-source-coordinator i.d.p.s.AbstractSnapshotChangeEventSource(execute):115 Snapshot was not completed successfully, it will be re-executed upon connector restart\n",
    "2024-03-09 11:04:33 source > INFO debezium-sqlserverconnector-facppm1-change-event-source-coordinator i.d.c.s.SqlServerSnapshotChangeEventSource(close):263 Removing locking timeout\n",
    "2024-03-09 11:04:33 source > ERROR debezium-sqlserverconnector-facppm1-change-event-source-coordinator i.d.p.ErrorHandler(setProducerThrowable):52 Producer failure io.debezium.DebeziumException: java.util.concurrent.ExecutionException: java.lang.InterruptedException: Interrupted while snapshotting table facppm1.dbo.CMC_CDDL_CL_LINE\n",
    "\tat io.debezium.pipeline.source.AbstractSnapshotChangeEventSource.execute(AbstractSnapshotChangeEventSource.java:101) ~[debezium-core-2.4.0.Final.jar:2.4.0.Final]\n",
    "\tat io.debezium.pipeline.ChangeEventSourceCoordinator.doSnapshot(ChangeEventSourceCoordinator.java:253) ~[debezium-core-2.4.0.Final.jar:2.4.0.Final]\n",
    "\tat io.debezium.pipeline.ChangeEventSourceCoordinator.doSnapshot(ChangeEventSourceCoordinator.java:237) ~[debezium-core-2.4.0.Final.jar:2.4.0.Final]\n",
    "\tat io.debezium.connector.sqlserver.SqlServerChangeEventSourceCoordinator.executeChangeEventSources(SqlServerChangeEventSourceCoordinator.java:82) ~[debezium-connector-sqlserver-2.4.0.Final.jar:2.4.0.Final]\n",
    "\tat io.debezium.pipeline.ChangeEventSourceCoordinator.lambda$start$0(ChangeEventSourceCoordinator.java:137) ~[debezium-core-2.4.0.Final.jar:2.4.0.Final]\n",
    "\tat java.base/java.util.concurrent.Executors$RunnableAdapter.call(Executors.java:572) ~[?:?]\n",
    "\tat java.base/java.util.concurrent.FutureTask.run(FutureTask.java:317) ~[?:?]\n",
    "\tat java.base/java.util.concurrent.ThreadPoolExecutor.runWorker(ThreadPoolExecutor.java:1144) ~[?:?]\n",
    "\tat java.base/java.util.concurrent.ThreadPoolExecutor$Worker.run(ThreadPoolExecutor.java:642) ~[?:?]\n",
    "\tat java.base/java.lang.Thread.run(Thread.java:1583) [?:?]\n",
    "Caused by: java.util.concurrent.ExecutionException: java.lang.InterruptedException: Interrupted while snapshotting table facppm1.dbo.CMC_CDDL_CL_LINE\n",
    "\tat java.base/java.util.concurrent.FutureTask.report(FutureTask.java:122) ~[?:?]\n",
    "\tat java.base/java.util.concurrent.FutureTask.get(FutureTask.java:191) ~[?:?]\n",
    "\tat io.debezium.relational.RelationalSnapshotChangeEventSource.createDataEvents(RelationalSnapshotChangeEventSource.java:463) ~[debezium-core-2.4.0.Final.jar:2.4.0.Final]\n",
    "\tat io.debezium.relational.RelationalSnapshotChangeEventSource.doExecute(RelationalSnapshotChangeEventSource.java:165) ~[debezium-core-2.4.0.Final.jar:2.4.0.Final]\n",
    "\tat io.debezium.pipeline.source.AbstractSnapshotChangeEventSource.execute(AbstractSnapshotChangeEventSource.java:92) ~[debezium-core-2.4.0.Final.jar:2.4.0.Final]\n",
    "\t... 9 more\n",
    "Caused by: java.lang.InterruptedException: Interrupted while snapshotting table facppm1.dbo.CMC_CDDL_CL_LINE\n",
    "\tat io.debezium.relational.RelationalSnapshotChangeEventSource.doCreateDataEventsForTable(RelationalSnapshotChangeEventSource.java:551) ~[debezium-core-2.4.0.Final.jar:2.4.0.Final]\n",
    "\tat io.debezium.relational.RelationalSnapshotChangeEventSource.lambda$createDataEventsForTableCallable$6(RelationalSnapshotChangeEventSource.java:515) ~[debezium-core-2.4.0.Final.jar:2.4.0.Final]\n",
    "\tat java.base/java.util.concurrent.FutureTask.run(FutureTask.java:317) ~[?:?]\n",
    "\t... 5 more\n",
    "\n",
    "Stack Trace: io.debezium.DebeziumException: java.util.concurrent.ExecutionException: java.lang.InterruptedException: Interrupted while snapshotting table facppm1.dbo.CMC_CDDL_CL_LINE\n",
    "\tat io.debezium.pipeline.source.AbstractSnapshotChangeEventSource.execute(AbstractSnapshotChangeEventSource.java:101)\n",
    "\tat io.debezium.pipeline.ChangeEventSourceCoordinator.doSnapshot(ChangeEventSourceCoordinator.java:253)\n",
    "\tat io.debezium.pipeline.ChangeEventSourceCoordinator.doSnapshot(ChangeEventSourceCoordinator.java:237)\n",
    "\tat io.debezium.connector.sqlserver.SqlServerChangeEventSourceCoordinator.executeChangeEventSources(SqlServerChangeEventSourceCoordinator.java:82)\n",
    "\tat io.debezium.pipeline.ChangeEventSourceCoordinator.lambda$start$0(ChangeEventSourceCoordinator.java:137)\n",
    "\tat java.base/java.util.concurrent.Executors$RunnableAdapter.call(Executors.java:572)\n",
    "\tat java.base/java.util.concurrent.FutureTask.run(FutureTask.java:317)\n",
    "\tat java.base/java.util.concurrent.ThreadPoolExecutor.runWorker(ThreadPoolExecutor.java:1144)\n",
    "\tat java.base/java.util.concurrent.ThreadPoolExecutor$Worker.run(ThreadPoolExecutor.java:642)\n",
    "\tat java.base/java.lang.Thread.run(Thread.java:1583)\n",
    "Caused by: java.util.concurrent.ExecutionException: java.lang.InterruptedException: Interrupted while snapshotting table facppm1.dbo.CMC_CDDL_CL_LINE\n",
    "\tat java.base/java.util.concurrent.FutureTask.report(FutureTask.java:122)\n",
    "\tat java.base/java.util.concurrent.FutureTask.get(FutureTask.java:191)\n",
    "\tat io.debezium.relational.RelationalSnapshotChangeEventSource.createDataEvents(RelationalSnapshotChangeEventSource.java:463)\n",
    "\tat io.debezium.relational.RelationalSnapshotChangeEventSource.doExecute(RelationalSnapshotChangeEventSource.java:165)\n",
    "\tat io.debezium.pipeline.source.AbstractSnapshotChangeEventSource.execute(AbstractSnapshotChangeEventSource.java:92)\n",
    "\t... 9 more\n",
    "Caused by: java.lang.InterruptedException: Interrupted while snapshotting table facppm1.dbo.CMC_CDDL_CL_LINE\n",
    "\tat io.debezium.relational.RelationalSnapshotChangeEventSource.doCreateDataEventsForTable(RelationalSnapshotChangeEventSource.java:551)\n",
    "\tat io.debezium.relational.RelationalSnapshotChangeEventSource.lambda$createDataEventsForTableCallable$6(RelationalSnapshotChangeEventSource.java:515)\n",
    "\tat java.base/java.util.concurrent.FutureTask.run(FutureTask.java:317)\n",
    "\t... 5 more\n",
    "\"\"\"\n",
    "\n",
    "import re\n",
    "import rich\n",
    "\n",
    "# Use re.findall to get all matches\n",
    "# matches = re.findall(r\"(\\d{4}-\\d{2}-\\d{2} \\d{2}:\\d{2}:\\d{2} [\\w>]+ .*?)(?=\\n\\d{4}-\\d{2}-\\d{2} \\d{2}:\\d{2}:\\d{2} [\\w>]+ |\\Z)\", s, re.DOTALL)\n",
    "matches = re.findall(r\"(\\d{4}-\\d{2}-\\d{2} \\d{2}:\\d{2}:\\d{2} .*?)(?=\\n\\d{4}-\\d{2}-\\d{2} \\d{2}:\\d{2}:\\d{2}|\\Z)\", s, re.DOTALL)\n",
    "\n",
    "# rich.print(matches)\n",
    "\n",
    "for match in matches:\n",
    "    print(\"\\n\")\n",
    "    rich.print(match)\n",
    "\n",
    "print(f\"There are {len(matches)} entries found\")"
   ]
  },
  {
   "cell_type": "code",
   "execution_count": null,
   "id": "f3b1b72b-e7cd-4ce0-a2df-6c6c5580d30a",
   "metadata": {},
   "outputs": [],
   "source": []
  }
 ],
 "metadata": {
  "kernelspec": {
   "display_name": "Python 3 (ipykernel)",
   "language": "python",
   "name": "python3"
  },
  "language_info": {
   "codemirror_mode": {
    "name": "ipython",
    "version": 3
   },
   "file_extension": ".py",
   "mimetype": "text/x-python",
   "name": "python",
   "nbconvert_exporter": "python",
   "pygments_lexer": "ipython3",
   "version": "3.12.1"
  }
 },
 "nbformat": 4,
 "nbformat_minor": 5
}
