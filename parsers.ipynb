{
 "cells": [
  {
   "cell_type": "code",
   "execution_count": 13,
   "id": "2c88fb61-5bb1-4c67-b8b5-8c338e519c27",
   "metadata": {},
   "outputs": [],
   "source": [
    "from collections.abc import Iterable\n",
    "from dataclasses import dataclass, field\n",
    "import abc\n",
    "import re\n",
    "import inspect\n",
    "from typing import (\n",
    "    Callable, \n",
    "    Dict, \n",
    "    List, \n",
    "    Union, \n",
    "    Generator, \n",
    "    Any,\n",
    ")\n",
    "import logging\n",
    "import os\n",
    "from pathlib import Path\n",
    "import json\n",
    "\n",
    "import rich"
   ]
  },
  {
   "cell_type": "code",
   "execution_count": 83,
   "id": "e6f39fad-e929-48c2-aca8-8c42d4c044a6",
   "metadata": {},
   "outputs": [],
   "source": [
    "@dataclass\n",
    "class Serializer:\n",
    "    \"\"\"A Callable interface to various serializers that can select a specific format to generate, based on the data format requested by the user\"\"\"\n",
    "\n",
    "    methods: Dict[str, Callable] = field(default_factory=dict)\n",
    "    \n",
    "    def _to_json(self, data: Iterable) -> Dict[str, Any]:\n",
    "        \"\"\"Convert python data container into a json format for output into other functions\"\"\"\n",
    "        yield json.dumps(data)\n",
    "\n",
    "    def __call__(self, parsed_data: Iterable, output_format: str):\n",
    "        \"\"\"Call the correct serialization method, as requested by user\"\"\"\n",
    "\n",
    "        #capture the desired method, especially for future debugging\n",
    "        match output_format:\n",
    "            case \"json\":\n",
    "                yield selected_serializer(parsed_data, output_format)"
   ]
  },
  {
   "cell_type": "code",
   "execution_count": 87,
   "id": "bbdf9e1e-4874-4418-b678-54ebf355e93a",
   "metadata": {},
   "outputs": [],
   "source": [
    "class Parser(abc.ABC):\n",
    "    \"\"\"Base class to enforce methods and functionality for all parsers in the app's library\"\"\"\n",
    "\n",
    "    serialize = Serializer\n",
    "        \n",
    "    @abc.abstractmethod\n",
    "    def _parse(self, raw_data: Iterable) -> Generator[str, None, None]:\n",
    "        pass\n",
    "\n",
    "    # Define call method as a simple algorithm to parse the input into structured data and then serialize it to json as the default format\n",
    "    def __call__(self, file_path, output_format: str = None) -> Generator[str, None, None]:\n",
    "\n",
    "        self.file_path = file_path\n",
    "        output_format: Iterable = self.output_format\n",
    "        \n",
    "        # pipes _parse output into the serializer\n",
    "        # print(f\"parsed_data: {parsed_data}\")\n",
    "        yield Parser.serialize(self, parsed_data=self._parse(self.file_path), output_format=output_format)\n",
    "\n",
    "    def _check_generators(self):\n",
    "        \"\"\"Check to make sure that subclassed _parse and _serialize methods are generators\"\"\"\n",
    "        if not inspect.isgeneratorfunction(self._parse):\n",
    "            raise TypeError(\"The _parse method must be a generator function\")\n",
    "\n",
    "    # run some checks by introspecting the subclass\n",
    "    def __init_subclass__(cls, **kwargs):\n",
    "        super().__init_subclass__(**kwargs)\n",
    "        cls._check_generators(cls)\n",
    "    "
   ]
  },
  {
   "cell_type": "code",
   "execution_count": 88,
   "id": "092545f5-e467-40f3-b623-bc961e00812c",
   "metadata": {},
   "outputs": [],
   "source": [
    "class RegexParser(Parser):\n",
    "    def __init__(self, pattern: str, flags: int = 0, output_format: str = \"json\"):\n",
    "        self.flags = flags\n",
    "        self.pattern = re.compile(pattern, self.flags)\n",
    "        self.output_format = output_format\n",
    "        # self.serializer = Parser._serializer\n",
    "\n",
    "    # treat this class as a callable generator to be used inside a comprehension\n",
    "    def _parse(self, file_path: Union[str, os.PathLike]) -> Generator[str, None, None]:\n",
    "        \"\"\"Create structured file entries based on one or more lines, according to the regex\n",
    "        matching rules provided to the instance\"\"\"\n",
    "        \n",
    "        with open(target_file, \"r\") as tf:\n",
    "            entry = []\n",
    "            for line in tf:\n",
    "                if self.pattern.match(line):\n",
    "                    if entry:\n",
    "                        yield \"\".join(entry)\n",
    "                        entry.clear()\n",
    "                entry.append(line)"
   ]
  },
  {
   "cell_type": "code",
   "execution_count": 89,
   "id": "95c5eff8-fa14-4139-8771-da96e202e991",
   "metadata": {},
   "outputs": [
    {
     "ename": "TypeError",
     "evalue": "Serializer.__init__() got an unexpected keyword argument 'parsed_data'",
     "output_type": "error",
     "traceback": [
      "\u001b[0;31m---------------------------------------------------------------------------\u001b[0m",
      "\u001b[0;31mTypeError\u001b[0m                                 Traceback (most recent call last)",
      "Cell \u001b[0;32mIn[89], line 4\u001b[0m\n\u001b[1;32m      2\u001b[0m entry_parser \u001b[38;5;241m=\u001b[39m RegexParser(pattern\u001b[38;5;241m=\u001b[39mpattern, flags\u001b[38;5;241m=\u001b[39mre\u001b[38;5;241m.\u001b[39mMULTILINE)\n\u001b[1;32m      3\u001b[0m target_file \u001b[38;5;241m=\u001b[39m Path(\u001b[38;5;124m\"\u001b[39m\u001b[38;5;124mtest_files/1d4c79af_c5c3_4b7c_9347_beb5eda819e8_job_10344_attempt_1_txt.txt\u001b[39m\u001b[38;5;124m\"\u001b[39m)\n\u001b[0;32m----> 4\u001b[0m entries \u001b[38;5;241m=\u001b[39m \u001b[43m[\u001b[49m\u001b[43mresult\u001b[49m\u001b[43m \u001b[49m\u001b[38;5;28;43;01mfor\u001b[39;49;00m\u001b[43m \u001b[49m\u001b[43mresult\u001b[49m\u001b[43m \u001b[49m\u001b[38;5;129;43;01min\u001b[39;49;00m\u001b[43m \u001b[49m\u001b[43mentry_parser\u001b[49m\u001b[43m(\u001b[49m\u001b[43mtarget_file\u001b[49m\u001b[43m)\u001b[49m\u001b[43m]\u001b[49m\n\u001b[1;32m      7\u001b[0m \u001b[38;5;28;01mwith\u001b[39;00m \u001b[38;5;28mopen\u001b[39m(\u001b[38;5;124m\"\u001b[39m\u001b[38;5;124mresults.txt\u001b[39m\u001b[38;5;124m\"\u001b[39m, \u001b[38;5;124m\"\u001b[39m\u001b[38;5;124mw\u001b[39m\u001b[38;5;124m\"\u001b[39m) \u001b[38;5;28;01mas\u001b[39;00m r:\n\u001b[1;32m      8\u001b[0m     r\u001b[38;5;241m.\u001b[39mwrite(\u001b[38;5;124m\"\u001b[39m\u001b[38;5;124mEntries\u001b[39m\u001b[38;5;124m\"\u001b[39m)\n",
      "Cell \u001b[0;32mIn[87], line 18\u001b[0m, in \u001b[0;36mParser.__call__\u001b[0;34m(self, file_path, output_format)\u001b[0m\n\u001b[1;32m     14\u001b[0m output_format: Iterable \u001b[38;5;241m=\u001b[39m \u001b[38;5;28mself\u001b[39m\u001b[38;5;241m.\u001b[39moutput_format\n\u001b[1;32m     16\u001b[0m \u001b[38;5;66;03m# pipes _parse output into the serializer\u001b[39;00m\n\u001b[1;32m     17\u001b[0m \u001b[38;5;66;03m# print(f\"parsed_data: {parsed_data}\")\u001b[39;00m\n\u001b[0;32m---> 18\u001b[0m \u001b[38;5;28;01myield\u001b[39;00m \u001b[43mParser\u001b[49m\u001b[38;5;241;43m.\u001b[39;49m\u001b[43mserialize\u001b[49m\u001b[43m(\u001b[49m\u001b[38;5;28;43mself\u001b[39;49m\u001b[43m,\u001b[49m\u001b[43m \u001b[49m\u001b[43mparsed_data\u001b[49m\u001b[38;5;241;43m=\u001b[39;49m\u001b[38;5;28;43mself\u001b[39;49m\u001b[38;5;241;43m.\u001b[39;49m\u001b[43m_parse\u001b[49m\u001b[43m(\u001b[49m\u001b[38;5;28;43mself\u001b[39;49m\u001b[38;5;241;43m.\u001b[39;49m\u001b[43mfile_path\u001b[49m\u001b[43m)\u001b[49m\u001b[43m,\u001b[49m\u001b[43m \u001b[49m\u001b[43moutput_format\u001b[49m\u001b[38;5;241;43m=\u001b[39;49m\u001b[43moutput_format\u001b[49m\u001b[43m)\u001b[49m\n",
      "\u001b[0;31mTypeError\u001b[0m: Serializer.__init__() got an unexpected keyword argument 'parsed_data'"
     ]
    }
   ],
   "source": [
    "pattern = r\"(\\d{4}-\\d{2}-\\d{2} \\d{2}:\\d{2}:\\d{2})\"\n",
    "entry_parser = RegexParser(pattern=pattern, flags=re.MULTILINE)\n",
    "target_file = Path(\"test_files/1d4c79af_c5c3_4b7c_9347_beb5eda819e8_job_10344_attempt_1_txt.txt\")\n",
    "entries = [result for result in entry_parser(target_file)]\n",
    "\n",
    "\n",
    "with open(\"results.txt\", \"w\") as r:\n",
    "    r.write(\"Entries\")\n",
    "    \n",
    "    for result in entries:\n",
    "        r.write(\"\".join(result))\n",
    "        r.write(\"\\n\")\n",
    "    \n",
    "    r.write(f\"total: {len(entries)}\")"
   ]
  },
  {
   "cell_type": "code",
   "execution_count": 30,
   "id": "049e8bf5-e3ff-4bca-865d-bc1f9208f618",
   "metadata": {},
   "outputs": [],
   "source": [
    "class LineParser(Parser):\n",
    "    def __init__(self):\n",
    "        pass\n",
    "\n",
    "    def __call__(self, file_path: Union[str, os.PathLike]) -> Generator[str, None, None]:\n",
    "        with open(target_file, \"r\") as tf:\n",
    "            for line in tf:\n",
    "                yield line"
   ]
  },
  {
   "cell_type": "code",
   "execution_count": 90,
   "id": "f0204fc5-473a-4073-97da-687f413819e5",
   "metadata": {},
   "outputs": [
    {
     "data": {
      "text/plain": [
       "3394"
      ]
     },
     "execution_count": 90,
     "metadata": {},
     "output_type": "execute_result"
    }
   ],
   "source": [
    "from pathlib import Path\n",
    "\n",
    "unstructure_string = \"\"\n",
    "target_file = Path(\"test_files/1d4c79af_c5c3_4b7c_9347_beb5eda819e8_job_10344_attempt_1_txt.txt\")\n",
    "\n",
    "line_parser = LineParser()\n",
    "parsed_lines_from_file = [result for result in line_parser(file_path=target_file)]\n",
    "\n",
    "# rich.print(unstructure_string)\n",
    "len(parsed_lines_from_file)"
   ]
  },
  {
   "cell_type": "code",
   "execution_count": 98,
   "id": "20984e54-76c2-4495-9d44-a71c1dcc190a",
   "metadata": {},
   "outputs": [
    {
     "name": "stdout",
     "output_type": "stream",
     "text": [
      "(\\d{4}-\\d{2}-\\d{2} \\d{2}:\\d{2}:\\d{2} .*?(?=\\n\\d{4}-\\d{2}-\\d{2} \\d{2}:\\d{2}:\\d{2}|$))|(\\d{4}-\\d{2}-\\d{2} \\d{2}:\\d{2}:\\d{2} .+? \\d{4}-\\d{2}-\\d{2} \\d{2}:\\d{2}:\\d{2} .*?(?=\\n\\d{4}-\\d{2}-\\d{2} \\d{2}:\\d{2}:\\d{2}|$))\n",
      "Entries\n"
     ]
    },
    {
     "data": {
      "text/html": [
       "<pre style=\"white-space:pre;overflow-x:auto;line-height:normal;font-family:Menlo,'DejaVu Sans Mono',consolas,'Courier New',monospace\"><span style=\"color: #008080; text-decoration-color: #008080; font-weight: bold\">2024</span>-<span style=\"color: #008080; text-decoration-color: #008080; font-weight: bold\">03</span>-<span style=\"color: #008080; text-decoration-color: #008080; font-weight: bold\">09</span> <span style=\"color: #00ff00; text-decoration-color: #00ff00; font-weight: bold\">11:01:25</span> INFO <span style=\"color: #800080; text-decoration-color: #800080; font-weight: bold\">i.a.w.t.TemporalAttemptExecution</span><span style=\"font-weight: bold\">(</span>get<span style=\"font-weight: bold\">)</span>:<span style=\"color: #008080; text-decoration-color: #008080; font-weight: bold\">126</span> - Cloud storage job log path: \n",
       "<span style=\"color: #800080; text-decoration-color: #800080\">/workspace/10344/0/</span><span style=\"color: #ff00ff; text-decoration-color: #ff00ff\">logs.log</span>\n",
       "\n",
       "</pre>\n"
      ],
      "text/plain": [
       "\u001b[1;36m2024\u001b[0m-\u001b[1;36m03\u001b[0m-\u001b[1;36m09\u001b[0m \u001b[1;92m11:01:25\u001b[0m INFO \u001b[1;35mi.a.w.t.TemporalAttemptExecution\u001b[0m\u001b[1m(\u001b[0mget\u001b[1m)\u001b[0m:\u001b[1;36m126\u001b[0m - Cloud storage job log path: \n",
       "\u001b[35m/workspace/10344/0/\u001b[0m\u001b[95mlogs.log\u001b[0m\n",
       "\n"
      ]
     },
     "metadata": {},
     "output_type": "display_data"
    },
    {
     "data": {
      "text/html": [
       "<pre style=\"white-space:pre;overflow-x:auto;line-height:normal;font-family:Menlo,'DejaVu Sans Mono',consolas,'Courier New',monospace\"><span style=\"color: #008080; text-decoration-color: #008080; font-weight: bold\">2024</span>-<span style=\"color: #008080; text-decoration-color: #008080; font-weight: bold\">03</span>-<span style=\"color: #008080; text-decoration-color: #008080; font-weight: bold\">09</span> <span style=\"color: #00ff00; text-decoration-color: #00ff00; font-weight: bold\">11:01:25</span> INFO <span style=\"color: #800080; text-decoration-color: #800080; font-weight: bold\">i.a.w.t.TemporalAttemptExecution</span><span style=\"font-weight: bold\">(</span>get<span style=\"font-weight: bold\">)</span>:<span style=\"color: #008080; text-decoration-color: #008080; font-weight: bold\">129</span> - Executing worker wrapper. Airbyte version: \n",
       "<span style=\"color: #008080; text-decoration-color: #008080; font-weight: bold\">0.50</span>.<span style=\"color: #008080; text-decoration-color: #008080; font-weight: bold\">33</span>\n",
       "\n",
       "</pre>\n"
      ],
      "text/plain": [
       "\u001b[1;36m2024\u001b[0m-\u001b[1;36m03\u001b[0m-\u001b[1;36m09\u001b[0m \u001b[1;92m11:01:25\u001b[0m INFO \u001b[1;35mi.a.w.t.TemporalAttemptExecution\u001b[0m\u001b[1m(\u001b[0mget\u001b[1m)\u001b[0m:\u001b[1;36m129\u001b[0m - Executing worker wrapper. Airbyte version: \n",
       "\u001b[1;36m0.50\u001b[0m.\u001b[1;36m33\u001b[0m\n",
       "\n"
      ]
     },
     "metadata": {},
     "output_type": "display_data"
    },
    {
     "data": {
      "text/html": [
       "<pre style=\"white-space:pre;overflow-x:auto;line-height:normal;font-family:Menlo,'DejaVu Sans Mono',consolas,'Courier New',monospace\"><span style=\"color: #008080; text-decoration-color: #008080; font-weight: bold\">2024</span>-<span style=\"color: #008080; text-decoration-color: #008080; font-weight: bold\">03</span>-<span style=\"color: #008080; text-decoration-color: #008080; font-weight: bold\">09</span> <span style=\"color: #00ff00; text-decoration-color: #00ff00; font-weight: bold\">11:01:25</span> INFO <span style=\"color: #800080; text-decoration-color: #800080; font-weight: bold\">i.a.a.c.AirbyteApiClient</span><span style=\"font-weight: bold\">(</span>retryWithJitterThrows<span style=\"font-weight: bold\">)</span>:<span style=\"color: #008080; text-decoration-color: #008080; font-weight: bold\">290</span> - Attempt <span style=\"color: #008080; text-decoration-color: #008080; font-weight: bold\">0</span> to save workflow id for \n",
       "cancellation\n",
       "\n",
       "</pre>\n"
      ],
      "text/plain": [
       "\u001b[1;36m2024\u001b[0m-\u001b[1;36m03\u001b[0m-\u001b[1;36m09\u001b[0m \u001b[1;92m11:01:25\u001b[0m INFO \u001b[1;35mi.a.a.c.AirbyteApiClient\u001b[0m\u001b[1m(\u001b[0mretryWithJitterThrows\u001b[1m)\u001b[0m:\u001b[1;36m290\u001b[0m - Attempt \u001b[1;36m0\u001b[0m to save workflow id for \n",
       "cancellation\n",
       "\n"
      ]
     },
     "metadata": {},
     "output_type": "display_data"
    },
    {
     "data": {
      "text/html": [
       "<pre style=\"white-space:pre;overflow-x:auto;line-height:normal;font-family:Menlo,'DejaVu Sans Mono',consolas,'Courier New',monospace\"><span style=\"color: #008080; text-decoration-color: #008080; font-weight: bold\">2024</span>-<span style=\"color: #008080; text-decoration-color: #008080; font-weight: bold\">03</span>-<span style=\"color: #008080; text-decoration-color: #008080; font-weight: bold\">09</span> <span style=\"color: #00ff00; text-decoration-color: #00ff00; font-weight: bold\">11:01:25</span> INFO <span style=\"color: #800080; text-decoration-color: #800080; font-weight: bold\">i.a.w.g.BufferedReplicationWorker</span><span style=\"font-weight: bold\">(</span>run<span style=\"font-weight: bold\">)</span>:<span style=\"color: #008080; text-decoration-color: #008080; font-weight: bold\">152</span> - start sync worker. job id: <span style=\"color: #008080; text-decoration-color: #008080; font-weight: bold\">10344</span> attempt id: \n",
       "<span style=\"color: #008080; text-decoration-color: #008080; font-weight: bold\">0</span>\n",
       "\n",
       "</pre>\n"
      ],
      "text/plain": [
       "\u001b[1;36m2024\u001b[0m-\u001b[1;36m03\u001b[0m-\u001b[1;36m09\u001b[0m \u001b[1;92m11:01:25\u001b[0m INFO \u001b[1;35mi.a.w.g.BufferedReplicationWorker\u001b[0m\u001b[1m(\u001b[0mrun\u001b[1m)\u001b[0m:\u001b[1;36m152\u001b[0m - start sync worker. job id: \u001b[1;36m10344\u001b[0m attempt id: \n",
       "\u001b[1;36m0\u001b[0m\n",
       "\n"
      ]
     },
     "metadata": {},
     "output_type": "display_data"
    },
    {
     "data": {
      "text/html": [
       "<pre style=\"white-space:pre;overflow-x:auto;line-height:normal;font-family:Menlo,'DejaVu Sans Mono',consolas,'Courier New',monospace\"><span style=\"color: #008080; text-decoration-color: #008080; font-weight: bold\">2024</span>-<span style=\"color: #008080; text-decoration-color: #008080; font-weight: bold\">03</span>-<span style=\"color: #008080; text-decoration-color: #008080; font-weight: bold\">09</span> <span style=\"color: #00ff00; text-decoration-color: #00ff00; font-weight: bold\">11:01:25</span> INFO <span style=\"color: #800080; text-decoration-color: #800080; font-weight: bold\">i.a.c.i.LineGobbler</span><span style=\"font-weight: bold\">(</span>voidCall<span style=\"font-weight: bold\">)</span>:<span style=\"color: #008080; text-decoration-color: #008080; font-weight: bold\">149</span> - \n",
       "\n",
       "</pre>\n"
      ],
      "text/plain": [
       "\u001b[1;36m2024\u001b[0m-\u001b[1;36m03\u001b[0m-\u001b[1;36m09\u001b[0m \u001b[1;92m11:01:25\u001b[0m INFO \u001b[1;35mi.a.c.i.LineGobbler\u001b[0m\u001b[1m(\u001b[0mvoidCall\u001b[1m)\u001b[0m:\u001b[1;36m149\u001b[0m - \n",
       "\n"
      ]
     },
     "metadata": {},
     "output_type": "display_data"
    },
    {
     "data": {
      "text/html": [
       "<pre style=\"white-space:pre;overflow-x:auto;line-height:normal;font-family:Menlo,'DejaVu Sans Mono',consolas,'Courier New',monospace\"><span style=\"color: #008080; text-decoration-color: #008080; font-weight: bold\">2024</span>-<span style=\"color: #008080; text-decoration-color: #008080; font-weight: bold\">03</span>-<span style=\"color: #008080; text-decoration-color: #008080; font-weight: bold\">09</span> <span style=\"color: #00ff00; text-decoration-color: #00ff00; font-weight: bold\">11:01:25</span> INFO <span style=\"color: #800080; text-decoration-color: #800080; font-weight: bold\">i.a.c.i.LineGobbler</span><span style=\"font-weight: bold\">(</span>voidCall<span style=\"font-weight: bold\">)</span>:<span style=\"color: #008080; text-decoration-color: #008080; font-weight: bold\">149</span> - ----- START REPLICATION -----\n",
       "\n",
       "</pre>\n"
      ],
      "text/plain": [
       "\u001b[1;36m2024\u001b[0m-\u001b[1;36m03\u001b[0m-\u001b[1;36m09\u001b[0m \u001b[1;92m11:01:25\u001b[0m INFO \u001b[1;35mi.a.c.i.LineGobbler\u001b[0m\u001b[1m(\u001b[0mvoidCall\u001b[1m)\u001b[0m:\u001b[1;36m149\u001b[0m - ----- START REPLICATION -----\n",
       "\n"
      ]
     },
     "metadata": {},
     "output_type": "display_data"
    },
    {
     "data": {
      "text/html": [
       "<pre style=\"white-space:pre;overflow-x:auto;line-height:normal;font-family:Menlo,'DejaVu Sans Mono',consolas,'Courier New',monospace\"><span style=\"color: #008080; text-decoration-color: #008080; font-weight: bold\">2024</span>-<span style=\"color: #008080; text-decoration-color: #008080; font-weight: bold\">03</span>-<span style=\"color: #008080; text-decoration-color: #008080; font-weight: bold\">09</span> <span style=\"color: #00ff00; text-decoration-color: #00ff00; font-weight: bold\">11:01:25</span> INFO <span style=\"color: #800080; text-decoration-color: #800080; font-weight: bold\">i.a.c.i.LineGobbler</span><span style=\"font-weight: bold\">(</span>voidCall<span style=\"font-weight: bold\">)</span>:<span style=\"color: #008080; text-decoration-color: #008080; font-weight: bold\">149</span> - \n",
       "\n",
       "</pre>\n"
      ],
      "text/plain": [
       "\u001b[1;36m2024\u001b[0m-\u001b[1;36m03\u001b[0m-\u001b[1;36m09\u001b[0m \u001b[1;92m11:01:25\u001b[0m INFO \u001b[1;35mi.a.c.i.LineGobbler\u001b[0m\u001b[1m(\u001b[0mvoidCall\u001b[1m)\u001b[0m:\u001b[1;36m149\u001b[0m - \n",
       "\n"
      ]
     },
     "metadata": {},
     "output_type": "display_data"
    },
    {
     "data": {
      "text/html": [
       "<pre style=\"white-space:pre;overflow-x:auto;line-height:normal;font-family:Menlo,'DejaVu Sans Mono',consolas,'Courier New',monospace\"><span style=\"color: #008080; text-decoration-color: #008080; font-weight: bold\">2024</span>-<span style=\"color: #008080; text-decoration-color: #008080; font-weight: bold\">03</span>-<span style=\"color: #008080; text-decoration-color: #008080; font-weight: bold\">09</span> <span style=\"color: #00ff00; text-decoration-color: #00ff00; font-weight: bold\">11:01:25</span> INFO <span style=\"color: #800080; text-decoration-color: #800080; font-weight: bold\">i.a.w.i.DefaultAirbyteDestination</span><span style=\"font-weight: bold\">(</span>start<span style=\"font-weight: bold\">)</span>:<span style=\"color: #008080; text-decoration-color: #008080; font-weight: bold\">92</span> - Running destination<span style=\"color: #808000; text-decoration-color: #808000\">...</span>\n",
       "\n",
       "</pre>\n"
      ],
      "text/plain": [
       "\u001b[1;36m2024\u001b[0m-\u001b[1;36m03\u001b[0m-\u001b[1;36m09\u001b[0m \u001b[1;92m11:01:25\u001b[0m INFO \u001b[1;35mi.a.w.i.DefaultAirbyteDestination\u001b[0m\u001b[1m(\u001b[0mstart\u001b[1m)\u001b[0m:\u001b[1;36m92\u001b[0m - Running destination\u001b[33m...\u001b[0m\n",
       "\n"
      ]
     },
     "metadata": {},
     "output_type": "display_data"
    },
    {
     "data": {
      "text/html": [
       "<pre style=\"white-space:pre;overflow-x:auto;line-height:normal;font-family:Menlo,'DejaVu Sans Mono',consolas,'Courier New',monospace\"><span style=\"color: #008080; text-decoration-color: #008080; font-weight: bold\">2024</span>-<span style=\"color: #008080; text-decoration-color: #008080; font-weight: bold\">03</span>-<span style=\"color: #008080; text-decoration-color: #008080; font-weight: bold\">09</span> <span style=\"color: #00ff00; text-decoration-color: #00ff00; font-weight: bold\">11:01:25</span> INFO <span style=\"color: #800080; text-decoration-color: #800080; font-weight: bold\">i.a.c.EnvConfigs</span><span style=\"font-weight: bold\">(</span>getEnvOrDefault<span style=\"font-weight: bold\">)</span>:<span style=\"color: #008080; text-decoration-color: #008080; font-weight: bold\">1158</span> - Using default value for environment variable \n",
       "SIDECAR_KUBE_CPU_LIMIT: <span style=\"color: #008000; text-decoration-color: #008000\">'2.0'</span>\n",
       "\n",
       "</pre>\n"
      ],
      "text/plain": [
       "\u001b[1;36m2024\u001b[0m-\u001b[1;36m03\u001b[0m-\u001b[1;36m09\u001b[0m \u001b[1;92m11:01:25\u001b[0m INFO \u001b[1;35mi.a.c.EnvConfigs\u001b[0m\u001b[1m(\u001b[0mgetEnvOrDefault\u001b[1m)\u001b[0m:\u001b[1;36m1158\u001b[0m - Using default value for environment variable \n",
       "SIDECAR_KUBE_CPU_LIMIT: \u001b[32m'2.0'\u001b[0m\n",
       "\n"
      ]
     },
     "metadata": {},
     "output_type": "display_data"
    },
    {
     "data": {
      "text/html": [
       "<pre style=\"white-space:pre;overflow-x:auto;line-height:normal;font-family:Menlo,'DejaVu Sans Mono',consolas,'Courier New',monospace\"><span style=\"color: #008080; text-decoration-color: #008080; font-weight: bold\">2024</span>-<span style=\"color: #008080; text-decoration-color: #008080; font-weight: bold\">03</span>-<span style=\"color: #008080; text-decoration-color: #008080; font-weight: bold\">09</span> <span style=\"color: #00ff00; text-decoration-color: #00ff00; font-weight: bold\">11:01:25</span> INFO <span style=\"color: #800080; text-decoration-color: #800080; font-weight: bold\">i.a.c.EnvConfigs</span><span style=\"font-weight: bold\">(</span>getEnvOrDefault<span style=\"font-weight: bold\">)</span>:<span style=\"color: #008080; text-decoration-color: #008080; font-weight: bold\">1158</span> - Using default value for environment variable \n",
       "SIDECAR_KUBE_CPU_LIMIT: <span style=\"color: #008000; text-decoration-color: #008000\">'2.0'</span>\n",
       "\n",
       "</pre>\n"
      ],
      "text/plain": [
       "\u001b[1;36m2024\u001b[0m-\u001b[1;36m03\u001b[0m-\u001b[1;36m09\u001b[0m \u001b[1;92m11:01:25\u001b[0m INFO \u001b[1;35mi.a.c.EnvConfigs\u001b[0m\u001b[1m(\u001b[0mgetEnvOrDefault\u001b[1m)\u001b[0m:\u001b[1;36m1158\u001b[0m - Using default value for environment variable \n",
       "SIDECAR_KUBE_CPU_LIMIT: \u001b[32m'2.0'\u001b[0m\n",
       "\n"
      ]
     },
     "metadata": {},
     "output_type": "display_data"
    },
    {
     "data": {
      "text/html": [
       "<pre style=\"white-space:pre;overflow-x:auto;line-height:normal;font-family:Menlo,'DejaVu Sans Mono',consolas,'Courier New',monospace\"><span style=\"color: #008080; text-decoration-color: #008080; font-weight: bold\">2024</span>-<span style=\"color: #008080; text-decoration-color: #008080; font-weight: bold\">03</span>-<span style=\"color: #008080; text-decoration-color: #008080; font-weight: bold\">09</span> <span style=\"color: #00ff00; text-decoration-color: #00ff00; font-weight: bold\">11:01:25</span> INFO <span style=\"color: #800080; text-decoration-color: #800080; font-weight: bold\">i.a.c.EnvConfigs</span><span style=\"font-weight: bold\">(</span>getEnvOrDefault<span style=\"font-weight: bold\">)</span>:<span style=\"color: #008080; text-decoration-color: #008080; font-weight: bold\">1158</span> - Using default value for environment variable \n",
       "SOCAT_KUBE_CPU_LIMIT: <span style=\"color: #008000; text-decoration-color: #008000\">'2.0'</span>\n",
       "\n",
       "</pre>\n"
      ],
      "text/plain": [
       "\u001b[1;36m2024\u001b[0m-\u001b[1;36m03\u001b[0m-\u001b[1;36m09\u001b[0m \u001b[1;92m11:01:25\u001b[0m INFO \u001b[1;35mi.a.c.EnvConfigs\u001b[0m\u001b[1m(\u001b[0mgetEnvOrDefault\u001b[1m)\u001b[0m:\u001b[1;36m1158\u001b[0m - Using default value for environment variable \n",
       "SOCAT_KUBE_CPU_LIMIT: \u001b[32m'2.0'\u001b[0m\n",
       "\n"
      ]
     },
     "metadata": {},
     "output_type": "display_data"
    },
    {
     "data": {
      "text/html": [
       "<pre style=\"white-space:pre;overflow-x:auto;line-height:normal;font-family:Menlo,'DejaVu Sans Mono',consolas,'Courier New',monospace\"><span style=\"color: #008080; text-decoration-color: #008080; font-weight: bold\">2024</span>-<span style=\"color: #008080; text-decoration-color: #008080; font-weight: bold\">03</span>-<span style=\"color: #008080; text-decoration-color: #008080; font-weight: bold\">09</span> <span style=\"color: #00ff00; text-decoration-color: #00ff00; font-weight: bold\">11:01:25</span> INFO <span style=\"color: #800080; text-decoration-color: #800080; font-weight: bold\">i.a.c.EnvConfigs</span><span style=\"font-weight: bold\">(</span>getEnvOrDefault<span style=\"font-weight: bold\">)</span>:<span style=\"color: #008080; text-decoration-color: #008080; font-weight: bold\">1158</span> - Using default value for environment variable \n",
       "SOCAT_KUBE_CPU_LIMIT: <span style=\"color: #008000; text-decoration-color: #008000\">'2.0'</span>\n",
       "\n",
       "</pre>\n"
      ],
      "text/plain": [
       "\u001b[1;36m2024\u001b[0m-\u001b[1;36m03\u001b[0m-\u001b[1;36m09\u001b[0m \u001b[1;92m11:01:25\u001b[0m INFO \u001b[1;35mi.a.c.EnvConfigs\u001b[0m\u001b[1m(\u001b[0mgetEnvOrDefault\u001b[1m)\u001b[0m:\u001b[1;36m1158\u001b[0m - Using default value for environment variable \n",
       "SOCAT_KUBE_CPU_LIMIT: \u001b[32m'2.0'\u001b[0m\n",
       "\n"
      ]
     },
     "metadata": {},
     "output_type": "display_data"
    },
    {
     "data": {
      "text/html": [
       "<pre style=\"white-space:pre;overflow-x:auto;line-height:normal;font-family:Menlo,'DejaVu Sans Mono',consolas,'Courier New',monospace\"><span style=\"color: #008080; text-decoration-color: #008080; font-weight: bold\">2024</span>-<span style=\"color: #008080; text-decoration-color: #008080; font-weight: bold\">03</span>-<span style=\"color: #008080; text-decoration-color: #008080; font-weight: bold\">09</span> <span style=\"color: #00ff00; text-decoration-color: #00ff00; font-weight: bold\">11:01:25</span> INFO <span style=\"color: #800080; text-decoration-color: #800080; font-weight: bold\">i.a.c.EnvConfigs</span><span style=\"font-weight: bold\">(</span>getEnvOrDefault<span style=\"font-weight: bold\">)</span>:<span style=\"color: #008080; text-decoration-color: #008080; font-weight: bold\">1158</span> - Using default value for environment variable \n",
       "SIDECAR_KUBE_CPU_REQUEST: <span style=\"color: #008000; text-decoration-color: #008000\">'0.1'</span>\n",
       "\n",
       "</pre>\n"
      ],
      "text/plain": [
       "\u001b[1;36m2024\u001b[0m-\u001b[1;36m03\u001b[0m-\u001b[1;36m09\u001b[0m \u001b[1;92m11:01:25\u001b[0m INFO \u001b[1;35mi.a.c.EnvConfigs\u001b[0m\u001b[1m(\u001b[0mgetEnvOrDefault\u001b[1m)\u001b[0m:\u001b[1;36m1158\u001b[0m - Using default value for environment variable \n",
       "SIDECAR_KUBE_CPU_REQUEST: \u001b[32m'0.1'\u001b[0m\n",
       "\n"
      ]
     },
     "metadata": {},
     "output_type": "display_data"
    },
    {
     "data": {
      "text/html": [
       "<pre style=\"white-space:pre;overflow-x:auto;line-height:normal;font-family:Menlo,'DejaVu Sans Mono',consolas,'Courier New',monospace\"><span style=\"color: #008080; text-decoration-color: #008080; font-weight: bold\">2024</span>-<span style=\"color: #008080; text-decoration-color: #008080; font-weight: bold\">03</span>-<span style=\"color: #008080; text-decoration-color: #008080; font-weight: bold\">09</span> <span style=\"color: #00ff00; text-decoration-color: #00ff00; font-weight: bold\">11:01:25</span> INFO <span style=\"color: #800080; text-decoration-color: #800080; font-weight: bold\">i.a.c.EnvConfigs</span><span style=\"font-weight: bold\">(</span>getEnvOrDefault<span style=\"font-weight: bold\">)</span>:<span style=\"color: #008080; text-decoration-color: #008080; font-weight: bold\">1158</span> - Using default value for environment variable \n",
       "SOCAT_KUBE_CPU_REQUEST: <span style=\"color: #008000; text-decoration-color: #008000\">'0.1'</span>\n",
       "\n",
       "</pre>\n"
      ],
      "text/plain": [
       "\u001b[1;36m2024\u001b[0m-\u001b[1;36m03\u001b[0m-\u001b[1;36m09\u001b[0m \u001b[1;92m11:01:25\u001b[0m INFO \u001b[1;35mi.a.c.EnvConfigs\u001b[0m\u001b[1m(\u001b[0mgetEnvOrDefault\u001b[1m)\u001b[0m:\u001b[1;36m1158\u001b[0m - Using default value for environment variable \n",
       "SOCAT_KUBE_CPU_REQUEST: \u001b[32m'0.1'\u001b[0m\n",
       "\n"
      ]
     },
     "metadata": {},
     "output_type": "display_data"
    },
    {
     "data": {
      "text/html": [
       "<pre style=\"white-space:pre;overflow-x:auto;line-height:normal;font-family:Menlo,'DejaVu Sans Mono',consolas,'Courier New',monospace\"><span style=\"color: #008080; text-decoration-color: #008080; font-weight: bold\">2024</span>-<span style=\"color: #008080; text-decoration-color: #008080; font-weight: bold\">03</span>-<span style=\"color: #008080; text-decoration-color: #008080; font-weight: bold\">09</span> <span style=\"color: #00ff00; text-decoration-color: #00ff00; font-weight: bold\">11:01:25</span> INFO <span style=\"color: #800080; text-decoration-color: #800080; font-weight: bold\">i.a.c.EnvConfigs</span><span style=\"font-weight: bold\">(</span>getEnvOrDefault<span style=\"font-weight: bold\">)</span>:<span style=\"color: #008080; text-decoration-color: #008080; font-weight: bold\">1158</span> - Using default value for environment variable \n",
       "SIDECAR_KUBE_CPU_REQUEST: <span style=\"color: #008000; text-decoration-color: #008000\">'0.1'</span>\n",
       "\n",
       "</pre>\n"
      ],
      "text/plain": [
       "\u001b[1;36m2024\u001b[0m-\u001b[1;36m03\u001b[0m-\u001b[1;36m09\u001b[0m \u001b[1;92m11:01:25\u001b[0m INFO \u001b[1;35mi.a.c.EnvConfigs\u001b[0m\u001b[1m(\u001b[0mgetEnvOrDefault\u001b[1m)\u001b[0m:\u001b[1;36m1158\u001b[0m - Using default value for environment variable \n",
       "SIDECAR_KUBE_CPU_REQUEST: \u001b[32m'0.1'\u001b[0m\n",
       "\n"
      ]
     },
     "metadata": {},
     "output_type": "display_data"
    },
    {
     "data": {
      "text/html": [
       "<pre style=\"white-space:pre;overflow-x:auto;line-height:normal;font-family:Menlo,'DejaVu Sans Mono',consolas,'Courier New',monospace\"><span style=\"color: #008080; text-decoration-color: #008080; font-weight: bold\">2024</span>-<span style=\"color: #008080; text-decoration-color: #008080; font-weight: bold\">03</span>-<span style=\"color: #008080; text-decoration-color: #008080; font-weight: bold\">09</span> <span style=\"color: #00ff00; text-decoration-color: #00ff00; font-weight: bold\">11:01:25</span> INFO <span style=\"color: #800080; text-decoration-color: #800080; font-weight: bold\">i.a.c.EnvConfigs</span><span style=\"font-weight: bold\">(</span>getEnvOrDefault<span style=\"font-weight: bold\">)</span>:<span style=\"color: #008080; text-decoration-color: #008080; font-weight: bold\">1158</span> - Using default value for environment variable \n",
       "SOCAT_KUBE_CPU_REQUEST: <span style=\"color: #008000; text-decoration-color: #008000\">'0.1'</span>\n",
       "\n",
       "</pre>\n"
      ],
      "text/plain": [
       "\u001b[1;36m2024\u001b[0m-\u001b[1;36m03\u001b[0m-\u001b[1;36m09\u001b[0m \u001b[1;92m11:01:25\u001b[0m INFO \u001b[1;35mi.a.c.EnvConfigs\u001b[0m\u001b[1m(\u001b[0mgetEnvOrDefault\u001b[1m)\u001b[0m:\u001b[1;36m1158\u001b[0m - Using default value for environment variable \n",
       "SOCAT_KUBE_CPU_REQUEST: \u001b[32m'0.1'\u001b[0m\n",
       "\n"
      ]
     },
     "metadata": {},
     "output_type": "display_data"
    },
    {
     "data": {
      "text/html": [
       "<pre style=\"white-space:pre;overflow-x:auto;line-height:normal;font-family:Menlo,'DejaVu Sans Mono',consolas,'Courier New',monospace\"><span style=\"color: #008080; text-decoration-color: #008080; font-weight: bold\">2024</span>-<span style=\"color: #008080; text-decoration-color: #008080; font-weight: bold\">03</span>-<span style=\"color: #008080; text-decoration-color: #008080; font-weight: bold\">09</span> <span style=\"color: #00ff00; text-decoration-color: #00ff00; font-weight: bold\">11:01:25</span> INFO <span style=\"color: #800080; text-decoration-color: #800080; font-weight: bold\">i.a.c.EnvConfigs</span><span style=\"font-weight: bold\">(</span>getEnvOrDefault<span style=\"font-weight: bold\">)</span>:<span style=\"color: #008080; text-decoration-color: #008080; font-weight: bold\">1158</span> - Using default value for environment variable \n",
       "LAUNCHDARKLY_KEY: <span style=\"color: #008000; text-decoration-color: #008000\">''</span>\n",
       "\n",
       "</pre>\n"
      ],
      "text/plain": [
       "\u001b[1;36m2024\u001b[0m-\u001b[1;36m03\u001b[0m-\u001b[1;36m09\u001b[0m \u001b[1;92m11:01:25\u001b[0m INFO \u001b[1;35mi.a.c.EnvConfigs\u001b[0m\u001b[1m(\u001b[0mgetEnvOrDefault\u001b[1m)\u001b[0m:\u001b[1;36m1158\u001b[0m - Using default value for environment variable \n",
       "LAUNCHDARKLY_KEY: \u001b[32m''\u001b[0m\n",
       "\n"
      ]
     },
     "metadata": {},
     "output_type": "display_data"
    },
    {
     "data": {
      "text/html": [
       "<pre style=\"white-space:pre;overflow-x:auto;line-height:normal;font-family:Menlo,'DejaVu Sans Mono',consolas,'Courier New',monospace\"><span style=\"color: #008080; text-decoration-color: #008080; font-weight: bold\">2024</span>-<span style=\"color: #008080; text-decoration-color: #008080; font-weight: bold\">03</span>-<span style=\"color: #008080; text-decoration-color: #008080; font-weight: bold\">09</span> <span style=\"color: #00ff00; text-decoration-color: #00ff00; font-weight: bold\">11:01:25</span> INFO <span style=\"color: #800080; text-decoration-color: #800080; font-weight: bold\">i.a.c.EnvConfigs</span><span style=\"font-weight: bold\">(</span>getEnvOrDefault<span style=\"font-weight: bold\">)</span>:<span style=\"color: #008080; text-decoration-color: #008080; font-weight: bold\">1158</span> - Using default value for environment variable \n",
       "LAUNCHDARKLY_KEY: <span style=\"color: #008000; text-decoration-color: #008000\">''</span>\n",
       "\n",
       "</pre>\n"
      ],
      "text/plain": [
       "\u001b[1;36m2024\u001b[0m-\u001b[1;36m03\u001b[0m-\u001b[1;36m09\u001b[0m \u001b[1;92m11:01:25\u001b[0m INFO \u001b[1;35mi.a.c.EnvConfigs\u001b[0m\u001b[1m(\u001b[0mgetEnvOrDefault\u001b[1m)\u001b[0m:\u001b[1;36m1158\u001b[0m - Using default value for environment variable \n",
       "LAUNCHDARKLY_KEY: \u001b[32m''\u001b[0m\n",
       "\n"
      ]
     },
     "metadata": {},
     "output_type": "display_data"
    },
    {
     "data": {
      "text/html": [
       "<pre style=\"white-space:pre;overflow-x:auto;line-height:normal;font-family:Menlo,'DejaVu Sans Mono',consolas,'Courier New',monospace\"><span style=\"color: #008080; text-decoration-color: #008080; font-weight: bold\">2024</span>-<span style=\"color: #008080; text-decoration-color: #008080; font-weight: bold\">03</span>-<span style=\"color: #008080; text-decoration-color: #008080; font-weight: bold\">09</span> <span style=\"color: #00ff00; text-decoration-color: #00ff00; font-weight: bold\">11:01:25</span> INFO <span style=\"color: #800080; text-decoration-color: #800080; font-weight: bold\">i.a.c.EnvConfigs</span><span style=\"font-weight: bold\">(</span>getEnvOrDefault<span style=\"font-weight: bold\">)</span>:<span style=\"color: #008080; text-decoration-color: #008080; font-weight: bold\">1158</span> - Using default value for environment variable \n",
       "FEATURE_FLAG_CLIENT: <span style=\"color: #008000; text-decoration-color: #008000\">''</span>\n",
       "\n",
       "</pre>\n"
      ],
      "text/plain": [
       "\u001b[1;36m2024\u001b[0m-\u001b[1;36m03\u001b[0m-\u001b[1;36m09\u001b[0m \u001b[1;92m11:01:25\u001b[0m INFO \u001b[1;35mi.a.c.EnvConfigs\u001b[0m\u001b[1m(\u001b[0mgetEnvOrDefault\u001b[1m)\u001b[0m:\u001b[1;36m1158\u001b[0m - Using default value for environment variable \n",
       "FEATURE_FLAG_CLIENT: \u001b[32m''\u001b[0m\n",
       "\n"
      ]
     },
     "metadata": {},
     "output_type": "display_data"
    },
    {
     "data": {
      "text/html": [
       "<pre style=\"white-space:pre;overflow-x:auto;line-height:normal;font-family:Menlo,'DejaVu Sans Mono',consolas,'Courier New',monospace\"><span style=\"color: #008080; text-decoration-color: #008080; font-weight: bold\">2024</span>-<span style=\"color: #008080; text-decoration-color: #008080; font-weight: bold\">03</span>-<span style=\"color: #008080; text-decoration-color: #008080; font-weight: bold\">09</span> <span style=\"color: #00ff00; text-decoration-color: #00ff00; font-weight: bold\">11:01:25</span> INFO <span style=\"color: #800080; text-decoration-color: #800080; font-weight: bold\">i.a.c.EnvConfigs</span><span style=\"font-weight: bold\">(</span>getEnvOrDefault<span style=\"font-weight: bold\">)</span>:<span style=\"color: #008080; text-decoration-color: #008080; font-weight: bold\">1158</span> - Using default value for environment variable \n",
       "FEATURE_FLAG_CLIENT: <span style=\"color: #008000; text-decoration-color: #008000\">''</span>\n",
       "\n",
       "</pre>\n"
      ],
      "text/plain": [
       "\u001b[1;36m2024\u001b[0m-\u001b[1;36m03\u001b[0m-\u001b[1;36m09\u001b[0m \u001b[1;92m11:01:25\u001b[0m INFO \u001b[1;35mi.a.c.EnvConfigs\u001b[0m\u001b[1m(\u001b[0mgetEnvOrDefault\u001b[1m)\u001b[0m:\u001b[1;36m1158\u001b[0m - Using default value for environment variable \n",
       "FEATURE_FLAG_CLIENT: \u001b[32m''\u001b[0m\n",
       "\n"
      ]
     },
     "metadata": {},
     "output_type": "display_data"
    },
    {
     "data": {
      "text/html": [
       "<pre style=\"white-space:pre;overflow-x:auto;line-height:normal;font-family:Menlo,'DejaVu Sans Mono',consolas,'Courier New',monospace\"><span style=\"color: #008080; text-decoration-color: #008080; font-weight: bold\">2024</span>-<span style=\"color: #008080; text-decoration-color: #008080; font-weight: bold\">03</span>-<span style=\"color: #008080; text-decoration-color: #008080; font-weight: bold\">09</span> <span style=\"color: #00ff00; text-decoration-color: #00ff00; font-weight: bold\">11:01:25</span> INFO <span style=\"color: #800080; text-decoration-color: #800080; font-weight: bold\">i.a.c.EnvConfigs</span><span style=\"font-weight: bold\">(</span>getEnvOrDefault<span style=\"font-weight: bold\">)</span>:<span style=\"color: #008080; text-decoration-color: #008080; font-weight: bold\">1158</span> - Using default value for environment variable \n",
       "OTEL_COLLECTOR_ENDPOINT: <span style=\"color: #008000; text-decoration-color: #008000\">''</span>\n",
       "\n",
       "</pre>\n"
      ],
      "text/plain": [
       "\u001b[1;36m2024\u001b[0m-\u001b[1;36m03\u001b[0m-\u001b[1;36m09\u001b[0m \u001b[1;92m11:01:25\u001b[0m INFO \u001b[1;35mi.a.c.EnvConfigs\u001b[0m\u001b[1m(\u001b[0mgetEnvOrDefault\u001b[1m)\u001b[0m:\u001b[1;36m1158\u001b[0m - Using default value for environment variable \n",
       "OTEL_COLLECTOR_ENDPOINT: \u001b[32m''\u001b[0m\n",
       "\n"
      ]
     },
     "metadata": {},
     "output_type": "display_data"
    },
    {
     "data": {
      "text/html": [
       "<pre style=\"white-space:pre;overflow-x:auto;line-height:normal;font-family:Menlo,'DejaVu Sans Mono',consolas,'Courier New',monospace\"><span style=\"color: #008080; text-decoration-color: #008080; font-weight: bold\">2024</span>-<span style=\"color: #008080; text-decoration-color: #008080; font-weight: bold\">03</span>-<span style=\"color: #008080; text-decoration-color: #008080; font-weight: bold\">09</span> <span style=\"color: #00ff00; text-decoration-color: #00ff00; font-weight: bold\">11:01:25</span> INFO <span style=\"color: #800080; text-decoration-color: #800080; font-weight: bold\">i.a.c.EnvConfigs</span><span style=\"font-weight: bold\">(</span>getEnvOrDefault<span style=\"font-weight: bold\">)</span>:<span style=\"color: #008080; text-decoration-color: #008080; font-weight: bold\">1158</span> - Using default value for environment variable \n",
       "OTEL_COLLECTOR_ENDPOINT: <span style=\"color: #008000; text-decoration-color: #008000\">''</span>\n",
       "\n",
       "</pre>\n"
      ],
      "text/plain": [
       "\u001b[1;36m2024\u001b[0m-\u001b[1;36m03\u001b[0m-\u001b[1;36m09\u001b[0m \u001b[1;92m11:01:25\u001b[0m INFO \u001b[1;35mi.a.c.EnvConfigs\u001b[0m\u001b[1m(\u001b[0mgetEnvOrDefault\u001b[1m)\u001b[0m:\u001b[1;36m1158\u001b[0m - Using default value for environment variable \n",
       "OTEL_COLLECTOR_ENDPOINT: \u001b[32m''\u001b[0m\n",
       "\n"
      ]
     },
     "metadata": {},
     "output_type": "display_data"
    },
    {
     "data": {
      "text/html": [
       "<pre style=\"white-space:pre;overflow-x:auto;line-height:normal;font-family:Menlo,'DejaVu Sans Mono',consolas,'Courier New',monospace\"><span style=\"color: #008080; text-decoration-color: #008080; font-weight: bold\">2024</span>-<span style=\"color: #008080; text-decoration-color: #008080; font-weight: bold\">03</span>-<span style=\"color: #008080; text-decoration-color: #008080; font-weight: bold\">09</span> <span style=\"color: #00ff00; text-decoration-color: #00ff00; font-weight: bold\">11:01:25</span> INFO <span style=\"color: #800080; text-decoration-color: #800080; font-weight: bold\">i.a.w.p.KubeProcessFactory</span><span style=\"font-weight: bold\">(</span>create<span style=\"font-weight: bold\">)</span>:<span style=\"color: #008080; text-decoration-color: #008080; font-weight: bold\">128</span> - Attempting to start pod = \n",
       "source-mssql-read-<span style=\"color: #008080; text-decoration-color: #008080; font-weight: bold\">10344</span>-<span style=\"color: #008080; text-decoration-color: #008080; font-weight: bold\">0</span>-mjxeg for airbyte/source-mssql:<span style=\"color: #008080; text-decoration-color: #008080; font-weight: bold\">3.7</span>.<span style=\"color: #008080; text-decoration-color: #008080; font-weight: bold\">7</span> with resources \n",
       "ConnectorResourceRequirements<span style=\"font-weight: bold\">[</span><span style=\"color: #808000; text-decoration-color: #808000\">main</span>=<span style=\"color: #800080; text-decoration-color: #800080\">io</span>.airbyte.config.ResourceRequirements@3e5a6e37, \n",
       "<span style=\"color: #808000; text-decoration-color: #808000\">heartbeat</span>=<span style=\"color: #800080; text-decoration-color: #800080\">io</span>.airbyte.config.ResourceRequirements@7bfce681, <span style=\"color: #808000; text-decoration-color: #808000\">stdErr</span>=<span style=\"color: #800080; text-decoration-color: #800080\">io</span>.airbyte.config.ResourceRequirements@14352f7, \n",
       "<span style=\"color: #808000; text-decoration-color: #808000\">stdIn</span>=<span style=\"color: #800080; text-decoration-color: #800080\">null</span>, <span style=\"color: #808000; text-decoration-color: #808000\">stdOut</span>=<span style=\"color: #800080; text-decoration-color: #800080\">io</span>.airbyte.config.ResourceRequirements@42a7a875<span style=\"font-weight: bold\">]</span> and allowedHosts \n",
       "io.airbyte.config.AllowedHosts@2fe15dc0<span style=\"font-weight: bold\">[</span><span style=\"color: #808000; text-decoration-color: #808000\">hosts</span>=,<span style=\"color: #808000; text-decoration-color: #808000\">additionalProperties</span>=<span style=\"font-weight: bold\">{}]</span>\n",
       "\n",
       "</pre>\n"
      ],
      "text/plain": [
       "\u001b[1;36m2024\u001b[0m-\u001b[1;36m03\u001b[0m-\u001b[1;36m09\u001b[0m \u001b[1;92m11:01:25\u001b[0m INFO \u001b[1;35mi.a.w.p.KubeProcessFactory\u001b[0m\u001b[1m(\u001b[0mcreate\u001b[1m)\u001b[0m:\u001b[1;36m128\u001b[0m - Attempting to start pod = \n",
       "source-mssql-read-\u001b[1;36m10344\u001b[0m-\u001b[1;36m0\u001b[0m-mjxeg for airbyte/source-mssql:\u001b[1;36m3.7\u001b[0m.\u001b[1;36m7\u001b[0m with resources \n",
       "ConnectorResourceRequirements\u001b[1m[\u001b[0m\u001b[33mmain\u001b[0m=\u001b[35mio\u001b[0m.airbyte.config.ResourceRequirements@3e5a6e37, \n",
       "\u001b[33mheartbeat\u001b[0m=\u001b[35mio\u001b[0m.airbyte.config.ResourceRequirements@7bfce681, \u001b[33mstdErr\u001b[0m=\u001b[35mio\u001b[0m.airbyte.config.ResourceRequirements@14352f7, \n",
       "\u001b[33mstdIn\u001b[0m=\u001b[35mnull\u001b[0m, \u001b[33mstdOut\u001b[0m=\u001b[35mio\u001b[0m.airbyte.config.ResourceRequirements@42a7a875\u001b[1m]\u001b[0m and allowedHosts \n",
       "io.airbyte.config.AllowedHosts@2fe15dc0\u001b[1m[\u001b[0m\u001b[33mhosts\u001b[0m=,\u001b[33madditionalProperties\u001b[0m=\u001b[1m{\u001b[0m\u001b[1m}\u001b[0m\u001b[1m]\u001b[0m\n",
       "\n"
      ]
     },
     "metadata": {},
     "output_type": "display_data"
    },
    {
     "data": {
      "text/html": [
       "<pre style=\"white-space:pre;overflow-x:auto;line-height:normal;font-family:Menlo,'DejaVu Sans Mono',consolas,'Courier New',monospace\"><span style=\"color: #008080; text-decoration-color: #008080; font-weight: bold\">2024</span>-<span style=\"color: #008080; text-decoration-color: #008080; font-weight: bold\">03</span>-<span style=\"color: #008080; text-decoration-color: #008080; font-weight: bold\">09</span> <span style=\"color: #00ff00; text-decoration-color: #00ff00; font-weight: bold\">11:01:25</span> INFO <span style=\"color: #800080; text-decoration-color: #800080; font-weight: bold\">i.a.w.p.KubeProcessFactory</span><span style=\"font-weight: bold\">(</span>create<span style=\"font-weight: bold\">)</span>:<span style=\"color: #008080; text-decoration-color: #008080; font-weight: bold\">128</span> - Attempting to start pod = \n",
       "destination-s3-write-<span style=\"color: #008080; text-decoration-color: #008080; font-weight: bold\">10344</span>-<span style=\"color: #008080; text-decoration-color: #008080; font-weight: bold\">0</span>-rtjwz for airbyte/destination-s<span style=\"color: #00ff00; text-decoration-color: #00ff00; font-weight: bold\">3:0</span>.<span style=\"color: #008080; text-decoration-color: #008080; font-weight: bold\">5.8</span> with resources \n",
       "ConnectorResourceRequirements<span style=\"font-weight: bold\">[</span><span style=\"color: #808000; text-decoration-color: #808000\">main</span>=<span style=\"color: #800080; text-decoration-color: #800080\">io</span>.airbyte.config.ResourceRequirements@1105c12d, \n",
       "<span style=\"color: #808000; text-decoration-color: #808000\">heartbeat</span>=<span style=\"color: #800080; text-decoration-color: #800080\">io</span>.airbyte.config.ResourceRequirements@7bfce681, <span style=\"color: #808000; text-decoration-color: #808000\">stdErr</span>=<span style=\"color: #800080; text-decoration-color: #800080\">io</span>.airbyte.config.ResourceRequirements@10d81c2e, \n",
       "<span style=\"color: #808000; text-decoration-color: #808000\">stdIn</span>=<span style=\"color: #800080; text-decoration-color: #800080\">io</span>.airbyte.config.ResourceRequirements@<span style=\"color: #008080; text-decoration-color: #008080; font-weight: bold\">6154e722</span>, <span style=\"color: #808000; text-decoration-color: #808000\">stdOut</span>=<span style=\"color: #800080; text-decoration-color: #800080\">io</span>.airbyte.config.ResourceRequirements@<span style=\"color: #008080; text-decoration-color: #008080; font-weight: bold\">41707047</span><span style=\"font-weight: bold\">]</span> and \n",
       "allowedHosts null\n",
       "\n",
       "</pre>\n"
      ],
      "text/plain": [
       "\u001b[1;36m2024\u001b[0m-\u001b[1;36m03\u001b[0m-\u001b[1;36m09\u001b[0m \u001b[1;92m11:01:25\u001b[0m INFO \u001b[1;35mi.a.w.p.KubeProcessFactory\u001b[0m\u001b[1m(\u001b[0mcreate\u001b[1m)\u001b[0m:\u001b[1;36m128\u001b[0m - Attempting to start pod = \n",
       "destination-s3-write-\u001b[1;36m10344\u001b[0m-\u001b[1;36m0\u001b[0m-rtjwz for airbyte/destination-s\u001b[1;92m3:0\u001b[0m.\u001b[1;36m5.8\u001b[0m with resources \n",
       "ConnectorResourceRequirements\u001b[1m[\u001b[0m\u001b[33mmain\u001b[0m=\u001b[35mio\u001b[0m.airbyte.config.ResourceRequirements@1105c12d, \n",
       "\u001b[33mheartbeat\u001b[0m=\u001b[35mio\u001b[0m.airbyte.config.ResourceRequirements@7bfce681, \u001b[33mstdErr\u001b[0m=\u001b[35mio\u001b[0m.airbyte.config.ResourceRequirements@10d81c2e, \n",
       "\u001b[33mstdIn\u001b[0m=\u001b[35mio\u001b[0m.airbyte.config.ResourceRequirements@\u001b[1;36m6154e722\u001b[0m, \u001b[33mstdOut\u001b[0m=\u001b[35mio\u001b[0m.airbyte.config.ResourceRequirements@\u001b[1;36m41707047\u001b[0m\u001b[1m]\u001b[0m and \n",
       "allowedHosts null\n",
       "\n"
      ]
     },
     "metadata": {},
     "output_type": "display_data"
    },
    {
     "data": {
      "text/html": [
       "<pre style=\"white-space:pre;overflow-x:auto;line-height:normal;font-family:Menlo,'DejaVu Sans Mono',consolas,'Courier New',monospace\"><span style=\"color: #008080; text-decoration-color: #008080; font-weight: bold\">2024</span>-<span style=\"color: #008080; text-decoration-color: #008080; font-weight: bold\">03</span>-<span style=\"color: #008080; text-decoration-color: #008080; font-weight: bold\">09</span> <span style=\"color: #00ff00; text-decoration-color: #00ff00; font-weight: bold\">11:04:33</span> source &gt; INFO debezium-sqlserverconnector-facppm1-change-event-source-coordinator \n",
       "<span style=\"color: #800080; text-decoration-color: #800080; font-weight: bold\">i.d.p.s.AbstractSnapshotChangeEventSource</span><span style=\"font-weight: bold\">(</span>execute<span style=\"font-weight: bold\">)</span>:<span style=\"color: #008080; text-decoration-color: #008080; font-weight: bold\">104</span> Snapshot - Final stage\n",
       "\n",
       "</pre>\n"
      ],
      "text/plain": [
       "\u001b[1;36m2024\u001b[0m-\u001b[1;36m03\u001b[0m-\u001b[1;36m09\u001b[0m \u001b[1;92m11:04:33\u001b[0m source > INFO debezium-sqlserverconnector-facppm1-change-event-source-coordinator \n",
       "\u001b[1;35mi.d.p.s.AbstractSnapshotChangeEventSource\u001b[0m\u001b[1m(\u001b[0mexecute\u001b[1m)\u001b[0m:\u001b[1;36m104\u001b[0m Snapshot - Final stage\n",
       "\n"
      ]
     },
     "metadata": {},
     "output_type": "display_data"
    },
    {
     "data": {
      "text/html": [
       "<pre style=\"white-space:pre;overflow-x:auto;line-height:normal;font-family:Menlo,'DejaVu Sans Mono',consolas,'Courier New',monospace\"><span style=\"color: #008080; text-decoration-color: #008080; font-weight: bold\">2024</span>-<span style=\"color: #008080; text-decoration-color: #008080; font-weight: bold\">03</span>-<span style=\"color: #008080; text-decoration-color: #008080; font-weight: bold\">09</span> <span style=\"color: #00ff00; text-decoration-color: #00ff00; font-weight: bold\">11:04:33</span> source &gt; WARN debezium-sqlserverconnector-facppm1-change-event-source-coordinator \n",
       "<span style=\"color: #800080; text-decoration-color: #800080; font-weight: bold\">i.d.p.s.AbstractSnapshotChangeEventSource</span><span style=\"font-weight: bold\">(</span>execute<span style=\"font-weight: bold\">)</span>:<span style=\"color: #008080; text-decoration-color: #008080; font-weight: bold\">115</span> Snapshot was not completed successfully, it will be \n",
       "re-executed upon connector restart\n",
       "\n",
       "</pre>\n"
      ],
      "text/plain": [
       "\u001b[1;36m2024\u001b[0m-\u001b[1;36m03\u001b[0m-\u001b[1;36m09\u001b[0m \u001b[1;92m11:04:33\u001b[0m source > WARN debezium-sqlserverconnector-facppm1-change-event-source-coordinator \n",
       "\u001b[1;35mi.d.p.s.AbstractSnapshotChangeEventSource\u001b[0m\u001b[1m(\u001b[0mexecute\u001b[1m)\u001b[0m:\u001b[1;36m115\u001b[0m Snapshot was not completed successfully, it will be \n",
       "re-executed upon connector restart\n",
       "\n"
      ]
     },
     "metadata": {},
     "output_type": "display_data"
    },
    {
     "data": {
      "text/html": [
       "<pre style=\"white-space:pre;overflow-x:auto;line-height:normal;font-family:Menlo,'DejaVu Sans Mono',consolas,'Courier New',monospace\"><span style=\"color: #008080; text-decoration-color: #008080; font-weight: bold\">2024</span>-<span style=\"color: #008080; text-decoration-color: #008080; font-weight: bold\">03</span>-<span style=\"color: #008080; text-decoration-color: #008080; font-weight: bold\">09</span> <span style=\"color: #00ff00; text-decoration-color: #00ff00; font-weight: bold\">11:04:33</span> source &gt; INFO debezium-sqlserverconnector-facppm1-change-event-source-coordinator \n",
       "<span style=\"color: #800080; text-decoration-color: #800080; font-weight: bold\">i.d.c.s.SqlServerSnapshotChangeEventSource</span><span style=\"font-weight: bold\">(</span>close<span style=\"font-weight: bold\">)</span>:<span style=\"color: #008080; text-decoration-color: #008080; font-weight: bold\">263</span> Removing locking timeout\n",
       "\n",
       "</pre>\n"
      ],
      "text/plain": [
       "\u001b[1;36m2024\u001b[0m-\u001b[1;36m03\u001b[0m-\u001b[1;36m09\u001b[0m \u001b[1;92m11:04:33\u001b[0m source > INFO debezium-sqlserverconnector-facppm1-change-event-source-coordinator \n",
       "\u001b[1;35mi.d.c.s.SqlServerSnapshotChangeEventSource\u001b[0m\u001b[1m(\u001b[0mclose\u001b[1m)\u001b[0m:\u001b[1;36m263\u001b[0m Removing locking timeout\n",
       "\n"
      ]
     },
     "metadata": {},
     "output_type": "display_data"
    },
    {
     "data": {
      "text/html": [
       "<pre style=\"white-space:pre;overflow-x:auto;line-height:normal;font-family:Menlo,'DejaVu Sans Mono',consolas,'Courier New',monospace\"><span style=\"color: #008080; text-decoration-color: #008080; font-weight: bold\">2024</span>-<span style=\"color: #008080; text-decoration-color: #008080; font-weight: bold\">03</span>-<span style=\"color: #008080; text-decoration-color: #008080; font-weight: bold\">09</span> <span style=\"color: #00ff00; text-decoration-color: #00ff00; font-weight: bold\">11:04:33</span> source &gt; ERROR debezium-sqlserverconnector-facppm1-change-event-source-coordinator \n",
       "<span style=\"color: #800080; text-decoration-color: #800080; font-weight: bold\">i.d.p.ErrorHandler</span><span style=\"font-weight: bold\">(</span>setProducerThrowable<span style=\"font-weight: bold\">)</span>:<span style=\"color: #008080; text-decoration-color: #008080; font-weight: bold\">52</span> Producer failure io.debezium.DebeziumException: \n",
       "java.util.concurrent.ExecutionException: java.lang.InterruptedException: Interrupted while snapshotting table \n",
       "facppm1.dbo.CMC_CDDL_CL_LINE\n",
       "\n",
       "</pre>\n"
      ],
      "text/plain": [
       "\u001b[1;36m2024\u001b[0m-\u001b[1;36m03\u001b[0m-\u001b[1;36m09\u001b[0m \u001b[1;92m11:04:33\u001b[0m source > ERROR debezium-sqlserverconnector-facppm1-change-event-source-coordinator \n",
       "\u001b[1;35mi.d.p.ErrorHandler\u001b[0m\u001b[1m(\u001b[0msetProducerThrowable\u001b[1m)\u001b[0m:\u001b[1;36m52\u001b[0m Producer failure io.debezium.DebeziumException: \n",
       "java.util.concurrent.ExecutionException: java.lang.InterruptedException: Interrupted while snapshotting table \n",
       "facppm1.dbo.CMC_CDDL_CL_LINE\n",
       "\n"
      ]
     },
     "metadata": {},
     "output_type": "display_data"
    },
    {
     "data": {
      "text/html": [
       "<pre style=\"white-space:pre;overflow-x:auto;line-height:normal;font-family:Menlo,'DejaVu Sans Mono',consolas,'Courier New',monospace\"><span style=\"color: #008080; text-decoration-color: #008080; font-weight: bold\">2024</span>-<span style=\"color: #008080; text-decoration-color: #008080; font-weight: bold\">03</span>-<span style=\"color: #008080; text-decoration-color: #008080; font-weight: bold\">09</span> <span style=\"color: #00ff00; text-decoration-color: #00ff00; font-weight: bold\">17:05:20</span> INFO <span style=\"color: #800080; text-decoration-color: #800080; font-weight: bold\">i.a.w.p.KubePodProcess</span><span style=\"font-weight: bold\">(</span>close<span style=\"font-weight: bold\">)</span>:<span style=\"color: #008080; text-decoration-color: #008080; font-weight: bold\">809</span> - <span style=\"font-weight: bold\">(</span>pod: airbyte-stg <span style=\"color: #800080; text-decoration-color: #800080\">/</span> source-mssql-read-<span style=\"color: #008080; text-decoration-color: #008080; font-weight: bold\">10349</span>-<span style=\"color: #008080; text-decoration-color: #008080; font-weight: bold\">0</span>-njuda<span style=\"font-weight: bold\">)</span> -\n",
       "Closed all resources for pod\n",
       "\n",
       "</pre>\n"
      ],
      "text/plain": [
       "\u001b[1;36m2024\u001b[0m-\u001b[1;36m03\u001b[0m-\u001b[1;36m09\u001b[0m \u001b[1;92m17:05:20\u001b[0m INFO \u001b[1;35mi.a.w.p.KubePodProcess\u001b[0m\u001b[1m(\u001b[0mclose\u001b[1m)\u001b[0m:\u001b[1;36m809\u001b[0m - \u001b[1m(\u001b[0mpod: airbyte-stg \u001b[35m/\u001b[0m source-mssql-read-\u001b[1;36m10349\u001b[0m-\u001b[1;36m0\u001b[0m-njuda\u001b[1m)\u001b[0m -\n",
       "Closed all resources for pod\n",
       "\n"
      ]
     },
     "metadata": {},
     "output_type": "display_data"
    },
    {
     "data": {
      "text/html": [
       "<pre style=\"white-space:pre;overflow-x:auto;line-height:normal;font-family:Menlo,'DejaVu Sans Mono',consolas,'Courier New',monospace\"><span style=\"color: #008080; text-decoration-color: #008080; font-weight: bold\">2024</span>-<span style=\"color: #008080; text-decoration-color: #008080; font-weight: bold\">03</span>-<span style=\"color: #008080; text-decoration-color: #008080; font-weight: bold\">09</span> <span style=\"color: #00ff00; text-decoration-color: #00ff00; font-weight: bold\">17:05:20</span> INFO <span style=\"color: #800080; text-decoration-color: #800080; font-weight: bold\">i.a.w.g.ReplicationWorkerHelper</span><span style=\"font-weight: bold\">(</span>endOfSource<span style=\"font-weight: bold\">)</span>:<span style=\"color: #008080; text-decoration-color: #008080; font-weight: bold\">169</span> - Total records read: <span style=\"color: #008080; text-decoration-color: #008080; font-weight: bold\">1</span> <span style=\"font-weight: bold\">(</span><span style=\"color: #008080; text-decoration-color: #008080; font-weight: bold\">0</span> bytes<span style=\"font-weight: bold\">)</span>\n",
       "\n",
       "</pre>\n"
      ],
      "text/plain": [
       "\u001b[1;36m2024\u001b[0m-\u001b[1;36m03\u001b[0m-\u001b[1;36m09\u001b[0m \u001b[1;92m17:05:20\u001b[0m INFO \u001b[1;35mi.a.w.g.ReplicationWorkerHelper\u001b[0m\u001b[1m(\u001b[0mendOfSource\u001b[1m)\u001b[0m:\u001b[1;36m169\u001b[0m - Total records read: \u001b[1;36m1\u001b[0m \u001b[1m(\u001b[0m\u001b[1;36m0\u001b[0m bytes\u001b[1m)\u001b[0m\n",
       "\n"
      ]
     },
     "metadata": {},
     "output_type": "display_data"
    },
    {
     "data": {
      "text/html": [
       "<pre style=\"white-space:pre;overflow-x:auto;line-height:normal;font-family:Menlo,'DejaVu Sans Mono',consolas,'Courier New',monospace\"><span style=\"color: #008080; text-decoration-color: #008080; font-weight: bold\">2024</span>-<span style=\"color: #008080; text-decoration-color: #008080; font-weight: bold\">03</span>-<span style=\"color: #008080; text-decoration-color: #008080; font-weight: bold\">09</span> <span style=\"color: #00ff00; text-decoration-color: #00ff00; font-weight: bold\">17:05:20</span> INFO <span style=\"color: #800080; text-decoration-color: #800080; font-weight: bold\">i.a.w.i.FieldSelector</span><span style=\"font-weight: bold\">(</span>reportMetrics<span style=\"font-weight: bold\">)</span>:<span style=\"color: #008080; text-decoration-color: #008080; font-weight: bold\">122</span> - Schema validation was performed to a max of <span style=\"color: #008080; text-decoration-color: #008080; font-weight: bold\">10</span> \n",
       "records with errors per stream.\n",
       "\n",
       "</pre>\n"
      ],
      "text/plain": [
       "\u001b[1;36m2024\u001b[0m-\u001b[1;36m03\u001b[0m-\u001b[1;36m09\u001b[0m \u001b[1;92m17:05:20\u001b[0m INFO \u001b[1;35mi.a.w.i.FieldSelector\u001b[0m\u001b[1m(\u001b[0mreportMetrics\u001b[1m)\u001b[0m:\u001b[1;36m122\u001b[0m - Schema validation was performed to a max of \u001b[1;36m10\u001b[0m \n",
       "records with errors per stream.\n",
       "\n"
      ]
     },
     "metadata": {},
     "output_type": "display_data"
    },
    {
     "data": {
      "text/html": [
       "<pre style=\"white-space:pre;overflow-x:auto;line-height:normal;font-family:Menlo,'DejaVu Sans Mono',consolas,'Courier New',monospace\"><span style=\"color: #008080; text-decoration-color: #008080; font-weight: bold\">2024</span>-<span style=\"color: #008080; text-decoration-color: #008080; font-weight: bold\">03</span>-<span style=\"color: #008080; text-decoration-color: #008080; font-weight: bold\">09</span> <span style=\"color: #00ff00; text-decoration-color: #00ff00; font-weight: bold\">17:05:20</span> INFO <span style=\"color: #800080; text-decoration-color: #800080; font-weight: bold\">i.a.w.g.BufferedReplicationWorker</span><span style=\"font-weight: bold\">(</span>readFromSource<span style=\"font-weight: bold\">)</span>:<span style=\"color: #008080; text-decoration-color: #008080; font-weight: bold\">399</span> - readFromSource: done. \n",
       "<span style=\"font-weight: bold\">(</span>source.isFinished:true, fromSource.isClos<span style=\"color: #00ff00; text-decoration-color: #00ff00; font-weight: bold\">ed:fa</span>lse<span style=\"font-weight: bold\">)</span>\n",
       "\n",
       "</pre>\n"
      ],
      "text/plain": [
       "\u001b[1;36m2024\u001b[0m-\u001b[1;36m03\u001b[0m-\u001b[1;36m09\u001b[0m \u001b[1;92m17:05:20\u001b[0m INFO \u001b[1;35mi.a.w.g.BufferedReplicationWorker\u001b[0m\u001b[1m(\u001b[0mreadFromSource\u001b[1m)\u001b[0m:\u001b[1;36m399\u001b[0m - readFromSource: done. \n",
       "\u001b[1m(\u001b[0msource.isFinished:true, fromSource.isClos\u001b[1;92med:fa\u001b[0mlse\u001b[1m)\u001b[0m\n",
       "\n"
      ]
     },
     "metadata": {},
     "output_type": "display_data"
    },
    {
     "data": {
      "text/html": [
       "<pre style=\"white-space:pre;overflow-x:auto;line-height:normal;font-family:Menlo,'DejaVu Sans Mono',consolas,'Courier New',monospace\"><span style=\"color: #008080; text-decoration-color: #008080; font-weight: bold\">2024</span>-<span style=\"color: #008080; text-decoration-color: #008080; font-weight: bold\">03</span>-<span style=\"color: #008080; text-decoration-color: #008080; font-weight: bold\">09</span> <span style=\"color: #00ff00; text-decoration-color: #00ff00; font-weight: bold\">17:05:20</span> INFO <span style=\"color: #800080; text-decoration-color: #800080; font-weight: bold\">i.a.w.i.HeartbeatTimeoutChaperone</span><span style=\"font-weight: bold\">(</span>runWithHeartbeatThread<span style=\"font-weight: bold\">)</span>:<span style=\"color: #008080; text-decoration-color: #008080; font-weight: bold\">115</span> - thread status<span style=\"color: #808000; text-decoration-color: #808000\">...</span> heartbeat\n",
       "thread: false , replication thread: true\n",
       "\n",
       "</pre>\n"
      ],
      "text/plain": [
       "\u001b[1;36m2024\u001b[0m-\u001b[1;36m03\u001b[0m-\u001b[1;36m09\u001b[0m \u001b[1;92m17:05:20\u001b[0m INFO \u001b[1;35mi.a.w.i.HeartbeatTimeoutChaperone\u001b[0m\u001b[1m(\u001b[0mrunWithHeartbeatThread\u001b[1m)\u001b[0m:\u001b[1;36m115\u001b[0m - thread status\u001b[33m...\u001b[0m heartbeat\n",
       "thread: false , replication thread: true\n",
       "\n"
      ]
     },
     "metadata": {},
     "output_type": "display_data"
    },
    {
     "data": {
      "text/html": [
       "<pre style=\"white-space:pre;overflow-x:auto;line-height:normal;font-family:Menlo,'DejaVu Sans Mono',consolas,'Courier New',monospace\"><span style=\"color: #008080; text-decoration-color: #008080; font-weight: bold\">2024</span>-<span style=\"color: #008080; text-decoration-color: #008080; font-weight: bold\">03</span>-<span style=\"color: #008080; text-decoration-color: #008080; font-weight: bold\">09</span> <span style=\"color: #00ff00; text-decoration-color: #00ff00; font-weight: bold\">17:05:20</span> INFO <span style=\"color: #800080; text-decoration-color: #800080; font-weight: bold\">i.a.w.g.BufferedReplicationWorker</span><span style=\"font-weight: bold\">(</span>processMessage<span style=\"font-weight: bold\">)</span>:<span style=\"color: #008080; text-decoration-color: #008080; font-weight: bold\">439</span> - processMessage: done. \n",
       "<span style=\"font-weight: bold\">(</span>fromSource.isDone:true, forDest.isClos<span style=\"color: #00ff00; text-decoration-color: #00ff00; font-weight: bold\">ed:fa</span>lse<span style=\"font-weight: bold\">)</span>\n",
       "\n",
       "</pre>\n"
      ],
      "text/plain": [
       "\u001b[1;36m2024\u001b[0m-\u001b[1;36m03\u001b[0m-\u001b[1;36m09\u001b[0m \u001b[1;92m17:05:20\u001b[0m INFO \u001b[1;35mi.a.w.g.BufferedReplicationWorker\u001b[0m\u001b[1m(\u001b[0mprocessMessage\u001b[1m)\u001b[0m:\u001b[1;36m439\u001b[0m - processMessage: done. \n",
       "\u001b[1m(\u001b[0mfromSource.isDone:true, forDest.isClos\u001b[1;92med:fa\u001b[0mlse\u001b[1m)\u001b[0m\n",
       "\n"
      ]
     },
     "metadata": {},
     "output_type": "display_data"
    },
    {
     "data": {
      "text/html": [
       "<pre style=\"white-space:pre;overflow-x:auto;line-height:normal;font-family:Menlo,'DejaVu Sans Mono',consolas,'Courier New',monospace\"><span style=\"color: #008080; text-decoration-color: #008080; font-weight: bold\">2024</span>-<span style=\"color: #008080; text-decoration-color: #008080; font-weight: bold\">03</span>-<span style=\"color: #008080; text-decoration-color: #008080; font-weight: bold\">09</span> <span style=\"color: #00ff00; text-decoration-color: #00ff00; font-weight: bold\">17:05:20</span> INFO <span style=\"color: #800080; text-decoration-color: #800080; font-weight: bold\">i.a.w.g.BufferedReplicationWorker</span><span style=\"font-weight: bold\">(</span>writeToDestination<span style=\"font-weight: bold\">)</span>:<span style=\"color: #008080; text-decoration-color: #008080; font-weight: bold\">471</span> - writeToDestination: done. \n",
       "<span style=\"font-weight: bold\">(</span>forDest.isDone:true, isDestRunning:true<span style=\"font-weight: bold\">)</span>\n",
       "\n",
       "</pre>\n"
      ],
      "text/plain": [
       "\u001b[1;36m2024\u001b[0m-\u001b[1;36m03\u001b[0m-\u001b[1;36m09\u001b[0m \u001b[1;92m17:05:20\u001b[0m INFO \u001b[1;35mi.a.w.g.BufferedReplicationWorker\u001b[0m\u001b[1m(\u001b[0mwriteToDestination\u001b[1m)\u001b[0m:\u001b[1;36m471\u001b[0m - writeToDestination: done. \n",
       "\u001b[1m(\u001b[0mforDest.isDone:true, isDestRunning:true\u001b[1m)\u001b[0m\n",
       "\n"
      ]
     },
     "metadata": {},
     "output_type": "display_data"
    },
    {
     "data": {
      "text/html": [
       "<pre style=\"white-space:pre;overflow-x:auto;line-height:normal;font-family:Menlo,'DejaVu Sans Mono',consolas,'Courier New',monospace\"><span style=\"color: #008080; text-decoration-color: #008080; font-weight: bold\">2024</span>-<span style=\"color: #008080; text-decoration-color: #008080; font-weight: bold\">03</span>-<span style=\"color: #008080; text-decoration-color: #008080; font-weight: bold\">09</span> <span style=\"color: #00ff00; text-decoration-color: #00ff00; font-weight: bold\">17:05:21</span> INFO <span style=\"color: #800080; text-decoration-color: #800080; font-weight: bold\">i.a.w.i.s.SyncPersistenceImpl</span><span style=\"font-weight: bold\">(</span>startBackgroundFlushStateTask<span style=\"font-weight: bold\">)</span>:<span style=\"color: #008080; text-decoration-color: #008080; font-weight: bold\">160</span> - starting state flush \n",
       "thread for connectionId <span style=\"color: #ffff00; text-decoration-color: #ffff00\">7d0771c4-b926-4b7d-80f5-583cc1654e55</span>\n",
       "\n",
       "</pre>\n"
      ],
      "text/plain": [
       "\u001b[1;36m2024\u001b[0m-\u001b[1;36m03\u001b[0m-\u001b[1;36m09\u001b[0m \u001b[1;92m17:05:21\u001b[0m INFO \u001b[1;35mi.a.w.i.s.SyncPersistenceImpl\u001b[0m\u001b[1m(\u001b[0mstartBackgroundFlushStateTask\u001b[1m)\u001b[0m:\u001b[1;36m160\u001b[0m - starting state flush \n",
       "thread for connectionId \u001b[93m7d0771c4-b926-4b7d-80f5-583cc1654e55\u001b[0m\n",
       "\n"
      ]
     },
     "metadata": {},
     "output_type": "display_data"
    },
    {
     "data": {
      "text/html": [
       "<pre style=\"white-space:pre;overflow-x:auto;line-height:normal;font-family:Menlo,'DejaVu Sans Mono',consolas,'Courier New',monospace\"><span style=\"color: #008080; text-decoration-color: #008080; font-weight: bold\">2024</span>-<span style=\"color: #008080; text-decoration-color: #008080; font-weight: bold\">03</span>-<span style=\"color: #008080; text-decoration-color: #008080; font-weight: bold\">09</span> <span style=\"color: #00ff00; text-decoration-color: #00ff00; font-weight: bold\">17:05:22</span> INFO <span style=\"color: #800080; text-decoration-color: #800080; font-weight: bold\">i.a.w.p.KubePodProcess</span><span style=\"font-weight: bold\">(</span>close<span style=\"font-weight: bold\">)</span>:<span style=\"color: #008080; text-decoration-color: #008080; font-weight: bold\">809</span> - <span style=\"font-weight: bold\">(</span>pod: airbyte-stg <span style=\"color: #800080; text-decoration-color: #800080\">/</span> \n",
       "destination-s3-write-<span style=\"color: #008080; text-decoration-color: #008080; font-weight: bold\">10349</span>-<span style=\"color: #008080; text-decoration-color: #008080; font-weight: bold\">0</span>-glypp<span style=\"font-weight: bold\">)</span> - Closed all resources for pod\n",
       "\n",
       "</pre>\n"
      ],
      "text/plain": [
       "\u001b[1;36m2024\u001b[0m-\u001b[1;36m03\u001b[0m-\u001b[1;36m09\u001b[0m \u001b[1;92m17:05:22\u001b[0m INFO \u001b[1;35mi.a.w.p.KubePodProcess\u001b[0m\u001b[1m(\u001b[0mclose\u001b[1m)\u001b[0m:\u001b[1;36m809\u001b[0m - \u001b[1m(\u001b[0mpod: airbyte-stg \u001b[35m/\u001b[0m \n",
       "destination-s3-write-\u001b[1;36m10349\u001b[0m-\u001b[1;36m0\u001b[0m-glypp\u001b[1m)\u001b[0m - Closed all resources for pod\n",
       "\n"
      ]
     },
     "metadata": {},
     "output_type": "display_data"
    },
    {
     "data": {
      "text/html": [
       "<pre style=\"white-space:pre;overflow-x:auto;line-height:normal;font-family:Menlo,'DejaVu Sans Mono',consolas,'Courier New',monospace\"><span style=\"color: #008080; text-decoration-color: #008080; font-weight: bold\">2024</span>-<span style=\"color: #008080; text-decoration-color: #008080; font-weight: bold\">03</span>-<span style=\"color: #008080; text-decoration-color: #008080; font-weight: bold\">09</span> <span style=\"color: #00ff00; text-decoration-color: #00ff00; font-weight: bold\">17:05:22</span> INFO <span style=\"color: #800080; text-decoration-color: #800080; font-weight: bold\">i.a.w.g.BufferedReplicationWorker</span><span style=\"font-weight: bold\">(</span>readFromDestination<span style=\"font-weight: bold\">)</span>:<span style=\"color: #008080; text-decoration-color: #008080; font-weight: bold\">507</span> - readFromDestination: done. \n",
       "<span style=\"font-weight: bold\">(</span>writeToDestFail<span style=\"color: #00ff00; text-decoration-color: #00ff00; font-weight: bold\">ed:fa</span>lse, dest.isFinished:true<span style=\"font-weight: bold\">)</span>\n",
       "\n",
       "</pre>\n"
      ],
      "text/plain": [
       "\u001b[1;36m2024\u001b[0m-\u001b[1;36m03\u001b[0m-\u001b[1;36m09\u001b[0m \u001b[1;92m17:05:22\u001b[0m INFO \u001b[1;35mi.a.w.g.BufferedReplicationWorker\u001b[0m\u001b[1m(\u001b[0mreadFromDestination\u001b[1m)\u001b[0m:\u001b[1;36m507\u001b[0m - readFromDestination: done. \n",
       "\u001b[1m(\u001b[0mwriteToDestFail\u001b[1;92med:fa\u001b[0mlse, dest.isFinished:true\u001b[1m)\u001b[0m\n",
       "\n"
      ]
     },
     "metadata": {},
     "output_type": "display_data"
    },
    {
     "data": {
      "text/html": [
       "<pre style=\"white-space:pre;overflow-x:auto;line-height:normal;font-family:Menlo,'DejaVu Sans Mono',consolas,'Courier New',monospace\"><span style=\"color: #008080; text-decoration-color: #008080; font-weight: bold\">2024</span>-<span style=\"color: #008080; text-decoration-color: #008080; font-weight: bold\">03</span>-<span style=\"color: #008080; text-decoration-color: #008080; font-weight: bold\">09</span> <span style=\"color: #00ff00; text-decoration-color: #00ff00; font-weight: bold\">17:05:22</span> INFO <span style=\"color: #800080; text-decoration-color: #800080; font-weight: bold\">i.a.w.g.ReplicationWorkerHelper</span><span style=\"font-weight: bold\">(</span>getReplicationOutput<span style=\"font-weight: bold\">)</span>:<span style=\"color: #008080; text-decoration-color: #008080; font-weight: bold\">244</span> - sync summary: <span style=\"font-weight: bold\">{</span>\n",
       "\n",
       "</pre>\n"
      ],
      "text/plain": [
       "\u001b[1;36m2024\u001b[0m-\u001b[1;36m03\u001b[0m-\u001b[1;36m09\u001b[0m \u001b[1;92m17:05:22\u001b[0m INFO \u001b[1;35mi.a.w.g.ReplicationWorkerHelper\u001b[0m\u001b[1m(\u001b[0mgetReplicationOutput\u001b[1m)\u001b[0m:\u001b[1;36m244\u001b[0m - sync summary: \u001b[1m{\u001b[0m\n",
       "\n"
      ]
     },
     "metadata": {},
     "output_type": "display_data"
    },
    {
     "data": {
      "text/html": [
       "<pre style=\"white-space:pre;overflow-x:auto;line-height:normal;font-family:Menlo,'DejaVu Sans Mono',consolas,'Courier New',monospace\"><span style=\"color: #008080; text-decoration-color: #008080; font-weight: bold\">2024</span>-<span style=\"color: #008080; text-decoration-color: #008080; font-weight: bold\">03</span>-<span style=\"color: #008080; text-decoration-color: #008080; font-weight: bold\">09</span> <span style=\"color: #00ff00; text-decoration-color: #00ff00; font-weight: bold\">17:05:22</span> INFO <span style=\"color: #800080; text-decoration-color: #800080; font-weight: bold\">i.a.w.g.ReplicationWorkerHelper</span><span style=\"font-weight: bold\">(</span>getReplicationOutput<span style=\"font-weight: bold\">)</span>:<span style=\"color: #008080; text-decoration-color: #008080; font-weight: bold\">245</span> - failures: <span style=\"font-weight: bold\">[</span> <span style=\"font-weight: bold\">]</span>\n",
       "\n",
       "</pre>\n"
      ],
      "text/plain": [
       "\u001b[1;36m2024\u001b[0m-\u001b[1;36m03\u001b[0m-\u001b[1;36m09\u001b[0m \u001b[1;92m17:05:22\u001b[0m INFO \u001b[1;35mi.a.w.g.ReplicationWorkerHelper\u001b[0m\u001b[1m(\u001b[0mgetReplicationOutput\u001b[1m)\u001b[0m:\u001b[1;36m245\u001b[0m - failures: \u001b[1m[\u001b[0m \u001b[1m]\u001b[0m\n",
       "\n"
      ]
     },
     "metadata": {},
     "output_type": "display_data"
    },
    {
     "data": {
      "text/html": [
       "<pre style=\"white-space:pre;overflow-x:auto;line-height:normal;font-family:Menlo,'DejaVu Sans Mono',consolas,'Courier New',monospace\"><span style=\"color: #008080; text-decoration-color: #008080; font-weight: bold\">2024</span>-<span style=\"color: #008080; text-decoration-color: #008080; font-weight: bold\">03</span>-<span style=\"color: #008080; text-decoration-color: #008080; font-weight: bold\">09</span> <span style=\"color: #00ff00; text-decoration-color: #00ff00; font-weight: bold\">17:05:22</span> INFO <span style=\"color: #800080; text-decoration-color: #800080; font-weight: bold\">i.a.c.i.LineGobbler</span><span style=\"font-weight: bold\">(</span>voidCall<span style=\"font-weight: bold\">)</span>:<span style=\"color: #008080; text-decoration-color: #008080; font-weight: bold\">149</span> - \n",
       "\n",
       "</pre>\n"
      ],
      "text/plain": [
       "\u001b[1;36m2024\u001b[0m-\u001b[1;36m03\u001b[0m-\u001b[1;36m09\u001b[0m \u001b[1;92m17:05:22\u001b[0m INFO \u001b[1;35mi.a.c.i.LineGobbler\u001b[0m\u001b[1m(\u001b[0mvoidCall\u001b[1m)\u001b[0m:\u001b[1;36m149\u001b[0m - \n",
       "\n"
      ]
     },
     "metadata": {},
     "output_type": "display_data"
    },
    {
     "data": {
      "text/html": [
       "<pre style=\"white-space:pre;overflow-x:auto;line-height:normal;font-family:Menlo,'DejaVu Sans Mono',consolas,'Courier New',monospace\"><span style=\"color: #008080; text-decoration-color: #008080; font-weight: bold\">2024</span>-<span style=\"color: #008080; text-decoration-color: #008080; font-weight: bold\">03</span>-<span style=\"color: #008080; text-decoration-color: #008080; font-weight: bold\">09</span> <span style=\"color: #00ff00; text-decoration-color: #00ff00; font-weight: bold\">17:05:22</span> INFO <span style=\"color: #800080; text-decoration-color: #800080; font-weight: bold\">i.a.c.i.LineGobbler</span><span style=\"font-weight: bold\">(</span>voidCall<span style=\"font-weight: bold\">)</span>:<span style=\"color: #008080; text-decoration-color: #008080; font-weight: bold\">149</span> - ----- END REPLICATION -----\n",
       "\n",
       "</pre>\n"
      ],
      "text/plain": [
       "\u001b[1;36m2024\u001b[0m-\u001b[1;36m03\u001b[0m-\u001b[1;36m09\u001b[0m \u001b[1;92m17:05:22\u001b[0m INFO \u001b[1;35mi.a.c.i.LineGobbler\u001b[0m\u001b[1m(\u001b[0mvoidCall\u001b[1m)\u001b[0m:\u001b[1;36m149\u001b[0m - ----- END REPLICATION -----\n",
       "\n"
      ]
     },
     "metadata": {},
     "output_type": "display_data"
    },
    {
     "data": {
      "text/html": [
       "<pre style=\"white-space:pre;overflow-x:auto;line-height:normal;font-family:Menlo,'DejaVu Sans Mono',consolas,'Courier New',monospace\"><span style=\"color: #008080; text-decoration-color: #008080; font-weight: bold\">2024</span>-<span style=\"color: #008080; text-decoration-color: #008080; font-weight: bold\">03</span>-<span style=\"color: #008080; text-decoration-color: #008080; font-weight: bold\">09</span> <span style=\"color: #00ff00; text-decoration-color: #00ff00; font-weight: bold\">17:05:22</span> INFO <span style=\"color: #800080; text-decoration-color: #800080; font-weight: bold\">i.a.c.i.LineGobbler</span><span style=\"font-weight: bold\">(</span>voidCall<span style=\"font-weight: bold\">)</span>:<span style=\"color: #008080; text-decoration-color: #008080; font-weight: bold\">149</span> - \n",
       "\n",
       "</pre>\n"
      ],
      "text/plain": [
       "\u001b[1;36m2024\u001b[0m-\u001b[1;36m03\u001b[0m-\u001b[1;36m09\u001b[0m \u001b[1;92m17:05:22\u001b[0m INFO \u001b[1;35mi.a.c.i.LineGobbler\u001b[0m\u001b[1m(\u001b[0mvoidCall\u001b[1m)\u001b[0m:\u001b[1;36m149\u001b[0m - \n",
       "\n"
      ]
     },
     "metadata": {},
     "output_type": "display_data"
    },
    {
     "name": "stdout",
     "output_type": "stream",
     "text": [
      "total lines: 43\n",
      "\n",
      "\n",
      "Lines:\n",
      "total lines: 3394\n"
     ]
    }
   ],
   "source": [
    "import rich\n",
    "\n",
    "pattern = (\n",
    "    # r\"^(\\d{4}-\\d{2}-\\d{2} \\d{2}:\\d{2}:\\d{2})|\"\n",
    "    # r\"(\\d{4}-\\d{2}-\\d{2} \\d{2}:\\d{2}:\\d{2} .*?(?=\\n\\d{4}-\\d{2}-\\d{2} \\d{2}:\\d{2}:\\d{2}|$))\"\n",
    "    r\"(\\d{4}-\\d{2}-\\d{2} \\d{2}:\\d{2}:\\d{2} .*?(?=\\n\\d{4}-\\d{2}-\\d{2} \\d{2}:\\d{2}:\\d{2}|$))|\"\n",
    "    r\"(\\d{4}-\\d{2}-\\d{2} \\d{2}:\\d{2}:\\d{2} .+? \\d{4}-\\d{2}-\\d{2} \\d{2}:\\d{2}:\\d{2} .*?(?=\\n\\d{4}-\\d{2}-\\d{2} \\d{2}:\\d{2}:\\d{2}|$))\"\n",
    ")\n",
    "# pattern = ''.join(pattern)\n",
    "print(pattern)\n",
    "line_parser = LineParser()\n",
    "entry_parser = RegexParser(pattern, re.MULTILINE|re.DOTALL)\n",
    "\n",
    "entries = [result for result in entry_parser(unstructured_string)]\n",
    "lines = [result for result in line_parser(unstructured_string)]\n",
    "\n",
    "print(\"Entries\")\n",
    "for result in entries:\n",
    "    rich.print(f\"{result}\\n\")\n",
    "print(f\"total lines: {len(entries)}\")\n",
    "\n",
    "print(\"\\n\")\n",
    "print(\"Lines:\")\n",
    "# for result in lines:\n",
    "#     rich.print(f\"{result}\\n\")\n",
    "print(f\"total lines: {len(lines)}\")    "
   ]
  },
  {
   "cell_type": "code",
   "execution_count": null,
   "id": "c23ee137-c6f7-400f-a19a-323fa0d19e64",
   "metadata": {},
   "outputs": [],
   "source": []
  }
 ],
 "metadata": {
  "kernelspec": {
   "display_name": "Python 3 (ipykernel)",
   "language": "python",
   "name": "python3"
  },
  "language_info": {
   "codemirror_mode": {
    "name": "ipython",
    "version": 3
   },
   "file_extension": ".py",
   "mimetype": "text/x-python",
   "name": "python",
   "nbconvert_exporter": "python",
   "pygments_lexer": "ipython3",
   "version": "3.12.1"
  }
 },
 "nbformat": 4,
 "nbformat_minor": 5
}
